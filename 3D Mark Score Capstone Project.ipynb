{
 "cells": [
  {
   "cell_type": "markdown",
   "metadata": {
    "toc": true
   },
   "source": [
    "<h1>Table of Contents<span class=\"tocSkip\"></span></h1>\n",
    "<div class=\"toc\"><ul class=\"toc-item\"><li><span><a href=\"#3D-Mark---The-Optimal-build\" data-toc-modified-id=\"3D-Mark---The-Optimal-build-1\"><span class=\"toc-item-num\">1&nbsp;&nbsp;</span>3D Mark - The Optimal build</a></span><ul class=\"toc-item\"><li><span><a href=\"#Features\" data-toc-modified-id=\"Features-1.1\"><span class=\"toc-item-num\">1.1&nbsp;&nbsp;</span>Features</a></span></li><li><span><a href=\"#Web-Scraping\" data-toc-modified-id=\"Web-Scraping-1.2\"><span class=\"toc-item-num\">1.2&nbsp;&nbsp;</span>Web Scraping</a></span><ul class=\"toc-item\"><li><ul class=\"toc-item\"><li><span><a href=\"#Note:-There-will-be-some-user_id's-where-there-will-not-be-any-results-found.-This-is-due-to-the-fact-that-the-user-has-taken-down-their-results-from-the-website.\" data-toc-modified-id=\"Note:-There-will-be-some-user_id's-where-there-will-not-be-any-results-found.-This-is-due-to-the-fact-that-the-user-has-taken-down-their-results-from-the-website.-1.2.0.1\"><span class=\"toc-item-num\">1.2.0.1&nbsp;&nbsp;</span>Note: There will be some user_id's where there will not be any results found. This is due to the fact that the user has taken down their results from the website.</a></span></li><li><span><a href=\"#If-there-is-nothing-on-that-user,-we-will-replace-with-a-NaN-and-then-remove-them-later-on.\" data-toc-modified-id=\"If-there-is-nothing-on-that-user,-we-will-replace-with-a-NaN-and-then-remove-them-later-on.-1.2.0.2\"><span class=\"toc-item-num\">1.2.0.2&nbsp;&nbsp;</span>If there is nothing on that user, we will replace with a NaN and then remove them later on.</a></span></li></ul></li></ul></li></ul></li><li><span><a href=\"#GPU\" data-toc-modified-id=\"GPU-2\"><span class=\"toc-item-num\">2&nbsp;&nbsp;</span>GPU</a></span></li><li><span><a href=\"#CPU\" data-toc-modified-id=\"CPU-3\"><span class=\"toc-item-num\">3&nbsp;&nbsp;</span>CPU</a></span><ul class=\"toc-item\"><li><span><a href=\"#Trial-Runs-with-just-1-user_id\" data-toc-modified-id=\"Trial-Runs-with-just-1-user_id-3.1\"><span class=\"toc-item-num\">3.1&nbsp;&nbsp;</span>Trial Runs with just 1 user_id</a></span></li></ul></li><li><span><a href=\"#THE-DATA\" data-toc-modified-id=\"THE-DATA-4\"><span class=\"toc-item-num\">4&nbsp;&nbsp;</span>THE DATA</a></span></li><li><span><a href=\"#Cleaning-&amp;-EDA\" data-toc-modified-id=\"Cleaning-&amp;-EDA-5\"><span class=\"toc-item-num\">5&nbsp;&nbsp;</span>Cleaning &amp; EDA</a></span><ul class=\"toc-item\"><li><span><a href=\"#EDA-on-numerical-data\" data-toc-modified-id=\"EDA-on-numerical-data-5.1\"><span class=\"toc-item-num\">5.1&nbsp;&nbsp;</span>EDA on numerical data</a></span><ul class=\"toc-item\"><li><span><a href=\"#Looking-at-the-distribution-of-the-3DMark-Score\" data-toc-modified-id=\"Looking-at-the-distribution-of-the-3DMark-Score-5.1.1\"><span class=\"toc-item-num\">5.1.1&nbsp;&nbsp;</span>Looking at the distribution of the 3DMark Score</a></span></li><li><span><a href=\"#Looking-at-the-distribution-of-other-numerical-features\" data-toc-modified-id=\"Looking-at-the-distribution-of-other-numerical-features-5.1.2\"><span class=\"toc-item-num\">5.1.2&nbsp;&nbsp;</span>Looking at the distribution of other numerical features</a></span><ul class=\"toc-item\"><li><span><a href=\"#CPU_MAX_CLOCK_SPEED_UNDER_LOAD\" data-toc-modified-id=\"CPU_MAX_CLOCK_SPEED_UNDER_LOAD-5.1.2.1\"><span class=\"toc-item-num\">5.1.2.1&nbsp;&nbsp;</span>CPU_MAX_CLOCK_SPEED_UNDER_LOAD</a></span></li><li><span><a href=\"#GPU_CORE_CLOCK_SPEED\" data-toc-modified-id=\"GPU_CORE_CLOCK_SPEED-5.1.2.2\"><span class=\"toc-item-num\">5.1.2.2&nbsp;&nbsp;</span>GPU_CORE_CLOCK_SPEED</a></span></li><li><span><a href=\"#GPU_SUBSYSTEM_VENDOR-,-GPU_SUBSYSTEM_MODEL,-WINDOWS_MAJOR_MODEL,-WINDOWS_MAJOR_MODEL\" data-toc-modified-id=\"GPU_SUBSYSTEM_VENDOR-,-GPU_SUBSYSTEM_MODEL,-WINDOWS_MAJOR_MODEL,-WINDOWS_MAJOR_MODEL-5.1.2.3\"><span class=\"toc-item-num\">5.1.2.3&nbsp;&nbsp;</span>GPU_SUBSYSTEM_VENDOR , GPU_SUBSYSTEM_MODEL, WINDOWS_MAJOR_MODEL, WINDOWS_MAJOR_MODEL</a></span></li><li><span><a href=\"#Nothign\" data-toc-modified-id=\"Nothign-5.1.2.4\"><span class=\"toc-item-num\">5.1.2.4&nbsp;&nbsp;</span>Nothign</a></span></li></ul></li><li><span><a href=\"#Determining-whether-GPU-is-NVIDIA-or-AMD\" data-toc-modified-id=\"Determining-whether-GPU-is-NVIDIA-or-AMD-5.1.3\"><span class=\"toc-item-num\">5.1.3&nbsp;&nbsp;</span>Determining whether GPU is NVIDIA or AMD</a></span></li></ul></li></ul></li><li><span><a href=\"#COUNT-VECTORIZING\" data-toc-modified-id=\"COUNT-VECTORIZING-6\"><span class=\"toc-item-num\">6&nbsp;&nbsp;</span>COUNT VECTORIZING</a></span><ul class=\"toc-item\"><li><ul class=\"toc-item\"><li><ul class=\"toc-item\"><li><span><a href=\"#We-will-be-doing-some-NLP-and-therefore-will-be-using-the-CountVectorizer-function-to-have-a-look-at-the-number-of-times-a-particular-word-will-come-up.\" data-toc-modified-id=\"We-will-be-doing-some-NLP-and-therefore-will-be-using-the-CountVectorizer-function-to-have-a-look-at-the-number-of-times-a-particular-word-will-come-up.-6.0.0.1\"><span class=\"toc-item-num\">6.0.0.1&nbsp;&nbsp;</span>We will be doing some NLP and therefore will be using the CountVectorizer function to have a look at the number of times a particular word will come up.</a></span></li><li><span><a href=\"#These-are-the-columns-we-will-be-count-vectorizing:\" data-toc-modified-id=\"These-are-the-columns-we-will-be-count-vectorizing:-6.0.0.2\"><span class=\"toc-item-num\">6.0.0.2&nbsp;&nbsp;</span>These are the columns we will be count vectorizing:</a></span></li></ul></li></ul></li></ul></li><li><span><a href=\"#Standardising-Data\" data-toc-modified-id=\"Standardising-Data-7\"><span class=\"toc-item-num\">7&nbsp;&nbsp;</span>Standardising Data</a></span></li><li><span><a href=\"#Power-Transformation\" data-toc-modified-id=\"Power-Transformation-8\"><span class=\"toc-item-num\">8&nbsp;&nbsp;</span>Power Transformation</a></span><ul class=\"toc-item\"><li><ul class=\"toc-item\"><li><span><a href=\"#Checking-the-distribution-of-features\" data-toc-modified-id=\"Checking-the-distribution-of-features-8.0.1\"><span class=\"toc-item-num\">8.0.1&nbsp;&nbsp;</span>Checking the distribution of features</a></span></li></ul></li></ul></li><li><span><a href=\"#Applying-Different-Models\" data-toc-modified-id=\"Applying-Different-Models-9\"><span class=\"toc-item-num\">9&nbsp;&nbsp;</span>Applying Different Models</a></span><ul class=\"toc-item\"><li><span><a href=\"#Simple-Linear-Regression\" data-toc-modified-id=\"Simple-Linear-Regression-9.1\"><span class=\"toc-item-num\">9.1&nbsp;&nbsp;</span>Simple Linear Regression</a></span></li><li><span><a href=\"#ElasticNetCV\" data-toc-modified-id=\"ElasticNetCV-9.2\"><span class=\"toc-item-num\">9.2&nbsp;&nbsp;</span>ElasticNetCV</a></span><ul class=\"toc-item\"><li><span><a href=\"#Attritbutes-for-ElasticNetCV\" data-toc-modified-id=\"Attritbutes-for-ElasticNetCV-9.2.1\"><span class=\"toc-item-num\">9.2.1&nbsp;&nbsp;</span>Attritbutes for ElasticNetCV</a></span></li><li><span><a href=\"#Adding-Polynomial-Features\" data-toc-modified-id=\"Adding-Polynomial-Features-9.2.2\"><span class=\"toc-item-num\">9.2.2&nbsp;&nbsp;</span>Adding Polynomial Features</a></span></li></ul></li><li><span><a href=\"#DecisionTreeRegressor\" data-toc-modified-id=\"DecisionTreeRegressor-9.3\"><span class=\"toc-item-num\">9.3&nbsp;&nbsp;</span>DecisionTreeRegressor</a></span><ul class=\"toc-item\"><li><span><a href=\"#GridSearching-Decision-Tree\" data-toc-modified-id=\"GridSearching-Decision-Tree-9.3.1\"><span class=\"toc-item-num\">9.3.1&nbsp;&nbsp;</span>GridSearching Decision Tree</a></span></li><li><span><a href=\"#Attributes-for-Gridsearch:\" data-toc-modified-id=\"Attributes-for-Gridsearch:-9.3.2\"><span class=\"toc-item-num\">9.3.2&nbsp;&nbsp;</span>Attributes for Gridsearch:</a></span></li></ul></li><li><span><a href=\"#RandomForestRegressor\" data-toc-modified-id=\"RandomForestRegressor-9.4\"><span class=\"toc-item-num\">9.4&nbsp;&nbsp;</span>RandomForestRegressor</a></span></li></ul></li><li><span><a href=\"#Extra-bits\" data-toc-modified-id=\"Extra-bits-10\"><span class=\"toc-item-num\">10&nbsp;&nbsp;</span>Extra bits</a></span><ul class=\"toc-item\"><li><ul class=\"toc-item\"><li><span><a href=\"#DataFrames\" data-toc-modified-id=\"DataFrames-10.0.1\"><span class=\"toc-item-num\">10.0.1&nbsp;&nbsp;</span>DataFrames</a></span></li></ul></li><li><span><a href=\"#AWS\" data-toc-modified-id=\"AWS-10.1\"><span class=\"toc-item-num\">10.1&nbsp;&nbsp;</span>AWS</a></span><ul class=\"toc-item\"><li><span><a href=\"#Finding-the-Unique-Brands\" data-toc-modified-id=\"Finding-the-Unique-Brands-10.1.1\"><span class=\"toc-item-num\">10.1.1&nbsp;&nbsp;</span>Finding the Unique Brands</a></span></li><li><span><a href=\"#DESCRIPTION\" data-toc-modified-id=\"DESCRIPTION-10.1.2\"><span class=\"toc-item-num\">10.1.2&nbsp;&nbsp;</span>DESCRIPTION</a></span></li></ul></li></ul></li><li><span><a href=\"#Presentation\" data-toc-modified-id=\"Presentation-11\"><span class=\"toc-item-num\">11&nbsp;&nbsp;</span>Presentation</a></span></li></ul></div>"
   ]
  },
  {
   "cell_type": "markdown",
   "metadata": {},
   "source": [
    "# 3D Mark - The Optimal build"
   ]
  },
  {
   "cell_type": "markdown",
   "metadata": {},
   "source": [
    "In the world of technology, PCs have been a widely used device for a number of reasons, one of which is used for gaming. PC Gaming has been rapidly increasing over the coming decades due to the versatility of the different builds of a computer. Prices of gaming computers can range from around  £500 all the way up to north of £15,000 and nowadays PCs are being custom built by individuals or are being built by comissioners.\n",
    "\n",
    "Once the PC may be built they may be content with the completed build however, they may come to the realisation that they may not be able to play a particular game ( E.g. Dark Souls 3 ) due to the fact that the CPU/GPU may not be performing as well as they had hoped and therefore they must purchase a brand new component and waste the original component. Things such as GPU's and RAM cards may be re-used and re-sold, but things such as the CPU, Motherboards tend not to be something that people will sell as it is very difficult to remove the CPU from the Motherboard once inserted due to the fact that the pins that connect the two together are very fragile and as soon as one of the pins are damaged/bent , they cannot be used again.\n",
    "\n",
    "Certain PC builds will be run certain games smoothly ( over 60 frames/sec ) and some may not and we are able to have a good idea of whether it does or not by running 3DMark.\n",
    "\n",
    "3DMark is a benchmarking tool that is run on a particular PC and runs a simulation. This simulation primarily takes into account the GPU and the CPU and sees the different kind of intensities they are able to handle with ease. At the end of the simulation, it provides a 3DMark Score where the higher value indicates that it has a higher average performance throughout all different graphic settings.\n",
    "\n",
    "In This capstone project, we will be attempting to predict the 3DMark Score a particular Computer build will have and thus we will be able to have an idea of whether they will be running smoothly or not. \n",
    "\n",
    "We could decide whether we can want to cluster these groups and see if certain builds have similarities and discinction, or we could determine if they will run over 60FPS on average, for all different genres of games."
   ]
  },
  {
   "cell_type": "markdown",
   "metadata": {},
   "source": [
    "## Features"
   ]
  },
  {
   "cell_type": "markdown",
   "metadata": {},
   "source": [
    "There are many different features of a PC and we will be looking at the components that the  majority of modern custom built PCs will have. The following will not be considered:\n",
    "\n",
    "* Case / Chassis\n",
    "* Floppy Disk Drive\n",
    "* CD-rom Drive\n",
    "* Modem\n",
    "* Sound Card\n",
    "* SSD / HDD\n",
    "\n",
    "The reason for not including some may be due to the fact that they are redundant / have no effect on the actual simulation.\n",
    "\n",
    "Components that are considered :\n",
    "\n",
    "* GPU ( Graphics Processing Unit )\n",
    "* CPU ( Central Processing Unit )\n",
    "* RAM ( Random Access Memory )\n",
    "* Power Supply\n",
    "* Motherboard\n",
    "* Monitor\n",
    "\n",
    "The GPU, CPU and RAM can also vary due to the model type aswell as whether the CPU is able to be overclocked or not. So we will also be looking into the following features aswell:\n",
    "\n",
    "* GPU\n",
    "    * Manufacturer\n",
    "    * \\# Of GPUs ( 1 - 4)\n",
    "    * SLI = True/False\n",
    "    * Clockspeed (MHz)\n",
    "    * VRAM\n",
    "    * VRAM Bandwidth\n",
    "   \n",
    "* CPU\n",
    "    * Base Clockspeed (Mhz)\n",
    "    * Turbo Clockspeed (Mhz)\n",
    "    * MicroArchitechture\n",
    "    * \\# of Cores\n",
    "    * \\# of Threads"
   ]
  },
  {
   "cell_type": "markdown",
   "metadata": {},
   "source": [
    "## Web Scraping"
   ]
  },
  {
   "cell_type": "markdown",
   "metadata": {},
   "source": [
    "The data will be kindly provided by the company 3DMark,however, while waiting for them to provide the data, I will be scraping some of the data on their website in order to be ready to use my functions well in advance."
   ]
  },
  {
   "cell_type": "markdown",
   "metadata": {},
   "source": [
    "#### Note: There will be some user_id's where there will not be any results found. This is due to the fact that the user has taken down their results from the website.\n",
    "\n",
    "#### If there is nothing on that user, we will replace with a NaN and then remove them later on."
   ]
  },
  {
   "cell_type": "code",
   "execution_count": null,
   "metadata": {},
   "outputs": [],
   "source": [
    "results = []\n",
    "users=[]\n",
    "for iterations in range(3):\n",
    "    user_id = random.randint(10000,10000000)\n",
    "    users.append(user_id)\n",
    "    url= \"https://www.3dmark.com/spy/{}\".format(user_id)\n",
    "    r= requests.get(url)\n",
    "    soup=BeautifulSoup(r.text, 'html.parser')\n",
    "    try:\n",
    "        results.append(soup.find('div',attrs={'class':'result-details mr'}))\n",
    "    except:\n",
    "        results.append(np.nan)\n",
    "        \n",
    "        \n",
    "        "
   ]
  },
  {
   "cell_type": "markdown",
   "metadata": {
    "heading_collapsed": true
   },
   "source": [
    "# GPU"
   ]
  },
  {
   "cell_type": "code",
   "execution_count": null,
   "metadata": {
    "hidden": true
   },
   "outputs": [],
   "source": [
    "# Not required\n",
    "def GPU_names(results):\n",
    "    gpu_name=[]\n",
    "    for user in results:\n",
    "        try:\n",
    "            GPU_info = user.find_all('dl',attrs={'class':'data clearfix'})[0]\n",
    "        except:\n",
    "            gpu_name.append(np.nan)\n",
    "        gpu_name.append(GPU_info.find('a',attrs={'class':'hw-link'}).text.strip())\n",
    "    return gpu_name"
   ]
  },
  {
   "cell_type": "code",
   "execution_count": null,
   "metadata": {
    "hidden": true
   },
   "outputs": [],
   "source": [
    "GPU_names(results)"
   ]
  },
  {
   "cell_type": "code",
   "execution_count": null,
   "metadata": {
    "hidden": true
   },
   "outputs": [],
   "source": [
    "all_users=[]\n",
    "for user in range(len(results)):\n",
    "    info=[]\n",
    "    for x in results[user].find_all('dl',attrs={'class':'data clearfix'}):\n",
    "        for i in x.find_all('dd'):\n",
    "            info.append(i.text.strip())\n",
    "    all_users.append(info)"
   ]
  },
  {
   "cell_type": "code",
   "execution_count": null,
   "metadata": {
    "hidden": true
   },
   "outputs": [],
   "source": [
    "all_users[0]"
   ]
  },
  {
   "cell_type": "code",
   "execution_count": null,
   "metadata": {
    "hidden": true
   },
   "outputs": [],
   "source": [
    "info_names=[]\n",
    "for x in results[0].find_all('dl',attrs={'class':'data clearfix'}):\n",
    "    for i in x.find_all('dt'):\n",
    "        info_names.append(i.text.strip())"
   ]
  },
  {
   "cell_type": "code",
   "execution_count": null,
   "metadata": {
    "hidden": true
   },
   "outputs": [],
   "source": [
    "info_names"
   ]
  },
  {
   "cell_type": "code",
   "execution_count": null,
   "metadata": {
    "hidden": true
   },
   "outputs": [],
   "source": [
    "new_all_users=[]\n",
    "for user in all_users:\n",
    "    users=[]\n",
    "    for item in user:\n",
    "        if item not in users:\n",
    "            users.append(item)\n",
    "    new_all_users.append(users)\n",
    "    \n",
    "all_users=new_all_users.copy()"
   ]
  },
  {
   "cell_type": "code",
   "execution_count": null,
   "metadata": {
    "hidden": true,
    "scrolled": true
   },
   "outputs": [],
   "source": [
    "all_users"
   ]
  },
  {
   "cell_type": "code",
   "execution_count": null,
   "metadata": {
    "hidden": true
   },
   "outputs": [],
   "source": [
    "pd.DataFrame(all_users[:2],columns=info_names)"
   ]
  },
  {
   "cell_type": "code",
   "execution_count": null,
   "metadata": {
    "hidden": true
   },
   "outputs": [],
   "source": [
    "GPU_info_vars=[]\n",
    "for x in GPU_info.find_all('dt'):\n",
    "    GPU_info_vars.append(x.text)"
   ]
  },
  {
   "cell_type": "code",
   "execution_count": null,
   "metadata": {
    "hidden": true
   },
   "outputs": [],
   "source": [
    "GPU_info_vars"
   ]
  },
  {
   "cell_type": "code",
   "execution_count": null,
   "metadata": {
    "hidden": true
   },
   "outputs": [],
   "source": [
    "GPU_info_stats=[]\n",
    "for x in GPU_info.find_all('dd'):\n",
    "    GPU_info_stats.append(x.text.strip())"
   ]
  },
  {
   "cell_type": "code",
   "execution_count": null,
   "metadata": {
    "hidden": true
   },
   "outputs": [],
   "source": [
    "CPU_info.find_all('dd'):"
   ]
  },
  {
   "cell_type": "markdown",
   "metadata": {
    "heading_collapsed": true
   },
   "source": [
    "# CPU"
   ]
  },
  {
   "cell_type": "code",
   "execution_count": null,
   "metadata": {
    "hidden": true
   },
   "outputs": [],
   "source": [
    "GPU_results={}\n",
    "CPU_results={}\n",
    "for x in range(len(results)):\n",
    "    GPU_info=results[x].find_all('dl',attrs={'class':'data clearfix'})[0]\n",
    "    CPU_info=results[x].find_all('dl',attrs={'class':'data clearfix'})[1]\n",
    "    \n",
    "    final_results[users[x]['GPU']]={x.text:y.text.strip() for x,y in zip(GPU_info.find_all('dt'),GPU_info.find_all('dd'))}\n",
    "    CPU_results[users[x]]={x.text:y.text.strip() for x,y in zip(CPU_info.find_all('dt'),CPU_info.find_all('dd'))}"
   ]
  },
  {
   "cell_type": "code",
   "execution_count": null,
   "metadata": {
    "hidden": true
   },
   "outputs": [],
   "source": [
    "new_results={x.text:y.text.strip() for x,y in zip(CPU_info.find_all('dt'),CPU_info.find_all('dd'))}"
   ]
  },
  {
   "cell_type": "code",
   "execution_count": null,
   "metadata": {
    "hidden": true
   },
   "outputs": [],
   "source": [
    "#Not required\n",
    "def CPU_names(results):\n",
    "    cpu_name=[]\n",
    "    for user in results:\n",
    "        try:\n",
    "            cpu_info = user.find_all('dl',attrs={'class':'data clearfix'})[1]\n",
    "        except:\n",
    "            cpu_name.append(np.nan)\n",
    "        cpu_name.append(cpu_info.find('a',attrs={'class':'hw-link'}).text.strip())\n",
    "    return cpu_name"
   ]
  },
  {
   "cell_type": "code",
   "execution_count": null,
   "metadata": {
    "hidden": true
   },
   "outputs": [],
   "source": [
    "CPU_names(results)"
   ]
  },
  {
   "cell_type": "code",
   "execution_count": null,
   "metadata": {
    "hidden": true
   },
   "outputs": [],
   "source": [
    "CPU_info=results[0].find_all('dl',attrs={'class':'data clearfix'})[1]"
   ]
  },
  {
   "cell_type": "code",
   "execution_count": null,
   "metadata": {
    "hidden": true
   },
   "outputs": [],
   "source": [
    "CPU_info=[]\n",
    "for user in results:\n",
    "    CPU_info.append(user.find_all('dl',attrs={\"class\",'data clearifx'})[1])"
   ]
  },
  {
   "cell_type": "code",
   "execution_count": null,
   "metadata": {
    "hidden": true
   },
   "outputs": [],
   "source": [
    "CPU_info_vars=[]\n",
    "for x in CPU_info.find_all('dt'):\n",
    "    CPU_info_vars.append(x.text)"
   ]
  },
  {
   "cell_type": "code",
   "execution_count": null,
   "metadata": {
    "hidden": true
   },
   "outputs": [],
   "source": [
    "CPU_info_vars"
   ]
  },
  {
   "cell_type": "code",
   "execution_count": null,
   "metadata": {
    "hidden": true
   },
   "outputs": [],
   "source": [
    "CPU_info_stats=[]\n",
    "for x in CPU_info.find_all('dd'):\n",
    "    CPU_info_stats.append(x.text.strip())"
   ]
  },
  {
   "cell_type": "code",
   "execution_count": null,
   "metadata": {
    "hidden": true
   },
   "outputs": [],
   "source": [
    "CPU_info_stats"
   ]
  },
  {
   "cell_type": "code",
   "execution_count": null,
   "metadata": {
    "hidden": true,
    "scrolled": false
   },
   "outputs": [],
   "source": [
    "boxes = results[1].find_all('dl',{'class':'data clearfix'})\n",
    "dds = boxes[0].find_all('dd')\n",
    "\n",
    "dds"
   ]
  },
  {
   "cell_type": "markdown",
   "metadata": {
    "hidden": true
   },
   "source": [
    "## Trial Runs with just 1 user_id"
   ]
  },
  {
   "cell_type": "code",
   "execution_count": null,
   "metadata": {
    "hidden": true
   },
   "outputs": [],
   "source": [
    "url= \"https://www.3dmark.com/spy/10000001\"\n",
    "r=requests.get(url)\n",
    "soup=BeautifulSoup(r.text,'html.parser')"
   ]
  },
  {
   "cell_type": "code",
   "execution_count": null,
   "metadata": {
    "hidden": true
   },
   "outputs": [],
   "source": [
    "GPU_info =soup.find_all('dl',attrs={'class':'data clearfix'})[0]\n",
    "CPU_info =soup.find_all('dl',attrs={'class':'data clearfix'})[1]\n",
    "misc_info = soup.find_all('dl',attrs={'class':'data clearfix'})[2]"
   ]
  },
  {
   "cell_type": "code",
   "execution_count": null,
   "metadata": {
    "hidden": true,
    "scrolled": false
   },
   "outputs": [],
   "source": [
    "GPU_info"
   ]
  },
  {
   "cell_type": "code",
   "execution_count": null,
   "metadata": {
    "hidden": true
   },
   "outputs": [],
   "source": [
    "def extract_cpu_name(results):\n",
    "    cpu_name=[]\n",
    "    for user in results:\n",
    "        CPU_info = user.find_all('dl',attrs={'class':'data clearfix'})[1]\n",
    "        try:\n",
    "            cpu_name.append(CPU_info.find('a',attrs={'class':'hw-link'}).text)\n",
    "        except:\n",
    "            cpu_name.append\n",
    "    return cpu_name"
   ]
  },
  {
   "cell_type": "code",
   "execution_count": null,
   "metadata": {
    "hidden": true
   },
   "outputs": [],
   "source": [
    "soup.find_all('dl',attrs={'class':'data clearfix'})[1].find_all('dd')[1].text"
   ]
  },
  {
   "cell_type": "code",
   "execution_count": null,
   "metadata": {
    "hidden": true
   },
   "outputs": [],
   "source": [
    "print(soup.find('dl',attrs={'class':'data clearfix'}).findNext(attrs={'class':'data clearfix'}).contents)"
   ]
  },
  {
   "cell_type": "markdown",
   "metadata": {
    "heading_collapsed": true
   },
   "source": [
    "# THE DATA"
   ]
  },
  {
   "cell_type": "code",
   "execution_count": 6,
   "metadata": {
    "ExecuteTime": {
     "end_time": "2020-03-09T15:41:15.982774Z",
     "start_time": "2020-03-09T15:41:15.963963Z"
    },
    "hidden": true
   },
   "outputs": [],
   "source": [
    "import pandas as pd\n",
    "import numpy as np\n",
    "from bs4 import BeautifulSoup\n",
    "import requests\n",
    "from tqdm import tqdm_notebook\n",
    "import re\n",
    "import random\n",
    "import matplotlib.pyplot as plt\n",
    "import seaborn as sns\n",
    "from scipy.stats import norm\n",
    "import dtale"
   ]
  },
  {
   "cell_type": "code",
   "execution_count": 7,
   "metadata": {
    "ExecuteTime": {
     "end_time": "2020-03-09T15:41:16.257960Z",
     "start_time": "2020-03-09T15:41:16.253267Z"
    },
    "hidden": true
   },
   "outputs": [],
   "source": [
    "import dtale"
   ]
  },
  {
   "cell_type": "code",
   "execution_count": 3,
   "metadata": {
    "ExecuteTime": {
     "end_time": "2020-03-09T13:20:38.491426Z",
     "start_time": "2020-03-09T13:20:36.774248Z"
    },
    "hidden": true
   },
   "outputs": [],
   "source": [
    "df=pd.read_csv('./3dmark_dataset.csv')"
   ]
  },
  {
   "cell_type": "code",
   "execution_count": 4,
   "metadata": {
    "ExecuteTime": {
     "end_time": "2020-03-09T13:20:38.590025Z",
     "start_time": "2020-03-09T13:20:38.494042Z"
    },
    "hidden": true
   },
   "outputs": [
    {
     "data": {
      "text/html": [
       "<div>\n",
       "<style scoped>\n",
       "    .dataframe tbody tr th:only-of-type {\n",
       "        vertical-align: middle;\n",
       "    }\n",
       "\n",
       "    .dataframe tbody tr th {\n",
       "        vertical-align: top;\n",
       "    }\n",
       "\n",
       "    .dataframe thead th {\n",
       "        text-align: right;\n",
       "    }\n",
       "</style>\n",
       "<table border=\"1\" class=\"dataframe\">\n",
       "  <thead>\n",
       "    <tr style=\"text-align: right;\">\n",
       "      <th></th>\n",
       "      <th>TIMESTAMP</th>\n",
       "      <th>TIME_SPY_PRESET</th>\n",
       "      <th>OVERALL_SCORE</th>\n",
       "      <th>GRAPHICS_SCORE</th>\n",
       "      <th>CPU_SCORE</th>\n",
       "      <th>CPU_NAME</th>\n",
       "      <th>CPU_MAX_CLOCK_SPEED_UNDER_LOAD</th>\n",
       "      <th>CPU_CORES</th>\n",
       "      <th>CPU_THREADS</th>\n",
       "      <th>MEMORY_FREQUENCY</th>\n",
       "      <th>...</th>\n",
       "      <th>GPU_SUBSYSTEM_VENDOR</th>\n",
       "      <th>GPU_SUBSYSTEM_MODEL</th>\n",
       "      <th>GPU_BIOS_VERSION</th>\n",
       "      <th>SYSTEM_PRODUCT_NAME</th>\n",
       "      <th>system_version</th>\n",
       "      <th>MOTHERBOARD_MANUFACTURER</th>\n",
       "      <th>MOTHERBOARD_MODEL</th>\n",
       "      <th>WINDOWS_MAJOR_VERSION</th>\n",
       "      <th>WINDOWS_MINOR_VERSION</th>\n",
       "      <th>WINDOWS_BUILD</th>\n",
       "    </tr>\n",
       "  </thead>\n",
       "  <tbody>\n",
       "    <tr>\n",
       "      <td>0</td>\n",
       "      <td>2018-10-03 07:51:41</td>\n",
       "      <td>X</td>\n",
       "      <td>4554</td>\n",
       "      <td>4737</td>\n",
       "      <td>3737</td>\n",
       "      <td>Intel Core i7-8700K Processor</td>\n",
       "      <td>4702</td>\n",
       "      <td>6</td>\n",
       "      <td>12</td>\n",
       "      <td>2398</td>\n",
       "      <td>...</td>\n",
       "      <td>14402</td>\n",
       "      <td>26519</td>\n",
       "      <td>86.02.39.40.92</td>\n",
       "      <td>System Product Name</td>\n",
       "      <td>System Version</td>\n",
       "      <td>ASUSTeK COMPUTER INC.</td>\n",
       "      <td>ROG STRIX Z370-F GAMING</td>\n",
       "      <td>10</td>\n",
       "      <td>0</td>\n",
       "      <td>17134</td>\n",
       "    </tr>\n",
       "    <tr>\n",
       "      <td>1</td>\n",
       "      <td>2018-10-03 07:54:19</td>\n",
       "      <td>X</td>\n",
       "      <td>5233</td>\n",
       "      <td>5067</td>\n",
       "      <td>6426</td>\n",
       "      <td>Intel Core i9-7900X Processor</td>\n",
       "      <td>4700</td>\n",
       "      <td>10</td>\n",
       "      <td>20</td>\n",
       "      <td>3666</td>\n",
       "      <td>...</td>\n",
       "      <td>5208</td>\n",
       "      <td>14178</td>\n",
       "      <td>86.02.39.00.DC</td>\n",
       "      <td>System Product Name</td>\n",
       "      <td>System Version</td>\n",
       "      <td>ASUSTeK COMPUTER INC.</td>\n",
       "      <td>ROG RAMPAGE VI EXTREME</td>\n",
       "      <td>10</td>\n",
       "      <td>0</td>\n",
       "      <td>17134</td>\n",
       "    </tr>\n",
       "    <tr>\n",
       "      <td>2</td>\n",
       "      <td>2018-10-03 07:55:30</td>\n",
       "      <td>X</td>\n",
       "      <td>7230</td>\n",
       "      <td>9624</td>\n",
       "      <td>3001</td>\n",
       "      <td>Intel Core i7-6850K Processor</td>\n",
       "      <td>4399</td>\n",
       "      <td>6</td>\n",
       "      <td>12</td>\n",
       "      <td>2666</td>\n",
       "      <td>...</td>\n",
       "      <td>5208</td>\n",
       "      <td>14161</td>\n",
       "      <td>86.02.39.00.9E</td>\n",
       "      <td>All Series</td>\n",
       "      <td>System Version</td>\n",
       "      <td>ASUSTeK COMPUTER INC.</td>\n",
       "      <td>X99-E-10G WS</td>\n",
       "      <td>10</td>\n",
       "      <td>0</td>\n",
       "      <td>17134</td>\n",
       "    </tr>\n",
       "    <tr>\n",
       "      <td>3</td>\n",
       "      <td>2018-10-03 07:59:10</td>\n",
       "      <td>X</td>\n",
       "      <td>4160</td>\n",
       "      <td>4601</td>\n",
       "      <td>2698</td>\n",
       "      <td>Intel Core i7-6850K Processor</td>\n",
       "      <td>3999</td>\n",
       "      <td>6</td>\n",
       "      <td>12</td>\n",
       "      <td>3198</td>\n",
       "      <td>...</td>\n",
       "      <td>5218</td>\n",
       "      <td>13826</td>\n",
       "      <td>86.02.40.00.1A</td>\n",
       "      <td>MS-7A54</td>\n",
       "      <td>1.0</td>\n",
       "      <td>MSI</td>\n",
       "      <td>X99A TOMAHAWK (MS-7A54)</td>\n",
       "      <td>10</td>\n",
       "      <td>0</td>\n",
       "      <td>17134</td>\n",
       "    </tr>\n",
       "    <tr>\n",
       "      <td>4</td>\n",
       "      <td>2018-10-03 08:05:09</td>\n",
       "      <td>X</td>\n",
       "      <td>4727</td>\n",
       "      <td>4834</td>\n",
       "      <td>4205</td>\n",
       "      <td>Intel Core i7-8700K Processor</td>\n",
       "      <td>5204</td>\n",
       "      <td>6</td>\n",
       "      <td>12</td>\n",
       "      <td>2400</td>\n",
       "      <td>...</td>\n",
       "      <td>4318</td>\n",
       "      <td>4623</td>\n",
       "      <td>86.02.39.00.01</td>\n",
       "      <td>System Product Name</td>\n",
       "      <td>System Version</td>\n",
       "      <td>ASUSTeK COMPUTER INC.</td>\n",
       "      <td>ROG MAXIMUS X HERO</td>\n",
       "      <td>10</td>\n",
       "      <td>0</td>\n",
       "      <td>17134</td>\n",
       "    </tr>\n",
       "  </tbody>\n",
       "</table>\n",
       "<p>5 rows × 32 columns</p>\n",
       "</div>"
      ],
      "text/plain": [
       "             TIMESTAMP TIME_SPY_PRESET  OVERALL_SCORE  GRAPHICS_SCORE  \\\n",
       "0  2018-10-03 07:51:41               X           4554            4737   \n",
       "1  2018-10-03 07:54:19               X           5233            5067   \n",
       "2  2018-10-03 07:55:30               X           7230            9624   \n",
       "3  2018-10-03 07:59:10               X           4160            4601   \n",
       "4  2018-10-03 08:05:09               X           4727            4834   \n",
       "\n",
       "   CPU_SCORE                       CPU_NAME  CPU_MAX_CLOCK_SPEED_UNDER_LOAD  \\\n",
       "0       3737  Intel Core i7-8700K Processor                            4702   \n",
       "1       6426  Intel Core i9-7900X Processor                            4700   \n",
       "2       3001  Intel Core i7-6850K Processor                            4399   \n",
       "3       2698  Intel Core i7-6850K Processor                            3999   \n",
       "4       4205  Intel Core i7-8700K Processor                            5204   \n",
       "\n",
       "   CPU_CORES  CPU_THREADS  MEMORY_FREQUENCY  ...  GPU_SUBSYSTEM_VENDOR  \\\n",
       "0          6           12              2398  ...                 14402   \n",
       "1         10           20              3666  ...                  5208   \n",
       "2          6           12              2666  ...                  5208   \n",
       "3          6           12              3198  ...                  5218   \n",
       "4          6           12              2400  ...                  4318   \n",
       "\n",
       "   GPU_SUBSYSTEM_MODEL  GPU_BIOS_VERSION  SYSTEM_PRODUCT_NAME  system_version  \\\n",
       "0                26519    86.02.39.40.92  System Product Name  System Version   \n",
       "1                14178    86.02.39.00.DC  System Product Name  System Version   \n",
       "2                14161    86.02.39.00.9E           All Series  System Version   \n",
       "3                13826    86.02.40.00.1A              MS-7A54             1.0   \n",
       "4                 4623    86.02.39.00.01  System Product Name  System Version   \n",
       "\n",
       "   MOTHERBOARD_MANUFACTURER        MOTHERBOARD_MODEL WINDOWS_MAJOR_VERSION  \\\n",
       "0     ASUSTeK COMPUTER INC.  ROG STRIX Z370-F GAMING                    10   \n",
       "1     ASUSTeK COMPUTER INC.   ROG RAMPAGE VI EXTREME                    10   \n",
       "2     ASUSTeK COMPUTER INC.             X99-E-10G WS                    10   \n",
       "3                       MSI  X99A TOMAHAWK (MS-7A54)                    10   \n",
       "4     ASUSTeK COMPUTER INC.       ROG MAXIMUS X HERO                    10   \n",
       "\n",
       "   WINDOWS_MINOR_VERSION WINDOWS_BUILD  \n",
       "0                      0         17134  \n",
       "1                      0         17134  \n",
       "2                      0         17134  \n",
       "3                      0         17134  \n",
       "4                      0         17134  \n",
       "\n",
       "[5 rows x 32 columns]"
      ]
     },
     "execution_count": 4,
     "metadata": {},
     "output_type": "execute_result"
    }
   ],
   "source": [
    "df.head()"
   ]
  },
  {
   "cell_type": "code",
   "execution_count": 5,
   "metadata": {
    "ExecuteTime": {
     "end_time": "2020-03-09T13:20:41.606443Z",
     "start_time": "2020-03-09T13:20:41.229413Z"
    },
    "hidden": true
   },
   "outputs": [
    {
     "data": {
      "text/html": [
       "<div>\n",
       "<style scoped>\n",
       "    .dataframe tbody tr th:only-of-type {\n",
       "        vertical-align: middle;\n",
       "    }\n",
       "\n",
       "    .dataframe tbody tr th {\n",
       "        vertical-align: top;\n",
       "    }\n",
       "\n",
       "    .dataframe thead th {\n",
       "        text-align: right;\n",
       "    }\n",
       "</style>\n",
       "<table border=\"1\" class=\"dataframe\">\n",
       "  <thead>\n",
       "    <tr style=\"text-align: right;\">\n",
       "      <th></th>\n",
       "      <th>OVERALL_SCORE</th>\n",
       "      <th>GRAPHICS_SCORE</th>\n",
       "      <th>CPU_SCORE</th>\n",
       "      <th>CPU_MAX_CLOCK_SPEED_UNDER_LOAD</th>\n",
       "      <th>CPU_CORES</th>\n",
       "      <th>CPU_THREADS</th>\n",
       "      <th>MEMORY_FREQUENCY</th>\n",
       "      <th>MEMORY_CHANNELS</th>\n",
       "      <th>CASLATENCY</th>\n",
       "      <th>RASTOCASDELAY</th>\n",
       "      <th>...</th>\n",
       "      <th>TRC</th>\n",
       "      <th>COMMANDRATE</th>\n",
       "      <th>GPU_COUNT</th>\n",
       "      <th>GPU_CORE_CLOCK_SPEED</th>\n",
       "      <th>GPU_MEMORY_CLOCK_SPEED</th>\n",
       "      <th>GPU_SUBSYSTEM_VENDOR</th>\n",
       "      <th>GPU_SUBSYSTEM_MODEL</th>\n",
       "      <th>WINDOWS_MAJOR_VERSION</th>\n",
       "      <th>WINDOWS_MINOR_VERSION</th>\n",
       "      <th>WINDOWS_BUILD</th>\n",
       "    </tr>\n",
       "  </thead>\n",
       "  <tbody>\n",
       "    <tr>\n",
       "      <td>count</td>\n",
       "      <td>262792.000000</td>\n",
       "      <td>262792.000000</td>\n",
       "      <td>262792.000000</td>\n",
       "      <td>2.627920e+05</td>\n",
       "      <td>262792.000000</td>\n",
       "      <td>262792.000000</td>\n",
       "      <td>262792.000000</td>\n",
       "      <td>262792.000000</td>\n",
       "      <td>262792.000000</td>\n",
       "      <td>262792.000000</td>\n",
       "      <td>...</td>\n",
       "      <td>262792.000000</td>\n",
       "      <td>262792.000000</td>\n",
       "      <td>262792.000000</td>\n",
       "      <td>262792.000000</td>\n",
       "      <td>262792.000000</td>\n",
       "      <td>262792.000000</td>\n",
       "      <td>262792.000000</td>\n",
       "      <td>262792.000000</td>\n",
       "      <td>262792.000000</td>\n",
       "      <td>262792.000000</td>\n",
       "    </tr>\n",
       "    <tr>\n",
       "      <td>mean</td>\n",
       "      <td>4644.374855</td>\n",
       "      <td>5148.038574</td>\n",
       "      <td>3719.200489</td>\n",
       "      <td>6.988299e+04</td>\n",
       "      <td>7.505662</td>\n",
       "      <td>14.084850</td>\n",
       "      <td>2866.167395</td>\n",
       "      <td>2.197312</td>\n",
       "      <td>15.421588</td>\n",
       "      <td>16.514354</td>\n",
       "      <td>...</td>\n",
       "      <td>18.705238</td>\n",
       "      <td>1.622070</td>\n",
       "      <td>1.104588</td>\n",
       "      <td>1907.462206</td>\n",
       "      <td>1709.832156</td>\n",
       "      <td>6876.624296</td>\n",
       "      <td>17164.456095</td>\n",
       "      <td>9.999406</td>\n",
       "      <td>0.000445</td>\n",
       "      <td>17836.864075</td>\n",
       "    </tr>\n",
       "    <tr>\n",
       "      <td>std</td>\n",
       "      <td>2390.394252</td>\n",
       "      <td>2691.840934</td>\n",
       "      <td>2042.429485</td>\n",
       "      <td>1.184847e+07</td>\n",
       "      <td>3.647631</td>\n",
       "      <td>7.710997</td>\n",
       "      <td>676.211884</td>\n",
       "      <td>0.806185</td>\n",
       "      <td>2.752923</td>\n",
       "      <td>3.243862</td>\n",
       "      <td>...</td>\n",
       "      <td>30.438993</td>\n",
       "      <td>0.547148</td>\n",
       "      <td>0.317784</td>\n",
       "      <td>254.018006</td>\n",
       "      <td>433.286381</td>\n",
       "      <td>4723.576227</td>\n",
       "      <td>13725.300280</td>\n",
       "      <td>0.048725</td>\n",
       "      <td>0.036544</td>\n",
       "      <td>556.897404</td>\n",
       "    </tr>\n",
       "    <tr>\n",
       "      <td>min</td>\n",
       "      <td>0.000000</td>\n",
       "      <td>0.000000</td>\n",
       "      <td>0.000000</td>\n",
       "      <td>5.490000e+02</td>\n",
       "      <td>0.000000</td>\n",
       "      <td>0.000000</td>\n",
       "      <td>-2.000000</td>\n",
       "      <td>-1.000000</td>\n",
       "      <td>-1.000000</td>\n",
       "      <td>-1.000000</td>\n",
       "      <td>...</td>\n",
       "      <td>-1.000000</td>\n",
       "      <td>-1.000000</td>\n",
       "      <td>1.000000</td>\n",
       "      <td>0.000000</td>\n",
       "      <td>0.000000</td>\n",
       "      <td>4098.000000</td>\n",
       "      <td>6.000000</td>\n",
       "      <td>6.000000</td>\n",
       "      <td>0.000000</td>\n",
       "      <td>10240.000000</td>\n",
       "    </tr>\n",
       "    <tr>\n",
       "      <td>25%</td>\n",
       "      <td>3324.000000</td>\n",
       "      <td>3507.000000</td>\n",
       "      <td>2548.000000</td>\n",
       "      <td>4.183000e+03</td>\n",
       "      <td>6.000000</td>\n",
       "      <td>8.000000</td>\n",
       "      <td>2398.000000</td>\n",
       "      <td>2.000000</td>\n",
       "      <td>15.000000</td>\n",
       "      <td>15.000000</td>\n",
       "      <td>...</td>\n",
       "      <td>-1.000000</td>\n",
       "      <td>1.000000</td>\n",
       "      <td>1.000000</td>\n",
       "      <td>1887.000000</td>\n",
       "      <td>1464.000000</td>\n",
       "      <td>4163.000000</td>\n",
       "      <td>5379.000000</td>\n",
       "      <td>10.000000</td>\n",
       "      <td>0.000000</td>\n",
       "      <td>17763.000000</td>\n",
       "    </tr>\n",
       "    <tr>\n",
       "      <td>50%</td>\n",
       "      <td>4503.000000</td>\n",
       "      <td>4801.000000</td>\n",
       "      <td>3581.000000</td>\n",
       "      <td>4.499000e+03</td>\n",
       "      <td>8.000000</td>\n",
       "      <td>12.000000</td>\n",
       "      <td>3000.000000</td>\n",
       "      <td>2.000000</td>\n",
       "      <td>16.000000</td>\n",
       "      <td>17.000000</td>\n",
       "      <td>...</td>\n",
       "      <td>-1.000000</td>\n",
       "      <td>2.000000</td>\n",
       "      <td>1.000000</td>\n",
       "      <td>1965.000000</td>\n",
       "      <td>1750.000000</td>\n",
       "      <td>5208.000000</td>\n",
       "      <td>14097.000000</td>\n",
       "      <td>10.000000</td>\n",
       "      <td>0.000000</td>\n",
       "      <td>17763.000000</td>\n",
       "    </tr>\n",
       "    <tr>\n",
       "      <td>75%</td>\n",
       "      <td>6104.000000</td>\n",
       "      <td>6773.000000</td>\n",
       "      <td>4672.000000</td>\n",
       "      <td>4.832000e+03</td>\n",
       "      <td>8.000000</td>\n",
       "      <td>16.000000</td>\n",
       "      <td>3200.000000</td>\n",
       "      <td>2.000000</td>\n",
       "      <td>16.000000</td>\n",
       "      <td>18.000000</td>\n",
       "      <td>...</td>\n",
       "      <td>51.000000</td>\n",
       "      <td>2.000000</td>\n",
       "      <td>1.000000</td>\n",
       "      <td>2040.000000</td>\n",
       "      <td>1938.000000</td>\n",
       "      <td>6618.000000</td>\n",
       "      <td>26262.000000</td>\n",
       "      <td>10.000000</td>\n",
       "      <td>0.000000</td>\n",
       "      <td>18362.000000</td>\n",
       "    </tr>\n",
       "    <tr>\n",
       "      <td>max</td>\n",
       "      <td>20440.000000</td>\n",
       "      <td>20570.000000</td>\n",
       "      <td>24217.000000</td>\n",
       "      <td>2.147484e+09</td>\n",
       "      <td>64.000000</td>\n",
       "      <td>128.000000</td>\n",
       "      <td>8578.000000</td>\n",
       "      <td>8.000000</td>\n",
       "      <td>33.000000</td>\n",
       "      <td>63.000000</td>\n",
       "      <td>...</td>\n",
       "      <td>135.000000</td>\n",
       "      <td>3.000000</td>\n",
       "      <td>4.000000</td>\n",
       "      <td>15939.000000</td>\n",
       "      <td>16428.000000</td>\n",
       "      <td>32902.000000</td>\n",
       "      <td>65443.000000</td>\n",
       "      <td>10.000000</td>\n",
       "      <td>3.000000</td>\n",
       "      <td>19559.000000</td>\n",
       "    </tr>\n",
       "  </tbody>\n",
       "</table>\n",
       "<p>8 rows × 22 columns</p>\n",
       "</div>"
      ],
      "text/plain": [
       "       OVERALL_SCORE  GRAPHICS_SCORE      CPU_SCORE  \\\n",
       "count  262792.000000   262792.000000  262792.000000   \n",
       "mean     4644.374855     5148.038574    3719.200489   \n",
       "std      2390.394252     2691.840934    2042.429485   \n",
       "min         0.000000        0.000000       0.000000   \n",
       "25%      3324.000000     3507.000000    2548.000000   \n",
       "50%      4503.000000     4801.000000    3581.000000   \n",
       "75%      6104.000000     6773.000000    4672.000000   \n",
       "max     20440.000000    20570.000000   24217.000000   \n",
       "\n",
       "       CPU_MAX_CLOCK_SPEED_UNDER_LOAD      CPU_CORES    CPU_THREADS  \\\n",
       "count                    2.627920e+05  262792.000000  262792.000000   \n",
       "mean                     6.988299e+04       7.505662      14.084850   \n",
       "std                      1.184847e+07       3.647631       7.710997   \n",
       "min                      5.490000e+02       0.000000       0.000000   \n",
       "25%                      4.183000e+03       6.000000       8.000000   \n",
       "50%                      4.499000e+03       8.000000      12.000000   \n",
       "75%                      4.832000e+03       8.000000      16.000000   \n",
       "max                      2.147484e+09      64.000000     128.000000   \n",
       "\n",
       "       MEMORY_FREQUENCY  MEMORY_CHANNELS     CASLATENCY  RASTOCASDELAY  ...  \\\n",
       "count     262792.000000    262792.000000  262792.000000  262792.000000  ...   \n",
       "mean        2866.167395         2.197312      15.421588      16.514354  ...   \n",
       "std          676.211884         0.806185       2.752923       3.243862  ...   \n",
       "min           -2.000000        -1.000000      -1.000000      -1.000000  ...   \n",
       "25%         2398.000000         2.000000      15.000000      15.000000  ...   \n",
       "50%         3000.000000         2.000000      16.000000      17.000000  ...   \n",
       "75%         3200.000000         2.000000      16.000000      18.000000  ...   \n",
       "max         8578.000000         8.000000      33.000000      63.000000  ...   \n",
       "\n",
       "                 TRC    COMMANDRATE      GPU_COUNT  GPU_CORE_CLOCK_SPEED  \\\n",
       "count  262792.000000  262792.000000  262792.000000         262792.000000   \n",
       "mean       18.705238       1.622070       1.104588           1907.462206   \n",
       "std        30.438993       0.547148       0.317784            254.018006   \n",
       "min        -1.000000      -1.000000       1.000000              0.000000   \n",
       "25%        -1.000000       1.000000       1.000000           1887.000000   \n",
       "50%        -1.000000       2.000000       1.000000           1965.000000   \n",
       "75%        51.000000       2.000000       1.000000           2040.000000   \n",
       "max       135.000000       3.000000       4.000000          15939.000000   \n",
       "\n",
       "       GPU_MEMORY_CLOCK_SPEED  GPU_SUBSYSTEM_VENDOR  GPU_SUBSYSTEM_MODEL  \\\n",
       "count           262792.000000         262792.000000        262792.000000   \n",
       "mean              1709.832156           6876.624296         17164.456095   \n",
       "std                433.286381           4723.576227         13725.300280   \n",
       "min                  0.000000           4098.000000             6.000000   \n",
       "25%               1464.000000           4163.000000          5379.000000   \n",
       "50%               1750.000000           5208.000000         14097.000000   \n",
       "75%               1938.000000           6618.000000         26262.000000   \n",
       "max              16428.000000          32902.000000         65443.000000   \n",
       "\n",
       "       WINDOWS_MAJOR_VERSION  WINDOWS_MINOR_VERSION  WINDOWS_BUILD  \n",
       "count          262792.000000          262792.000000  262792.000000  \n",
       "mean                9.999406               0.000445   17836.864075  \n",
       "std                 0.048725               0.036544     556.897404  \n",
       "min                 6.000000               0.000000   10240.000000  \n",
       "25%                10.000000               0.000000   17763.000000  \n",
       "50%                10.000000               0.000000   17763.000000  \n",
       "75%                10.000000               0.000000   18362.000000  \n",
       "max                10.000000               3.000000   19559.000000  \n",
       "\n",
       "[8 rows x 22 columns]"
      ]
     },
     "execution_count": 5,
     "metadata": {},
     "output_type": "execute_result"
    }
   ],
   "source": [
    "df.describe()"
   ]
  },
  {
   "cell_type": "markdown",
   "metadata": {
    "hidden": true
   },
   "source": [
    "Things to look at : ( suggested by product manager of UL)\n",
    "\n",
    "Verify that with the same CPU, the CPU score scales approximately linearly with the CPU frequency (pick CPUs that support overclocking such as Intel K or X -series to get more data points with different frequencies)  \n",
    "Investigate how memory frequency, memory channels and timings affect the CPU performance - expect it to be different between AMD and Intel and also between different generations and architectures  \n",
    "Investigate how Graphics score scales with changing core & memory clock frequencies with the same GPU\n",
    "Investigate performance differences between different graphics cards and brands and BIOS versions with the same GPU  \n",
    "Check how much score improves with a multi-GPU configuration, is this different between GPUs?  \n",
    "Compare performance of ready-built PCs and DIY PCs with similar components.  \n"
   ]
  },
  {
   "cell_type": "markdown",
   "metadata": {},
   "source": [
    "# Cleaning & EDA"
   ]
  },
  {
   "cell_type": "markdown",
   "metadata": {},
   "source": [
    "## EDA on numerical data"
   ]
  },
  {
   "cell_type": "markdown",
   "metadata": {},
   "source": [
    "### Looking at the distribution of the 3DMark Score"
   ]
  },
  {
   "cell_type": "markdown",
   "metadata": {},
   "source": [
    "It seems that there are quite alot of PCs in which they may have been inturrupted mid way throughout the simulation or perhaps there was some malfunction, hence was given a score of 0.  \n",
    "\n",
    "In order to calculate the 3DMark Score we use the following [equation](https://s3.amazonaws.com/download-aws.futuremark.com/3dmark-technical-guide.pdf) :\n",
    "\n",
    "$$\n",
    "\\begin{eqnarray*}\n",
    "{\\rm Overall\\ Score} &=&\\ \\frac{1}{\\frac{0.85}{Graphics\\ Score}+ \\frac{0.15}{CPU\\ Score}}\n",
    "\\end{eqnarray*}\n",
    "$$\n",
    "\n",
    "Having a look at this equation, the reason why the score may actually be 0, might be due to a combination of both a rounding error and the fact that the Graphics Score could be 0 along with the fact that the CPU Score was low value.  \n",
    "Since this might affect our modelling, we will will only look at the computers in which the simulations had been sucessfully completed."
   ]
  },
  {
   "cell_type": "code",
   "execution_count": 13,
   "metadata": {
    "scrolled": false
   },
   "outputs": [
    {
     "data": {
      "image/png": "[encoded data removed]",
      "text/plain": [
       "<Figure size 1080x576 with 1 Axes>"
      ]
     },
     "metadata": {
      "needs_background": "light"
     },
     "output_type": "display_data"
    }
   ],
   "source": [
    "plt.figure(figsize=(15,8))\n",
    "sns.distplot(df['OVERALL_SCORE'],fit=norm,kde=False,bins=100)\n",
    "plt.show()"
   ]
  },
  {
   "cell_type": "code",
   "execution_count": 15,
   "metadata": {},
   "outputs": [],
   "source": [
    "data=df[df['OVERALL_SCORE']!=0].copy()"
   ]
  },
  {
   "cell_type": "markdown",
   "metadata": {},
   "source": [
    "###  Looking at the distribution of other numerical features"
   ]
  },
  {
   "cell_type": "code",
   "execution_count": 16,
   "metadata": {},
   "outputs": [],
   "source": [
    "from sklearn.preprocessing import StandardScaler"
   ]
  },
  {
   "cell_type": "code",
   "execution_count": 22,
   "metadata": {},
   "outputs": [],
   "source": [
    "#Selecting only the numerical features\n",
    "numerical_types = 'int64'\n",
    "fixed_num = df.select_dtypes(include=numerical_types)"
   ]
  },
  {
   "cell_type": "code",
   "execution_count": 26,
   "metadata": {},
   "outputs": [],
   "source": [
    "#Standardising the data to visualise it appropriately\n",
    "scaler = StandardScaler()\n",
    "fixed_num = pd.DataFrame(scaler.fit_transform(fixed_num),columns=fixed_num.columns)"
   ]
  },
  {
   "cell_type": "markdown",
   "metadata": {},
   "source": [
    "We notice that there are a few features that we should look into:  \n",
    "- CPU_MAX_CLOCK_SPEED_UNDER_LOAD\n",
    "- GPU_CORE_CLOCK_SPEED\n",
    "- WINDOWS_MAJOR_VERSION\n",
    "- WINDOWS_MINOR_VERSION"
   ]
  },
  {
   "cell_type": "code",
   "execution_count": 27,
   "metadata": {},
   "outputs": [
    {
     "data": {
      "image/png": "[encoded data removed]",
      "text/plain": [
       "<Figure size 1080x720 with 1 Axes>"
      ]
     },
     "metadata": {
      "needs_background": "light"
     },
     "output_type": "display_data"
    }
   ],
   "source": [
    "fig=plt.figure(figsize=(15,10))\n",
    "ax=fig.gca()\n",
    "sns.boxplot(data=fixed_num,orient='h',ax=ax,fliersize=5)\n",
    "plt.show()"
   ]
  },
  {
   "cell_type": "markdown",
   "metadata": {
    "heading_collapsed": true
   },
   "source": [
    "#### CPU_MAX_CLOCK_SPEED_UNDER_LOAD"
   ]
  },
  {
   "cell_type": "markdown",
   "metadata": {
    "hidden": true
   },
   "source": [
    "Having a look at the top clock speeds of the PCs, there seems to be quite alot of CPUs in which their clock speeds are unrealistically high. It is impossible for clockspeeds to go over 30,000 MHz ($3\\times10^8$ Hz) due to the fact that electrons will never be able to travel faster than the speed of light and any CPUs that do have clock speeds near that value is using an absurd amount of energy.\n",
    "\n",
    "We will therefore be removing all PCs that have a CPU clock speed of over 10GHz since the world record, as of 2014, for the highest clock speed is 8.723GHz"
   ]
  },
  {
   "cell_type": "code",
   "execution_count": 45,
   "metadata": {
    "hidden": true
   },
   "outputs": [
    {
     "data": {
      "text/plain": [
       "39461     2147483647\n",
       "20950     2147483647\n",
       "28172     2147483647\n",
       "5270      2147483647\n",
       "46489     2147483647\n",
       "27616     2147483647\n",
       "15785     2147483647\n",
       "3596      2147483647\n",
       "239581        308623\n",
       "227691        293852\n",
       "196087        243439\n",
       "258141        211040\n",
       "107440        199759\n",
       "232113        128172\n",
       "59686         127189\n",
       "63713         121292\n",
       "62281         107167\n",
       "248690        101921\n",
       "255326         97176\n",
       "221352         81474\n",
       "Name: CPU_MAX_CLOCK_SPEED_UNDER_LOAD, dtype: int64"
      ]
     },
     "execution_count": 45,
     "metadata": {},
     "output_type": "execute_result"
    }
   ],
   "source": [
    "data['CPU_MAX_CLOCK_SPEED_UNDER_LOAD'].sort_values(ascending=False)[:20]"
   ]
  },
  {
   "cell_type": "code",
   "execution_count": 54,
   "metadata": {
    "hidden": true
   },
   "outputs": [],
   "source": [
    "data=data[data['CPU_MAX_CLOCK_SPEED_UNDER_LOAD']<10000]"
   ]
  },
  {
   "cell_type": "markdown",
   "metadata": {},
   "source": [
    "#### GPU_CORE_CLOCK_SPEED"
   ]
  },
  {
   "cell_type": "markdown",
   "metadata": {},
   "source": [
    "Similar to the CPU clock speeds, there are some limitations to the GPU's clock speeds. On 2016, there have been news that it was possible to break the 3GHz frequency barrier that Nvidia and AMD have been attempting to break for a number of years. In 2019 the new Turing architechture was released and these GPUs with this architechture will hopefully beat the old Pascal architechture.  \n",
    "\n",
    "We will therefore remove all GPU_CORE_CLOCK_SPEEDS that are above 5GHz"
   ]
  },
  {
   "cell_type": "code",
   "execution_count": 71,
   "metadata": {},
   "outputs": [
    {
     "data": {
      "text/plain": [
       "253594    15939\n",
       "158974    15537\n",
       "165172    14527\n",
       "112347    12925\n",
       "164594    10597\n",
       "174217    10168\n",
       "137524     9884\n",
       "187916     9392\n",
       "256540     9229\n",
       "8409       8971\n",
       "206169     8031\n",
       "75663      7371\n",
       "189776     7156\n",
       "124291     6705\n",
       "159128     5811\n",
       "161096     5676\n",
       "199510     5002\n",
       "182101     4982\n",
       "133750     4824\n",
       "243663     4539\n",
       "Name: GPU_CORE_CLOCK_SPEED, dtype: int64"
      ]
     },
     "execution_count": 71,
     "metadata": {},
     "output_type": "execute_result"
    }
   ],
   "source": [
    "data['GPU_CORE_CLOCK_SPEED'].sort_values(ascending=False)[:20]"
   ]
  },
  {
   "cell_type": "code",
   "execution_count": 72,
   "metadata": {},
   "outputs": [],
   "source": [
    "data=data[data['GPU_CORE_CLOCK_SPEED']<5000]"
   ]
  },
  {
   "cell_type": "markdown",
   "metadata": {},
   "source": [
    "#### GPU_SUBSYSTEM_VENDOR , GPU_SUBSYSTEM_MODEL, WINDOWS_MAJOR_MODEL, WINDOWS_MAJOR_MODEL"
   ]
  },
  {
   "cell_type": "markdown",
   "metadata": {},
   "source": [
    "All of these features are not numerical values but associated with a particular manufacturer / model number. Therefore the values are not a heirarchy"
   ]
  },
  {
   "cell_type": "code",
   "execution_count": 73,
   "metadata": {},
   "outputs": [
    {
     "data": {
      "text/plain": [
       "0         14402\n",
       "1          5208\n",
       "2          5208\n",
       "3          5218\n",
       "4          4318\n",
       "          ...  \n",
       "262787     4318\n",
       "262788    14402\n",
       "262789     4133\n",
       "262790     4163\n",
       "262791     5208\n",
       "Name: GPU_SUBSYSTEM_VENDOR, Length: 246795, dtype: int64"
      ]
     },
     "execution_count": 73,
     "metadata": {},
     "output_type": "execute_result"
    }
   ],
   "source": [
    "data['GPU_SUBSYSTEM_VENDOR']"
   ]
  },
  {
   "cell_type": "code",
   "execution_count": 76,
   "metadata": {},
   "outputs": [],
   "source": [
    "data.drop(['GPU_SUBSYSTEM_VENDOR','GPU_SUBSYSTEM_MODEL','WINDOWS_MAJOR_VERSION','WINDOWS_MINOR_VERSION'],axis=1,inplace=True)"
   ]
  },
  {
   "cell_type": "code",
   "execution_count": null,
   "metadata": {},
   "outputs": [],
   "source": []
  },
  {
   "cell_type": "markdown",
   "metadata": {},
   "source": [
    "#### Nothign"
   ]
  },
  {
   "cell_type": "code",
   "execution_count": null,
   "metadata": {},
   "outputs": [],
   "source": [
    "#Dropping RASPRECHARGE, since it is practically the same as RASTOCASDELAY\n",
    "df.drop('RASPRECHARGE',axis=1,inplace=True)"
   ]
  },
  {
   "cell_type": "code",
   "execution_count": 77,
   "metadata": {},
   "outputs": [
    {
     "data": {
      "text/plain": [
       "TIMESTAMP                            0\n",
       "TIME_SPY_PRESET                      0\n",
       "OVERALL_SCORE                        0\n",
       "GRAPHICS_SCORE                       0\n",
       "CPU_SCORE                            0\n",
       "CPU_NAME                             0\n",
       "CPU_MAX_CLOCK_SPEED_UNDER_LOAD       0\n",
       "CPU_CORES                            0\n",
       "CPU_THREADS                          0\n",
       "MEMORY_FREQUENCY                     0\n",
       "MEMORY_CHANNELS                      0\n",
       "CASLATENCY                           0\n",
       "RASTOCASDELAY                        0\n",
       "RASPRECHARGE                         0\n",
       "TRAS                                 0\n",
       "TRC                                  0\n",
       "COMMANDRATE                          0\n",
       "GPU_NAME                             0\n",
       "GPU_COUNT                            0\n",
       "GPU_DRIVER_VERSION                  40\n",
       "GPU_CORE_CLOCK_SPEED                 0\n",
       "GPU_MEMORY_CLOCK_SPEED               0\n",
       "GPU_BIOS_VERSION                   379\n",
       "SYSTEM_PRODUCT_NAME                296\n",
       "system_version                    3833\n",
       "MOTHERBOARD_MANUFACTURER           176\n",
       "MOTHERBOARD_MODEL                  187\n",
       "WINDOWS_BUILD                        0\n",
       "dtype: int64"
      ]
     },
     "execution_count": 77,
     "metadata": {},
     "output_type": "execute_result"
    }
   ],
   "source": [
    "data.isnull().sum()"
   ]
  },
  {
   "cell_type": "code",
   "execution_count": null,
   "metadata": {},
   "outputs": [],
   "source": [
    "# Since most product names have just a default 'System Product Name', we will convert all the NaN values also to\n",
    "# 'System Product name', as it was probably custom-built by individuals and the individuals will not have bothered\n",
    "# to put the name in.\n",
    "data['SYSTEM_PRODUCT_NAME'].fillna('System Product Name',inplace=True)\n",
    "data['system_version'].fillna('System Version',inplace=True)\n",
    "\n",
    "# For all other columns, we will be dropping all the null values as these will all be strings and we cannot \n",
    "# Determine any of the values for the null values\n",
    "data.dropna(inplace=True)\n",
    "\n",
    "#Dropping TIME_SPY_PRESET, since only value is the string 'X' which wont have any effect on the actual \n",
    "data.drop('TIME_SPY_PRESET',axis=1,inplace=True)\n",
    "\n"
   ]
  },
  {
   "cell_type": "code",
   "execution_count": null,
   "metadata": {},
   "outputs": [],
   "source": [
    "def replace_words_manufacturer(x):\n",
    "    \"\"\"\n",
    "    There are alot of mis-spelled company names that are the same, so we will be cleaning up these company names\n",
    "    \n",
    "    \"\"\"\n",
    "    x=x.lower()\n",
    "    \n",
    "    x=x.replace('co., ltd','')\n",
    "    x=x.replace('.','')\n",
    "    x=x.replace('$','')\n",
    "    x=x.replace(',','')\n",
    "    \n",
    "    x=x.replace('ltd','')\n",
    "    x=x.replace('incorporated','')\n",
    "    x=x.replace('inc','')\n",
    "    x=x.replace('ltt','')\n",
    "    x=x.replace('ldd','')\n",
    "    x=x.replace('x79-16d','')\n",
    "    x=x.replace('limited','')\n",
    "    \n",
    "    x=x.replace('corporation','co')\n",
    "    x=x.replace('corproation','co')\n",
    "    x=x.replace('corportion','co')\n",
    "    x=x.replace('technology and development','')\n",
    "    x=x.replace('corp','')\n",
    "    x=x.replace('innovation and technology','')\n",
    "    x=x.replace('technology','')\n",
    "    x=x.replace('international co','')\n",
    "    x=x.replace('international','')\n",
    "\n",
    "    x=x.replace('asustek computer','asus')\n",
    "    x=x.replace('asrockrack','asrock')\n",
    "    x=x.replace('(shenzen)','')\n",
    "    \n",
    "    \"\"\"\n",
    "    \n",
    "    since the string 'co' is in a commpany name called 'colorful' , we cannot change all 'co's to '' as it will\n",
    "    come up with 'lorful'. Same applies for the string 'computer\n",
    "    \n",
    "    \"\"\"\n",
    "    \n",
    "    x=x.replace('colorful  co','colorful')\n",
    "    x=x.replace('yu gong  co','')\n",
    "    \n",
    "    x=x.replace('intel co','intel')\n",
    "    x=x.replace('intel oem','intel')\n",
    "    x=x.replace('amd co','amd')\n",
    "    x=x.replace('onda  co','onda')\n",
    "    \n",
    "    x=x.replace('shinelon computer','shinelon')\n",
    "    \n",
    "    \"\"\"\n",
    "    \n",
    "    There is a manufacturer called 'huananzhizhi' which causes all sorts of problems due to the fact that the name\n",
    "    has repitition within it.\n",
    "    For example : there is a name called 'huanan' and I need to replace it with 'huananzhizhi'\n",
    "    But if i do this, then the company name called 'huananzhizhi' will be called 'huananzhizhizhizhi'\n",
    "    \n",
    "    \"\"\"\n",
    "    \n",
    "    x=x.replace('huananzhi','huanan')\n",
    "    x=x.replace('huanan','huananzhi')\n",
    "    \n",
    "    x=x.replace('to be filled by oem','unknown')\n",
    "    x=x.replace('oem','unknown')\n",
    "    return x\n",
    "\n",
    "data['MOTHERBOARD_MANUFACTURER']=data['MOTHERBOARD_MANUFACTURER'].apply(lambda x:replace_words_manufacturer(x).strip())"
   ]
  },
  {
   "cell_type": "code",
   "execution_count": null,
   "metadata": {},
   "outputs": [],
   "source": [
    "def replace_words_system_version(x):\n",
    "    x=x.lower()\n",
    "    x=x.replace('tbd.','tbd')\n",
    "    x=x.replace('tbd by tbd','tbd')\n",
    "    x=x.replace('to be filled by o.e.m.','tbd')\n",
    "    x=x.replace('not applicable','tbd')\n",
    "    x=x.replace('not specified','tbd')\n",
    "    x=x.replace('invalid','tbd')\n",
    "    x=x.replace('oem','tbd')\n",
    "    \n",
    "    return x\n",
    "\n",
    "data['system_version']=data['system_version'].apply(lambda x: replace_words_system_version(x))"
   ]
  },
  {
   "cell_type": "code",
   "execution_count": null,
   "metadata": {},
   "outputs": [],
   "source": [
    "#Removes Processor from the cpu name to prevent it from coming up from CountVectorizer\n",
    "#The actual CPU names is full clean.\n",
    "data['CPU_NAME']=data['CPU_NAME'].apply(lambda x: x.lower().replace('processor',''))"
   ]
  },
  {
   "cell_type": "code",
   "execution_count": null,
   "metadata": {},
   "outputs": [],
   "source": [
    "# There seems to be some PCs where they have -1 memory channels which is physically impossible, and we will drop\n",
    "# these\n",
    "data=data[(data['MEMORY_CHANNELS']!=-1) & (data['MEMORY_CHANNELS']!=0)]"
   ]
  },
  {
   "cell_type": "code",
   "execution_count": null,
   "metadata": {},
   "outputs": [],
   "source": [
    "#Lets get rid of GPU_CORE_CLOCK_SPEED that are 0, This tells us that the BIOS  (Basic Input Output System) is not reading the GPU's speeds\n",
    "# And we are unable to actually determine the actual clock speed.\n",
    "\n",
    "#Upon further research, the reason why most GPU's numbers are reading 0, is because it is using the Integrated Graphics Card\n",
    "#From the CPU rather than the actual GPU itself and so these GPU_SCORES are not from the GPU.\n",
    "data=data[data['GPU_CORE_CLOCK_SPEED']!=0]"
   ]
  },
  {
   "cell_type": "code",
   "execution_count": null,
   "metadata": {},
   "outputs": [],
   "source": [
    "#This seems reasonable as it is possible to have 16,000Mhz of VRAM for a GPU\n",
    "data['GPU_CORE_CLOCK_SPEED'].max()"
   ]
  },
  {
   "cell_type": "code",
   "execution_count": null,
   "metadata": {
    "scrolled": false
   },
   "outputs": [],
   "source": [
    "#Getting rid of Memory frequencies of 0 , Suggesting RAM is not being read.\n",
    "data=data[data['MEMORY_FREQUENCY']!=0]\n",
    "data.reset_index(inplace=True,drop=True)"
   ]
  },
  {
   "cell_type": "code",
   "execution_count": null,
   "metadata": {},
   "outputs": [],
   "source": [
    "#Lets re-check the data and see if there are still any outliers\n",
    "numerical_types = 'int64'\n",
    "fixed_num = data.select_dtypes(include=numerical_types)\n",
    "\n",
    "scaler=StandardScaler()\n",
    "fixed_num  = pd.DataFrame(scaler.fit_transform(fixed_num),columns=fixed_num.columns)"
   ]
  },
  {
   "cell_type": "code",
   "execution_count": null,
   "metadata": {
    "scrolled": false
   },
   "outputs": [],
   "source": [
    "#Main thing to note,  WINDOWS_MAJOR_VERSION & WINDOWS_MINOR_VERSION are int values however since they are a version\n",
    "#They should be considered a string\n",
    "fig= plt.figure(figsize=(20,20))\n",
    "ax=fig.gca()\n",
    "sns.boxplot(data=fixed_num, orient='h', ax=ax, fliersize=5)\n",
    "plt.show()"
   ]
  },
  {
   "cell_type": "code",
   "execution_count": null,
   "metadata": {},
   "outputs": [],
   "source": [
    "fixed_num  = pd.DataFrame(scaler.fit_transform(fixed_num.drop(['GPU_SUBSYSTEM_VENDOR','GPU_SUBSYSTEM_MODEL','WINDOWS_MAJOR_VERSION','WINDOWS_MINOR_VERSION','WINDOWS_BUILD'],axis=1)),columns=fixed_num.drop(['GPU_SUBSYSTEM_VENDOR','GPU_SUBSYSTEM_MODEL','WINDOWS_MAJOR_VERSION','WINDOWS_MINOR_VERSION','WINDOWS_BUILD'],axis=1).columns)\n",
    "fig= plt.figure(figsize=(15,10))\n",
    "sns.boxplot(data=fixed_num, orient='h', fliersize=5)\n",
    "plt.show()"
   ]
  },
  {
   "cell_type": "code",
   "execution_count": null,
   "metadata": {},
   "outputs": [],
   "source": [
    "#Refer to this https://www.techpowerup.com/articles/64\n",
    "#CASLATENCY : The time interval between each bit of information is sent (units in clock cycles)\n",
    "#Not possible to have -1 cycles\n",
    "print(data['CASLATENCY'].unique())\n",
    "data=data[data['CASLATENCY']!=-1 ]"
   ]
  },
  {
   "cell_type": "code",
   "execution_count": null,
   "metadata": {},
   "outputs": [],
   "source": [
    "#The windows builds doesnt affect the score as mentioned in the technical guide\n",
    "\n",
    "data.drop(['GPU_SUBSYSTEM_VENDOR','GPU_SUBSYSTEM_MODEL','WINDOWS_MAJOR_VERSION','WINDOWS_MINOR_VERSION','WINDOWS_BUILD'],axis=1,inplace=True)\n",
    "data=data.reset_index(drop=True)"
   ]
  },
  {
   "cell_type": "code",
   "execution_count": null,
   "metadata": {},
   "outputs": [],
   "source": [
    "data['CPU_NAME'].value_counts()"
   ]
  },
  {
   "cell_type": "code",
   "execution_count": null,
   "metadata": {},
   "outputs": [],
   "source": [
    "data[data['CPU_NAME']=='intel core i5-6500 ']['CPU_MAX_CLOCK_SPEED_UNDER_LOAD'].mean()"
   ]
  },
  {
   "cell_type": "code",
   "execution_count": null,
   "metadata": {
    "scrolled": false
   },
   "outputs": [],
   "source": [
    "# Looking at the top 3 most used CPUs, alot of the time it does seem to be linearly correlated\n",
    "# Reasoning why the same CPU can have different clock speeds and different scores is because it is overclockable\n",
    "# Where the individual is able to choose how hard the CPU will work.\n",
    "sns.lmplot(x='CPU_MAX_CLOCK_SPEED_UNDER_LOAD',y='CPU_SCORE',data=data[data['CPU_NAME']=='intel core i9-9900k '],ci=None)\n",
    "plt.title('Intel Core I9-9900K (Overclockable)')\n",
    "sns.lmplot(x='CPU_MAX_CLOCK_SPEED_UNDER_LOAD',y='CPU_SCORE',data=data[data['CPU_NAME']=='intel core i7-8700k '],ci=None)\n",
    "plt.title('Intel Core I7-8700K (Overclockable)')\n",
    "sns.lmplot(x='CPU_MAX_CLOCK_SPEED_UNDER_LOAD',y='CPU_SCORE',data=data[data['CPU_NAME']=='amd ryzen 7 2700x'],ci=None,fit_reg=False)\n",
    "plt.title('AMD Ryzen 7 2700X (Overclockable)')\n",
    "\n",
    "plt.show()"
   ]
  },
  {
   "cell_type": "code",
   "execution_count": null,
   "metadata": {},
   "outputs": [],
   "source": [
    "data[(data['CPU_NAME']=='intel core i9-9900k ') & (data['CPU_SCORE']==14347)].columns"
   ]
  },
  {
   "cell_type": "code",
   "execution_count": null,
   "metadata": {},
   "outputs": [],
   "source": [
    "#We are dropping these because we can directly calculate the OVERALL_SCORE by using the formula provided by\n",
    "# 3DMARK Tehcnical guide : https://s3.amazonaws.com/download-aws.futuremark.com/3dmark-technical-guide.pdf\n",
    "data.drop(['GRAPHICS_SCORE','CPU_SCORE'],axis=1,inplace=True)\n",
    "\n",
    "#Timestamp only tells us when the simulation took place, but does not affect the OVERALL_SCORE\n",
    "data.drop('TIMESTAMP',inplace=True,axis=1)"
   ]
  },
  {
   "cell_type": "code",
   "execution_count": null,
   "metadata": {},
   "outputs": [],
   "source": [
    "data"
   ]
  },
  {
   "cell_type": "code",
   "execution_count": null,
   "metadata": {},
   "outputs": [],
   "source": [
    "df[df['CPU_MAX_CLOCK_SPEED_UNDER_LOAD']<10000][['CPU_MAX_CLOCK_SPEED_UNDER_LOAD','OVERALL_SCORE']].corr('spearman')"
   ]
  },
  {
   "cell_type": "code",
   "execution_count": null,
   "metadata": {
    "scrolled": true
   },
   "outputs": [],
   "source": [
    "sns.distplot(df[df['CPU_MAX_CLOCK_SPEED_UNDER_LOAD']<10000]['CPU_MAX_CLOCK_SPEED_UNDER_LOAD'],fit=norm)"
   ]
  },
  {
   "cell_type": "code",
   "execution_count": null,
   "metadata": {},
   "outputs": [],
   "source": [
    "plt.figure(figsize=(20,14))\n",
    "sns.heatmap(data.corr(),annot=True,linewidth=0.1,cmap='YlGnBu',)\n",
    "plt.show()"
   ]
  },
  {
   "cell_type": "code",
   "execution_count": null,
   "metadata": {},
   "outputs": [],
   "source": [
    "sample=data.sample(n=10000,random_state=1)"
   ]
  },
  {
   "cell_type": "code",
   "execution_count": null,
   "metadata": {},
   "outputs": [],
   "source": [
    "plt.figure(figsize=(20,16))\n",
    "sns.pairplot(sample)\n",
    "plt.show()"
   ]
  },
  {
   "cell_type": "markdown",
   "metadata": {},
   "source": [
    "### Determining whether GPU is NVIDIA or AMD"
   ]
  },
  {
   "cell_type": "markdown",
   "metadata": {},
   "source": [
    "We will be using this for later during hypothesis testing"
   ]
  },
  {
   "cell_type": "code",
   "execution_count": null,
   "metadata": {},
   "outputs": [],
   "source": [
    "GPU = pd.DataFrame(data['GPU_NAME']).copy()"
   ]
  },
  {
   "cell_type": "code",
   "execution_count": null,
   "metadata": {},
   "outputs": [],
   "source": [
    "def graphics_card(x):\n",
    "    if 'nvidia' in x.lower():\n",
    "        return 'nvidia'\n",
    "    elif 'amd' in x.lower():\n",
    "        return 'amd'"
   ]
  },
  {
   "cell_type": "code",
   "execution_count": null,
   "metadata": {},
   "outputs": [],
   "source": [
    "GPU['NVIDIA/AMD']= GPU['GPU_NAME'].apply(lambda x: graphics_card(x))"
   ]
  },
  {
   "cell_type": "code",
   "execution_count": null,
   "metadata": {},
   "outputs": [],
   "source": [
    "GPU['NVIDIA/AMD'].value_counts(normalize=True)"
   ]
  },
  {
   "cell_type": "markdown",
   "metadata": {
    "heading_collapsed": true
   },
   "source": [
    "# COUNT VECTORIZING "
   ]
  },
  {
   "cell_type": "markdown",
   "metadata": {
    "hidden": true
   },
   "source": [
    "#### We will be doing some NLP and therefore will be using the CountVectorizer function to have a look at the number of times a particular word will come up.\n",
    "\n",
    "#### These are the columns we will be count vectorizing:\n",
    "GPU_NAME  \n",
    "GPU_DRIVER_VERSION  \n",
    "GPU_BIOS_VERSION  \n",
    "CPU_NAME  \n",
    "SYSTEM_PRODUCT_NAME  \n",
    "system_version  \n",
    "MOTHER_BOARD_MANUFACTURER  \n",
    "MOTHERBOARD_MODEL   "
   ]
  },
  {
   "cell_type": "code",
   "execution_count": null,
   "metadata": {
    "hidden": true
   },
   "outputs": [],
   "source": [
    "from sklearn.feature_extraction.text import CountVectorizer\n",
    "import scipy.sparse as sp"
   ]
  },
  {
   "cell_type": "code",
   "execution_count": null,
   "metadata": {
    "hidden": true
   },
   "outputs": [],
   "source": [
    "x = data[['GPU_NAME','GPU_DRIVER_VERSION','GPU_BIOS_VERSION',\n",
    "      'CPU_NAME','SYSTEM_PRODUCT_NAME','system_version',\n",
    "      'MOTHERBOARD_MANUFACTURER','MOTHERBOARD_MODEL']]"
   ]
  },
  {
   "cell_type": "code",
   "execution_count": null,
   "metadata": {
    "hidden": true
   },
   "outputs": [],
   "source": [
    "all_words=x.apply(lambda y: ' '.join(y), axis = 1)"
   ]
  },
  {
   "cell_type": "code",
   "execution_count": null,
   "metadata": {
    "hidden": true
   },
   "outputs": [],
   "source": [
    "cvec= CountVectorizer(stop_words='english',ngram_range=(1,2),max_features=100,token_pattern=r\"(?u)[\\w.-]+|\\w+\")\n",
    "cvec.fit(all_words)"
   ]
  },
  {
   "cell_type": "code",
   "execution_count": null,
   "metadata": {
    "hidden": true
   },
   "outputs": [],
   "source": [
    "words=cvec.get_feature_names()\n",
    "cvec_mat = cvec.transform(all_words)"
   ]
  },
  {
   "cell_type": "code",
   "execution_count": null,
   "metadata": {
    "hidden": true
   },
   "outputs": [],
   "source": [
    "word_count=pd.DataFrame(cvec_mat.sum(axis=0),columns=words).T.sort_values(by=0,ascending=False)\n",
    "word_count.rename(columns={0:'Count'},inplace=True)"
   ]
  },
  {
   "cell_type": "code",
   "execution_count": null,
   "metadata": {
    "hidden": true,
    "scrolled": true
   },
   "outputs": [],
   "source": [
    "word_count.head(10)"
   ]
  },
  {
   "cell_type": "code",
   "execution_count": null,
   "metadata": {
    "hidden": true
   },
   "outputs": [],
   "source": [
    "vectorised= pd.DataFrame(cvec.transform(all_words).toarray(),columns=words)\n",
    "vectorised"
   ]
  },
  {
   "cell_type": "code",
   "execution_count": null,
   "metadata": {
    "hidden": true,
    "scrolled": true
   },
   "outputs": [],
   "source": [
    "#Having a look at the different words. There seem to be individual nuumbers like 7 or 5, this comes from the value\n",
    "#ryzen 5 and ryzen 7 (A particular type of cpu). Since ryzen 7 and ryzen 5 is already in vectorised columns\n",
    "#We will eliminate the '5' and '7' columns and others alike that have no relevence.\n",
    "vectorised.columns"
   ]
  },
  {
   "cell_type": "code",
   "execution_count": null,
   "metadata": {
    "hidden": true
   },
   "outputs": [],
   "source": [
    "#Removed 13 columns\n",
    "vectorised.drop(['wi-fi','7','5','9','filled','filled o.e.m.','tbd asrock','i9-9900k product','i7-8700k product','core','o.e.m. tbd','product','version','gaming','product version'],axis=1,inplace=True)"
   ]
  },
  {
   "cell_type": "code",
   "execution_count": null,
   "metadata": {
    "hidden": true
   },
   "outputs": [],
   "source": [
    "len(vectorised.columns)"
   ]
  },
  {
   "cell_type": "code",
   "execution_count": null,
   "metadata": {
    "hidden": true
   },
   "outputs": [],
   "source": [
    "vectorised.columns"
   ]
  },
  {
   "cell_type": "code",
   "execution_count": null,
   "metadata": {
    "hidden": true
   },
   "outputs": [],
   "source": [
    "#Removing all the strings and replacing them as dummifications\n",
    "final_data=pd.concat([data[[col for col in data.columns if col not in x.columns]],vectorised],axis=1)"
   ]
  },
  {
   "cell_type": "code",
   "execution_count": null,
   "metadata": {
    "hidden": true,
    "scrolled": true
   },
   "outputs": [],
   "source": [
    "#These are the top 10 attributes towards the OVERALL_SCORE , regardless of if it is negative.\n",
    "#From personal knowledge the larget factors seem to be of the GTX 2080 ti that impacts the score greatly.\n",
    "final_data.corr()['OVERALL_SCORE'].sort_values(ascending=False)[:10][1:]"
   ]
  },
  {
   "cell_type": "code",
   "execution_count": null,
   "metadata": {
    "hidden": true
   },
   "outputs": [],
   "source": [
    "final_data.to_csv('./huskicapstone.csv',index_label=False)"
   ]
  },
  {
   "cell_type": "markdown",
   "metadata": {},
   "source": [
    "# Standardising Data"
   ]
  },
  {
   "cell_type": "code",
   "execution_count": null,
   "metadata": {
    "scrolled": true
   },
   "outputs": [],
   "source": [
    "data.describe()"
   ]
  },
  {
   "cell_type": "code",
   "execution_count": null,
   "metadata": {},
   "outputs": [],
   "source": [
    "mark"
   ]
  },
  {
   "cell_type": "code",
   "execution_count": 8,
   "metadata": {
    "ExecuteTime": {
     "end_time": "2020-03-09T15:41:21.772036Z",
     "start_time": "2020-03-09T15:41:19.388817Z"
    }
   },
   "outputs": [],
   "source": [
    "from sklearn.linear_model import LinearRegression, ElasticNetCV, ElasticNet, LassoCV\n",
    "from sklearn.model_selection import train_test_split, cross_val_score, KFold , GridSearchCV\n",
    "from sklearn.preprocessing import PolynomialFeatures\n",
    "from sklearn.metrics import mean_squared_error, r2_score\n",
    "from sklearn.preprocessing import StandardScaler\n",
    "from sklearn.tree import DecisionTreeRegressor\n",
    "from sklearn.ensemble import RandomForestRegressor"
   ]
  },
  {
   "cell_type": "code",
   "execution_count": 12,
   "metadata": {
    "ExecuteTime": {
     "end_time": "2020-03-09T15:42:44.163524Z",
     "start_time": "2020-03-09T15:42:41.466649Z"
    }
   },
   "outputs": [],
   "source": [
    "mark=pd.read_csv('./huskicapstone.csv')\n",
    "X = mark.copy()\n",
    "y = X.pop('OVERALL_SCORE')"
   ]
  },
  {
   "cell_type": "code",
   "execution_count": 26,
   "metadata": {
    "ExecuteTime": {
     "end_time": "2020-03-09T15:51:33.581846Z",
     "start_time": "2020-03-09T15:51:33.572876Z"
    }
   },
   "outputs": [],
   "source": [
    "y_pred = [y.mean()]*len(y)"
   ]
  },
  {
   "cell_type": "code",
   "execution_count": 33,
   "metadata": {
    "ExecuteTime": {
     "end_time": "2020-03-09T15:53:44.002389Z",
     "start_time": "2020-03-09T15:53:43.977594Z"
    }
   },
   "outputs": [
    {
     "data": {
      "text/plain": [
       "43.402341314662124"
      ]
     },
     "execution_count": 33,
     "metadata": {},
     "output_type": "execute_result"
    }
   ],
   "source": [
    "(mean_squared_error(y.values,y_pred)**0.5)/y.mean() *100"
   ]
  },
  {
   "cell_type": "code",
   "execution_count": null,
   "metadata": {},
   "outputs": [],
   "source": [
    "mark"
   ]
  },
  {
   "cell_type": "code",
   "execution_count": null,
   "metadata": {},
   "outputs": [],
   "source": [
    "dtale.show(mark)"
   ]
  },
  {
   "cell_type": "code",
   "execution_count": 35,
   "metadata": {
    "ExecuteTime": {
     "end_time": "2020-03-09T20:38:47.503706Z",
     "start_time": "2020-03-09T20:38:46.715574Z"
    }
   },
   "outputs": [],
   "source": [
    "X_train, X_test, y_train, y_test = train_test_split(X,y,test_size=0.2,random_state=1,shuffle=True)"
   ]
  },
  {
   "cell_type": "code",
   "execution_count": 36,
   "metadata": {
    "ExecuteTime": {
     "end_time": "2020-03-09T20:38:49.297618Z",
     "start_time": "2020-03-09T20:38:48.208360Z"
    }
   },
   "outputs": [],
   "source": [
    "scaler = StandardScaler()\n",
    "\n",
    "X_train = pd.DataFrame(scaler.fit_transform(X_train),columns=X_train.columns)\n",
    "X_test  = pd.DataFrame(scaler.transform(X_test),columns = X_test.columns)"
   ]
  },
  {
   "cell_type": "markdown",
   "metadata": {
    "heading_collapsed": true
   },
   "source": [
    "# Power Transformation"
   ]
  },
  {
   "cell_type": "markdown",
   "metadata": {
    "hidden": true
   },
   "source": [
    "### Checking the distribution of features"
   ]
  },
  {
   "cell_type": "code",
   "execution_count": null,
   "metadata": {
    "hidden": true
   },
   "outputs": [],
   "source": [
    "from sklearn.preprocessing import PowerTransformer"
   ]
  },
  {
   "cell_type": "code",
   "execution_count": null,
   "metadata": {
    "hidden": true
   },
   "outputs": [],
   "source": [
    "X_train.hist(figsize=(24,20),bins=50)\n",
    "plt.show()"
   ]
  },
  {
   "cell_type": "code",
   "execution_count": null,
   "metadata": {
    "hidden": true
   },
   "outputs": [],
   "source": [
    "power=PowerTransformer()\n",
    "X_trainp=power.fit_transform(X_train)\n",
    "X_testp=power.transform(X_test)"
   ]
  },
  {
   "cell_type": "code",
   "execution_count": null,
   "metadata": {
    "hidden": true
   },
   "outputs": [],
   "source": [
    "pd.DataFrame(X_trainp, columns=X_train.columns).hist(figsize=(24,20),bins=50)\n",
    "plt.show()"
   ]
  },
  {
   "cell_type": "markdown",
   "metadata": {},
   "source": [
    "# Applying Different Models"
   ]
  },
  {
   "cell_type": "code",
   "execution_count": 9,
   "metadata": {
    "ExecuteTime": {
     "end_time": "2020-03-09T15:41:29.583276Z",
     "start_time": "2020-03-09T15:41:29.579711Z"
    }
   },
   "outputs": [],
   "source": [
    "import pickle"
   ]
  },
  {
   "cell_type": "code",
   "execution_count": 10,
   "metadata": {
    "ExecuteTime": {
     "end_time": "2020-03-09T15:41:30.979367Z",
     "start_time": "2020-03-09T15:41:30.972790Z"
    }
   },
   "outputs": [],
   "source": [
    "#Saving the Models\n",
    "def save_pickle(element,file):\n",
    "    with open(file, 'wb') as handle:\n",
    "        pickle.dump(element, handle, protocol=pickle.HIGHEST_PROTOCOL)\n",
    "\n",
    "#Loading the models\n",
    "def load_pickle(file):\n",
    "    with open(file, 'rb') as handle:\n",
    "        return pickle.load(handle)"
   ]
  },
  {
   "cell_type": "markdown",
   "metadata": {},
   "source": [
    "## Simple Linear Regression"
   ]
  },
  {
   "cell_type": "code",
   "execution_count": null,
   "metadata": {},
   "outputs": [],
   "source": [
    "model = LinearRegression()\n",
    "\n",
    "#Simple Linear Regression\n",
    "model.fit(X_train,y_train)\n",
    "print('Training Score:',model.score(X_train,y_train))\n",
    "print('Test Score:', model.score(X_test,y_test))\n",
    "\n",
    "#Cross Validating the model\n",
    "scores = cross_val_score(model,X_train,y_train,cv=5)\n",
    "print('Mean Cross Validation Training Score:', scores.mean())"
   ]
  },
  {
   "cell_type": "code",
   "execution_count": null,
   "metadata": {},
   "outputs": [],
   "source": [
    "save_pickle(model,'Linear.pkl')"
   ]
  },
  {
   "cell_type": "code",
   "execution_count": 37,
   "metadata": {
    "ExecuteTime": {
     "end_time": "2020-03-09T20:38:53.892812Z",
     "start_time": "2020-03-09T20:38:53.886433Z"
    }
   },
   "outputs": [],
   "source": [
    "linear=load_pickle('Linear.pkl')"
   ]
  },
  {
   "cell_type": "code",
   "execution_count": 38,
   "metadata": {
    "ExecuteTime": {
     "end_time": "2020-03-09T20:38:59.545769Z",
     "start_time": "2020-03-09T20:38:59.519187Z"
    }
   },
   "outputs": [
    {
     "data": {
      "text/plain": [
       "4944.49200283747"
      ]
     },
     "execution_count": 38,
     "metadata": {},
     "output_type": "execute_result"
    }
   ],
   "source": [
    "linear.predict(X_test).mean()"
   ]
  },
  {
   "cell_type": "code",
   "execution_count": null,
   "metadata": {},
   "outputs": [],
   "source": [
    "cross_val_score(linear,X_train,y_train,cv=5).mean()"
   ]
  },
  {
   "cell_type": "code",
   "execution_count": null,
   "metadata": {},
   "outputs": [],
   "source": [
    "linear_df=pd.DataFrame(linear.coef_,index=X.columns)"
   ]
  },
  {
   "cell_type": "code",
   "execution_count": null,
   "metadata": {},
   "outputs": [],
   "source": [
    "linear_df.sort_values(by=0,ascending=False)[:10]"
   ]
  },
  {
   "cell_type": "code",
   "execution_count": 44,
   "metadata": {
    "ExecuteTime": {
     "end_time": "2020-03-09T20:45:57.136467Z",
     "start_time": "2020-03-09T20:45:57.119802Z"
    }
   },
   "outputs": [
    {
     "data": {
      "text/plain": [
       "0.12456681056710044"
      ]
     },
     "execution_count": 44,
     "metadata": {},
     "output_type": "execute_result"
    }
   ],
   "source": [
    "mean_squared_error(y_test,linear.predict(X_test))**0.5/ y_test.mean()"
   ]
  },
  {
   "cell_type": "markdown",
   "metadata": {},
   "source": [
    "## ElasticNetCV"
   ]
  },
  {
   "cell_type": "code",
   "execution_count": null,
   "metadata": {},
   "outputs": [],
   "source": [
    "ratios = np.linspace(0.01,1,25)\n",
    "model = ElasticNetCV(l1_ratio=ratios,n_alphas=100,cv=5,fit_intercept=True)\n",
    "\n",
    "model.fit(X_train,y_train)\n",
    "predictions=model.predict(X_test)"
   ]
  },
  {
   "cell_type": "code",
   "execution_count": 39,
   "metadata": {
    "ExecuteTime": {
     "end_time": "2020-03-09T20:43:04.660890Z",
     "start_time": "2020-03-09T20:43:04.654204Z"
    }
   },
   "outputs": [],
   "source": [
    "#save_pickle(model,'ElasticNetCV.pkl')\n",
    "enet=load_pickle('ElasticNetCV.pkl')"
   ]
  },
  {
   "cell_type": "code",
   "execution_count": 40,
   "metadata": {
    "ExecuteTime": {
     "end_time": "2020-03-09T20:43:05.130336Z",
     "start_time": "2020-03-09T20:43:05.112737Z"
    }
   },
   "outputs": [
    {
     "data": {
      "text/plain": [
       "4944.45695119765"
      ]
     },
     "execution_count": 40,
     "metadata": {},
     "output_type": "execute_result"
    }
   ],
   "source": [
    "enet.predict(X_test).mean()"
   ]
  },
  {
   "cell_type": "code",
   "execution_count": null,
   "metadata": {
    "scrolled": true
   },
   "outputs": [],
   "source": [
    "enet_df=pd.DataFrame(enet.coef_,index=X.columns)"
   ]
  },
  {
   "cell_type": "code",
   "execution_count": null,
   "metadata": {},
   "outputs": [],
   "source": [
    "enet_df.sort_values(by=0,ascending=False)[:10]"
   ]
  },
  {
   "cell_type": "code",
   "execution_count": null,
   "metadata": {},
   "outputs": [],
   "source": [
    "y.mean()"
   ]
  },
  {
   "cell_type": "code",
   "execution_count": 42,
   "metadata": {
    "ExecuteTime": {
     "end_time": "2020-03-09T20:43:16.693431Z",
     "start_time": "2020-03-09T20:43:16.504622Z"
    }
   },
   "outputs": [
    {
     "data": {
      "text/plain": [
       "0.1266657950761987"
      ]
     },
     "execution_count": 42,
     "metadata": {},
     "output_type": "execute_result"
    }
   ],
   "source": [
    "mean_squared_error(y_train,enet.predict(X_train))**0.5/ y.mean()"
   ]
  },
  {
   "cell_type": "code",
   "execution_count": null,
   "metadata": {},
   "outputs": [],
   "source": [
    "print('Best Alpha:', model.alpha_)\n",
    "print('Best l1_ratio:',model.l1_ratio_)   #Suggests that we will be using Lasso , not Ridge\n",
    "print('Training Score:',model.score(X_train,y_train))\n",
    "print('Test Score:',model.score(X_test,y_test))\n",
    "print(cross_val_score(model,X_train,y_train,cv=5).mean())\n",
    "\n",
    "\n",
    "#These RMSE Scores do not really tell anyone anything unless they know what is included in the data\n",
    "#We know that the mean OVERALL_SCORE is 4944.7, and so that is a 12.3% variability.\n",
    "print('Training data RMSE:', mean_squared_error(y_train,model.predict(X_train))**0.5)\n",
    "print('Test data RMSE:', mean_squared_error(y_test,predictions)**0.5)"
   ]
  },
  {
   "cell_type": "code",
   "execution_count": null,
   "metadata": {},
   "outputs": [],
   "source": [
    "cross_val_score(enet,X_train,y_train,cv=5).mean()"
   ]
  },
  {
   "cell_type": "code",
   "execution_count": null,
   "metadata": {},
   "outputs": [],
   "source": [
    "residuals = y_test - enet.predict(X_test)"
   ]
  },
  {
   "cell_type": "code",
   "execution_count": null,
   "metadata": {},
   "outputs": [],
   "source": [
    "residuals.unique()"
   ]
  },
  {
   "cell_type": "code",
   "execution_count": null,
   "metadata": {},
   "outputs": [],
   "source": [
    "fig = plt.figure(figsize=(10,10))\n",
    "ax= fig.gca()\n",
    "\n",
    "sns.distplot(residuals, bins = 100,kde=False)\n",
    "ax.set_ylabel('Count')\n",
    "ax.set_xlabel('Residuals')\n",
    "plt.plot();"
   ]
  },
  {
   "cell_type": "markdown",
   "metadata": {
    "heading_collapsed": true
   },
   "source": [
    "### Attritbutes for ElasticNetCV\n",
    "\n",
    ".l1_ratio_ : tells you the proportionality between Ridge and Lasso  \n",
    ".coef_     : will tell me the correlation between each feature and the target"
   ]
  },
  {
   "cell_type": "markdown",
   "metadata": {
    "heading_collapsed": true
   },
   "source": [
    "### Adding Polynomial Features"
   ]
  },
  {
   "cell_type": "code",
   "execution_count": null,
   "metadata": {
    "hidden": true
   },
   "outputs": [],
   "source": []
  },
  {
   "cell_type": "markdown",
   "metadata": {},
   "source": [
    "## DecisionTreeRegressor"
   ]
  },
  {
   "cell_type": "code",
   "execution_count": null,
   "metadata": {},
   "outputs": [],
   "source": [
    "from sklearn.tree import DecisionTreeRegressor\n",
    "from sklearn.metrics import mean_squared_error, r2_score"
   ]
  },
  {
   "cell_type": "code",
   "execution_count": null,
   "metadata": {},
   "outputs": [],
   "source": [
    "kf= KFold(n_splits =5 ,shuffle = True,random_state =1)\n",
    "model = DecisionTreeRegressor(max_depth=5,random_state=1)\n",
    "\n",
    "model.fit(X_train,y_train)\n",
    "predictions = model.predict(X_test)"
   ]
  },
  {
   "cell_type": "code",
   "execution_count": 45,
   "metadata": {
    "ExecuteTime": {
     "end_time": "2020-03-09T20:46:06.838348Z",
     "start_time": "2020-03-09T20:46:06.806050Z"
    }
   },
   "outputs": [
    {
     "data": {
      "text/plain": [
       "DecisionTreeRegressor(criterion='mse', max_depth=5, max_features=None,\n",
       "                      max_leaf_nodes=None, min_impurity_decrease=0.0,\n",
       "                      min_impurity_split=None, min_samples_leaf=1,\n",
       "                      min_samples_split=2, min_weight_fraction_leaf=0.0,\n",
       "                      presort=False, random_state=1, splitter='best')"
      ]
     },
     "execution_count": 45,
     "metadata": {},
     "output_type": "execute_result"
    }
   ],
   "source": [
    "#save_pickle(model,'DecisionTree.pkl')\n",
    "load_pickle('DecisionTree.pkl')"
   ]
  },
  {
   "cell_type": "code",
   "execution_count": null,
   "metadata": {},
   "outputs": [],
   "source": [
    "print('Decision Tree Scoes:\\n')\n",
    "print('Training Score:',model.score(X_train,y_train))\n",
    "print('Test Score:',model.score(X_test,y_test))\n",
    "print('Cross Validation Score:',cross_val_score(model,X_train,y_train,cv=kf,scoring='r2').mean())"
   ]
  },
  {
   "cell_type": "markdown",
   "metadata": {},
   "source": [
    "### GridSearching Decision Tree"
   ]
  },
  {
   "cell_type": "code",
   "execution_count": null,
   "metadata": {},
   "outputs": [],
   "source": [
    "model = DecisionTreeRegressor(random_state=1)\n",
    "\n",
    "params = {'max_depth':[1,2,3,4,5],\n",
    "          'max_features':[1,5,10,25],\n",
    "          'min_samples_leaf':[1,2,3,4]}\n",
    "\n",
    "gs=GridSearchCV(model,param_grid=params,cv=kf)\n",
    "gs.fit(X_train,y_train)"
   ]
  },
  {
   "cell_type": "code",
   "execution_count": null,
   "metadata": {},
   "outputs": [],
   "source": [
    "#save_pickle(gs,'GridSearchDT.pkl')\n",
    "dtgs=load_pickle('GridSearchDT.pkl')"
   ]
  },
  {
   "cell_type": "code",
   "execution_count": null,
   "metadata": {},
   "outputs": [],
   "source": [
    "dtgs.predict(X_test).mean()"
   ]
  },
  {
   "cell_type": "code",
   "execution_count": null,
   "metadata": {},
   "outputs": [],
   "source": [
    "dtgs_df=pd.DataFrame(dtgs.best_estimator_.feature_importances_,index=X.columns)"
   ]
  },
  {
   "cell_type": "code",
   "execution_count": null,
   "metadata": {},
   "outputs": [],
   "source": [
    "dtgs_df.sort_values(by=0,ascending=False)[:10]"
   ]
  },
  {
   "cell_type": "markdown",
   "metadata": {},
   "source": [
    "### Attributes for Gridsearch:\n",
    "\n",
    "gs.best_estimator_ : if you want to find the best parameters for gridsearch to find the best score for decision tree regression\n",
    "\n",
    "gs.best_score : as expected tells you the best score out of all the possible iterations"
   ]
  },
  {
   "cell_type": "code",
   "execution_count": null,
   "metadata": {},
   "outputs": [],
   "source": [
    "print('Gridsearch Decision Tree Training Score:', gs.score(X_train,y_train))\n",
    "print('Gridsearch Decision Tree Test Score:', gs.score(X_test,y_test))"
   ]
  },
  {
   "cell_type": "markdown",
   "metadata": {},
   "source": [
    "## RandomForestRegressor"
   ]
  },
  {
   "cell_type": "code",
   "execution_count": null,
   "metadata": {},
   "outputs": [],
   "source": [
    "model = RandomForestRegressor(random_state=1)\n",
    "\n",
    "params = {'max_depth':[2,3,4],\n",
    "          'max_features':[1,2,5,10],\n",
    "          'n_estimators': list(np.logspace(0,2,30).astype(int))}\n",
    "\n",
    "gs=GridSearchCV(model,param_grid=params,cv=kf)\n",
    "                        \n",
    "gs.fit(X_train,y_train)"
   ]
  },
  {
   "cell_type": "code",
   "execution_count": null,
   "metadata": {},
   "outputs": [],
   "source": [
    "#save_pickle(gs,'RandomForestGrid.pkl')\n",
    "rfgs=load_pickle('RandomForestGrid.pkl')"
   ]
  },
  {
   "cell_type": "code",
   "execution_count": null,
   "metadata": {},
   "outputs": [],
   "source": [
    "(rfgs.predict(X_test)).mean()"
   ]
  },
  {
   "cell_type": "code",
   "execution_count": null,
   "metadata": {},
   "outputs": [],
   "source": [
    "rfgs_df=pd.DataFrame(rfgs.best_estimator_.feature_importances_,index=X.columns)"
   ]
  },
  {
   "cell_type": "code",
   "execution_count": null,
   "metadata": {
    "scrolled": false
   },
   "outputs": [],
   "source": [
    "rfgs_df.sort_values(by=0,ascending=False)[:10]"
   ]
  },
  {
   "cell_type": "code",
   "execution_count": null,
   "metadata": {},
   "outputs": [],
   "source": [
    "print('Best Training Score:',model.best_score_)\n",
    "print('Test Score:',model.score(X_test,y_test))"
   ]
  },
  {
   "cell_type": "code",
   "execution_count": null,
   "metadata": {},
   "outputs": [],
   "source": [
    "model.score(X_test,y_test)"
   ]
  },
  {
   "cell_type": "code",
   "execution_count": null,
   "metadata": {},
   "outputs": [],
   "source": [
    "print('Training Score:',gs.score(X_train,y_train))\n",
    "print('Test score:',gs.score(X_test,y_test))"
   ]
  },
  {
   "cell_type": "code",
   "execution_count": null,
   "metadata": {},
   "outputs": [],
   "source": []
  },
  {
   "cell_type": "code",
   "execution_count": null,
   "metadata": {},
   "outputs": [],
   "source": [
    "fig = plt.figure(figsize=(10,10))\n",
    "ax= fig.gca()\n",
    "\n",
    "sns.distplot(residuals, bins = 30,kde=False)\n",
    "ax.set_ylabel('Count')\n",
    "ax.set_xlabel('Residuals')\n",
    "plt.plot();"
   ]
  },
  {
   "cell_type": "markdown",
   "metadata": {},
   "source": [
    "# Extra bits"
   ]
  },
  {
   "cell_type": "code",
   "execution_count": null,
   "metadata": {},
   "outputs": [],
   "source": [
    "pf=PolynomialFeatures(degree=2,include_bias=False)\n",
    "X_train_std_pf = pf.fit_transform(X_train_std)\n",
    "X_test_std = pf.transform(X_test_std)"
   ]
  },
  {
   "cell_type": "code",
   "execution_count": null,
   "metadata": {},
   "outputs": [],
   "source": [
    "l1_ratios=np.linspace(0.01,1,25)\n",
    "optimal_enet=ElasticNetCV(l1_ratio=l1_ratios,n_alphas=100,cv=5,verbose=0,tol=0.001)\n",
    "optimal_enet.fit(X_train_std_pf,y_train)\n",
    "#lr.fit(X_train_std_pf,y_train)"
   ]
  },
  {
   "cell_type": "code",
   "execution_count": null,
   "metadata": {
    "scrolled": true
   },
   "outputs": [],
   "source": [
    "cross_val_score(lr,X_train_std_pf,y_train,cv=5).mean()"
   ]
  },
  {
   "cell_type": "markdown",
   "metadata": {},
   "source": [
    "### DataFrames"
   ]
  },
  {
   "cell_type": "code",
   "execution_count": null,
   "metadata": {},
   "outputs": [],
   "source": [
    "linear_predictions=linear.predict(X_test)\n",
    "enet_predictions=enet.predict(X_test)\n",
    "dtgs_prediction=dtgs.predict(X_test)\n",
    "rfgs_predictions=rfgs.predict(X_test)"
   ]
  },
  {
   "cell_type": "code",
   "execution_count": null,
   "metadata": {},
   "outputs": [],
   "source": [
    "models = [linear,enet,dtgs,rfgs]"
   ]
  },
  {
   "cell_type": "code",
   "execution_count": null,
   "metadata": {},
   "outputs": [],
   "source": [
    "training_score=[model.score(X_train,y_train) for model in models]\n",
    "test_score = [model.score(X_test,y_test) for model in models]\n",
    "RMSE_train = [mean_squared_error(y_train,model.predict(X_train))**0.5 for model in models]\n",
    "RMSE_test  = [mean_squared_error(y_test,model.predict(X_test))**0.5 for model in models]"
   ]
  },
  {
   "cell_type": "code",
   "execution_count": null,
   "metadata": {},
   "outputs": [],
   "source": [
    "training_score=pd.DataFrame(training_score,columns=['Training Score'])\n",
    "test_score = pd.DataFrame(test_score,columns=['Test Score'])\n",
    "RMSE_train = pd.DataFrame(RMSE_train,columns=['Train RMSE'])\n",
    "RMSE_test = pd.DataFrame(RMSE_test,columns=['Test RMSE'])"
   ]
  },
  {
   "cell_type": "code",
   "execution_count": null,
   "metadata": {},
   "outputs": [],
   "source": [
    "table=pd.concat([training_score,test_score,RMSE_train,RMSE_test],axis=1)\n",
    "table=table.T\n",
    "table.columns=['Linear Regression','Elastic Net','Decision Tree','Random Forest']\n",
    "table=table.T"
   ]
  },
  {
   "cell_type": "code",
   "execution_count": null,
   "metadata": {},
   "outputs": [],
   "source": [
    "y.mean()"
   ]
  },
  {
   "cell_type": "code",
   "execution_count": null,
   "metadata": {},
   "outputs": [],
   "source": [
    "table"
   ]
  },
  {
   "cell_type": "code",
   "execution_count": null,
   "metadata": {},
   "outputs": [],
   "source": [
    "\n",
    "table[['Train RMSE','Test RMSE']].plot(kind='bar',figsize=(12,8));\n",
    "plt.xticks(rotation=0)\n"
   ]
  },
  {
   "cell_type": "code",
   "execution_count": null,
   "metadata": {
    "scrolled": true
   },
   "outputs": [],
   "source": [
    "linear_coef=pd.DataFrame(linear.coef_,X_train.columns)\n",
    "enet_coef=pd.DataFrame(enet.coef_,X_train.columns)"
   ]
  },
  {
   "cell_type": "code",
   "execution_count": null,
   "metadata": {},
   "outputs": [],
   "source": []
  },
  {
   "cell_type": "code",
   "execution_count": null,
   "metadata": {},
   "outputs": [],
   "source": [
    "linear_coef = linear_coef.sort_values(by=0,ascending=False)[:10]\n",
    "enet_coef=enet_coef.sort_values(by=0,ascending=False)[:10]"
   ]
  },
  {
   "cell_type": "code",
   "execution_count": null,
   "metadata": {},
   "outputs": [],
   "source": [
    "linear_coef.index"
   ]
  },
  {
   "cell_type": "code",
   "execution_count": null,
   "metadata": {},
   "outputs": [],
   "source": [
    "linear_coef.plot(kind='barh',figsize=(12,10));"
   ]
  },
  {
   "cell_type": "code",
   "execution_count": null,
   "metadata": {},
   "outputs": [],
   "source": [
    "enet_coef.plot(kind='barh',figsize=(12,10));"
   ]
  },
  {
   "cell_type": "code",
   "execution_count": null,
   "metadata": {},
   "outputs": [],
   "source": [
    "pd.DataFrame(dtgs.best_estimator_.feature_importances_,columns = ['importances'], index= X_train.columns).sort_values(by='importances',ascending=False)[:10].plot(kind='barh',figsize=(12,10));"
   ]
  },
  {
   "cell_type": "code",
   "execution_count": null,
   "metadata": {},
   "outputs": [],
   "source": [
    "\n",
    "pd.DataFrame(rfgs.best_estimator_.feature_importances_,columns = ['importances'], index= X_train.columns).sort_values(by='importances',ascending=False)[:10].plot(kind='barh',figsize=(12,10));"
   ]
  },
  {
   "cell_type": "code",
   "execution_count": null,
   "metadata": {},
   "outputs": [],
   "source": [
    "rfgs."
   ]
  },
  {
   "cell_type": "code",
   "execution_count": null,
   "metadata": {},
   "outputs": [],
   "source": [
    "pd.DataFrame(linear.coef_,X_train.columns)\n",
    "enet.coef_\n",
    "dtgs.best_estimator_.feature_importances_\n",
    "rfgs.best_estimator_.feature_importances"
   ]
  },
  {
   "cell_type": "code",
   "execution_count": null,
   "metadata": {},
   "outputs": [],
   "source": [
    "data['GPU_NAME'].value_counts()"
   ]
  },
  {
   "cell_type": "code",
   "execution_count": null,
   "metadata": {},
   "outputs": [],
   "source": [
    "data['GPU_NAME'].value_counts().index[:50]"
   ]
  },
  {
   "cell_type": "code",
   "execution_count": null,
   "metadata": {},
   "outputs": [],
   "source": [
    "GPUs=pd.DataFrame(data['GPU_NAME'].value_counts()[:50],index=list(data['GPU_NAME'].value_counts().index[:50]))"
   ]
  },
  {
   "cell_type": "code",
   "execution_count": null,
   "metadata": {},
   "outputs": [],
   "source": [
    "GPUs.plot(kind='barh',figsize=(12,10));"
   ]
  },
  {
   "cell_type": "code",
   "execution_count": null,
   "metadata": {},
   "outputs": [],
   "source": [
    "from IPython.core.display import Image,display\n",
    "from sklearn.tree import export_graphviz\n",
    "from subprocess import call"
   ]
  },
  {
   "cell_type": "code",
   "execution_count": null,
   "metadata": {},
   "outputs": [],
   "source": [
    "export_graphviz(dtgs.best_estimator_,out_file='tree.dot',\n",
    "                feature_names = X_train.columns,\n",
    "                class_names = y.unique(),\n",
    "                rounded=True, proportion = False,\n",
    "                precision = 2, filled=True)\n",
    "call(['dot','-Tpng','tree.dot','-o','tree.png','-Gdpi=600'])\n",
    "Image(filename='tree.png')\n",
    "#dtgs.best_estimator_"
   ]
  },
  {
   "cell_type": "code",
   "execution_count": null,
   "metadata": {
    "scrolled": false
   },
   "outputs": [],
   "source": [
    "plt.figure(figsize=(20,45))\n",
    "sns.countplot(y='GPU_NAME',data=data)\n",
    "plt.show()"
   ]
  },
  {
   "cell_type": "code",
   "execution_count": null,
   "metadata": {},
   "outputs": [],
   "source": [
    "for i,g in enumerate(data['GPU_NAME'].value_counts()[:50]):\n",
    "    print(i,g)"
   ]
  },
  {
   "cell_type": "code",
   "execution_count": 34,
   "metadata": {
    "ExecuteTime": {
     "end_time": "2020-03-09T16:04:14.465275Z",
     "start_time": "2020-03-09T16:04:14.369380Z"
    }
   },
   "outputs": [
    {
     "ename": "NameError",
     "evalue": "name 'data' is not defined",
     "output_type": "error",
     "traceback": [
      "\u001b[0;31m---------------------------------------------------------------------------\u001b[0m",
      "\u001b[0;31mNameError\u001b[0m                                 Traceback (most recent call last)",
      "\u001b[0;32m<ipython-input-34-4cb8a73f1977>\u001b[0m in \u001b[0;36m<module>\u001b[0;34m\u001b[0m\n\u001b[0;32m----> 1\u001b[0;31m \u001b[0mplt\u001b[0m\u001b[0;34m.\u001b[0m\u001b[0mhist\u001b[0m\u001b[0;34m(\u001b[0m\u001b[0mdata\u001b[0m\u001b[0;34m[\u001b[0m\u001b[0;34m'GPU_NAME'\u001b[0m\u001b[0;34m]\u001b[0m\u001b[0;34m.\u001b[0m\u001b[0mvalue_counts\u001b[0m\u001b[0;34m(\u001b[0m\u001b[0;34m)\u001b[0m\u001b[0;34m[\u001b[0m\u001b[0;34m:\u001b[0m\u001b[0;36m50\u001b[0m\u001b[0;34m]\u001b[0m\u001b[0;34m,\u001b[0m\u001b[0;34m)\u001b[0m\u001b[0;34m;\u001b[0m\u001b[0;34m\u001b[0m\u001b[0;34m\u001b[0m\u001b[0m\n\u001b[0m",
      "\u001b[0;31mNameError\u001b[0m: name 'data' is not defined"
     ]
    }
   ],
   "source": [
    "plt.hist(data['GPU_NAME'].value_counts()[:50],);"
   ]
  },
  {
   "cell_type": "markdown",
   "metadata": {},
   "source": [
    "## AWS"
   ]
  },
  {
   "cell_type": "code",
   "execution_count": null,
   "metadata": {},
   "outputs": [],
   "source": [
    "rdd = sc.textFile('s3://capstonehuski/huskicapstone.csv')"
   ]
  },
  {
   "cell_type": "markdown",
   "metadata": {},
   "source": [
    "### Finding the Unique Brands"
   ]
  },
  {
   "cell_type": "code",
   "execution_count": null,
   "metadata": {},
   "outputs": [],
   "source": [
    "# Note : If the GPU_NAME, GPU_SUBSYSTEM_VENDOR,GPU_SUBSYSTEM_MODEL & GPU_BIOS_VERSION - This tells us that they are from the same brand\n"
   ]
  },
  {
   "cell_type": "code",
   "execution_count": null,
   "metadata": {},
   "outputs": [],
   "source": [
    "range(len(data))"
   ]
  },
  {
   "cell_type": "code",
   "execution_count": null,
   "metadata": {},
   "outputs": [],
   "source": [
    "len(data)-data[['GPU_NAME','GPU_SUBSYSTEM_VENDOR','GPU_SUBSYSTEM_MODEL','GPU_BIOS_VERSION']].duplicated().sum()"
   ]
  },
  {
   "cell_type": "markdown",
   "metadata": {},
   "source": [
    "### DESCRIPTION"
   ]
  },
  {
   "cell_type": "code",
   "execution_count": null,
   "metadata": {},
   "outputs": [],
   "source": [
    "DESCR = {'TIMESTAMP'                     :'The time at which the simulation was taken',\n",
    "         'TIME_SPY_PRESET'               :'Letter denoting which Time Spy test it is, X:TimeSpyExtreme',\n",
    "         'OVERALL_SCORE'                 :'3D Mark Score',\n",
    "         'GRAPHICS_SCORE'                :'Score for Graphics Card calculated using the Graphics Test 1 and Graphics Test 2',\n",
    "         'CPU_SCORE'                     :'Score for the CPU. 0 Denotes that the CPU test had failed / crashed ',\n",
    "         'CPU_Name'                      :'CPU name, a K or an X represents whether this CPU is Overclockable or not',\n",
    "         'CPU_MAX_CLOCK_SPEED_UNDER_LOAD':'The maximum clock speed, this may or may not be overclocked, we cannot know unless we know the base clock speed',\n",
    "         'CPU_CORES'                     :'The number of cores',\n",
    "         'CPU_Threads'                   :'Some CPU may be multithreading, and some may be hyperthreading',\n",
    "         'MEMORY_Frequency'              :'The amount of bits being sent per second on one data line (MHz)',\n",
    "         'MEMORY_CHANNELS'               :'The number of memory sticks that were used, generally this will be 1,2 or 4',\n",
    "         'CASLATENCY'                    :'',\n",
    "         'RASTOCASDELAY'                 :'',\n",
    "         'RASPRECHARGE'                  :'',\n",
    "         'TRAS'                          :'',\n",
    "         'COMMANDRATE'                   :'',\n",
    "         'GPU_NAME'                      :'This name will tell us the manufacturer and the Model, however not the branding',\n",
    "         'GPU_COUNT'                     :'The number of GPUs used, most PC\\'s will have 1 or 2 but HEDT (High End Desktop) can have 3 or 4. if 2+ This is called a SLI/Crossfire Configuration depending on the GPU manufacturer'\n",
    "         'GPU_DRIVER_VERSION'            :'The Driver Version',\n",
    "         'GPU_SUBSYSTEM_VENDOR'          :'The Branding of the GPU, Different brands will keep the same infrastructure of the actual ',\n",
    "         'GPU_SUBSYSTEM_MODEL'           :'',\n",
    "         'GPU_BIOS_VERSION'              :'',\n",
    "         'SYSTEM_PRODUCT_NAME'           :'Signifies if the PC was custom built by an individual or was prebuilt by a particular company, E.g. \\'All Stars\\' suggests that it was made by ASUS' \n",
    "         'system_version'                :'',\n",
    "         'MOTHERBOARD_MANUFACTURER'      :'',\n",
    "         'MOTHERBOARD_MODEL'             :'',\n",
    "         'WINDOWS_MAJOR_VERSION'         :'',\n",
    "         'WINDOWS_MINOR_VERSION'         :' '}\n",
    "            \n",
    "         "
   ]
  },
  {
   "cell_type": "markdown",
   "metadata": {},
   "source": [
    "# Presentation"
   ]
  },
  {
   "cell_type": "markdown",
   "metadata": {},
   "source": [
    "What is your aim?  \n",
    "Background explanation of computer components / games / benchmarking (layman’s terms)  \n",
    "Available data and background research  \n",
    "Data and limitations  \n",
    "Project scope (how limited your project will be based on your data)  \n",
    "EDA  \n",
    "Modelling  \n",
    "Future ideas  "
   ]
  },
  {
   "cell_type": "code",
   "execution_count": null,
   "metadata": {},
   "outputs": [],
   "source": []
  }
 ],
 "metadata": {
  "kernelspec": {
   "display_name": "Python 3",
   "language": "python",
   "name": "python3"
  },
  "language_info": {
   "codemirror_mode": {
    "name": "ipython",
    "version": 3
   },
   "file_extension": ".py",
   "mimetype": "text/x-python",
   "name": "python",
   "nbconvert_exporter": "python",
   "pygments_lexer": "ipython3",
   "version": "3.7.4"
  },
  "toc": {
   "base_numbering": 1,
   "nav_menu": {},
   "number_sections": true,
   "sideBar": true,
   "skip_h1_title": false,
   "title_cell": "Table of Contents",
   "title_sidebar": "Contents",
   "toc_cell": true,
   "toc_position": {
    "height": "calc(100% - 180px)",
    "left": "10px",
    "top": "150px",
    "width": "336px"
   },
   "toc_section_display": true,
   "toc_window_display": true
  }
 },
 "nbformat": 4,
 "nbformat_minor": 2
}
