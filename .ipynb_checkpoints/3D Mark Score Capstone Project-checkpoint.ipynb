{
 "cells": [
  {
   "cell_type": "markdown",
   "metadata": {
    "toc": true
   },
   "source": [
    "<h1>Table of Contents<span class=\"tocSkip\"></span></h1>\n",
    "<div class=\"toc\"><ul class=\"toc-item\"><li><span><a href=\"#3D-Mark---The-Optimal-build\" data-toc-modified-id=\"3D-Mark---The-Optimal-build-1\"><span class=\"toc-item-num\">1&nbsp;&nbsp;</span>3D Mark - The Optimal build</a></span><ul class=\"toc-item\"><li><span><a href=\"#Features\" data-toc-modified-id=\"Features-1.1\"><span class=\"toc-item-num\">1.1&nbsp;&nbsp;</span>Features</a></span></li><li><span><a href=\"#Web-Scraping\" data-toc-modified-id=\"Web-Scraping-1.2\"><span class=\"toc-item-num\">1.2&nbsp;&nbsp;</span>Web Scraping</a></span><ul class=\"toc-item\"><li><ul class=\"toc-item\"><li><span><a href=\"#Note:-There-will-be-some-user_id's-where-there-will-not-be-any-results-found.-This-is-due-to-the-fact-that-the-user-has-taken-down-their-results-from-the-website.\" data-toc-modified-id=\"Note:-There-will-be-some-user_id's-where-there-will-not-be-any-results-found.-This-is-due-to-the-fact-that-the-user-has-taken-down-their-results-from-the-website.-1.2.0.1\"><span class=\"toc-item-num\">1.2.0.1&nbsp;&nbsp;</span>Note: There will be some user_id's where there will not be any results found. This is due to the fact that the user has taken down their results from the website.</a></span></li><li><span><a href=\"#If-there-is-nothing-on-that-user,-we-will-replace-with-a-NaN-and-then-remove-them-later-on.\" data-toc-modified-id=\"If-there-is-nothing-on-that-user,-we-will-replace-with-a-NaN-and-then-remove-them-later-on.-1.2.0.2\"><span class=\"toc-item-num\">1.2.0.2&nbsp;&nbsp;</span>If there is nothing on that user, we will replace with a NaN and then remove them later on.</a></span></li></ul></li></ul></li></ul></li><li><span><a href=\"#GPU\" data-toc-modified-id=\"GPU-2\"><span class=\"toc-item-num\">2&nbsp;&nbsp;</span>GPU</a></span></li><li><span><a href=\"#CPU\" data-toc-modified-id=\"CPU-3\"><span class=\"toc-item-num\">3&nbsp;&nbsp;</span>CPU</a></span><ul class=\"toc-item\"><li><span><a href=\"#Trial-Runs-with-just-1-user_id\" data-toc-modified-id=\"Trial-Runs-with-just-1-user_id-3.1\"><span class=\"toc-item-num\">3.1&nbsp;&nbsp;</span>Trial Runs with just 1 user_id</a></span></li></ul></li><li><span><a href=\"#THE-ACTUAL-DATA\" data-toc-modified-id=\"THE-ACTUAL-DATA-4\"><span class=\"toc-item-num\">4&nbsp;&nbsp;</span>THE ACTUAL DATA</a></span><ul class=\"toc-item\"><li><span><a href=\"#Cleaning-&amp;-EDA\" data-toc-modified-id=\"Cleaning-&amp;-EDA-4.1\"><span class=\"toc-item-num\">4.1&nbsp;&nbsp;</span>Cleaning &amp; EDA</a></span><ul class=\"toc-item\"><li><span><a href=\"#EDA-on-numerical-data\" data-toc-modified-id=\"EDA-on-numerical-data-4.1.1\"><span class=\"toc-item-num\">4.1.1&nbsp;&nbsp;</span>EDA on numerical data</a></span></li><li><span><a href=\"#Determining-whether-GPU-is-NVIDIA-or-AMD\" data-toc-modified-id=\"Determining-whether-GPU-is-NVIDIA-or-AMD-4.1.2\"><span class=\"toc-item-num\">4.1.2&nbsp;&nbsp;</span>Determining whether GPU is NVIDIA or AMD</a></span></li></ul></li></ul></li><li><span><a href=\"#COUNT-VECTORIZING\" data-toc-modified-id=\"COUNT-VECTORIZING-5\"><span class=\"toc-item-num\">5&nbsp;&nbsp;</span>COUNT VECTORIZING</a></span><ul class=\"toc-item\"><li><ul class=\"toc-item\"><li><ul class=\"toc-item\"><li><span><a href=\"#We-will-be-doing-some-NLP-and-therefore-will-be-using-the-CountVectorizer-function-to-have-a-look-at-the-number-of-times-a-particular-word-will-come-up.\" data-toc-modified-id=\"We-will-be-doing-some-NLP-and-therefore-will-be-using-the-CountVectorizer-function-to-have-a-look-at-the-number-of-times-a-particular-word-will-come-up.-5.0.0.1\"><span class=\"toc-item-num\">5.0.0.1&nbsp;&nbsp;</span>We will be doing some NLP and therefore will be using the CountVectorizer function to have a look at the number of times a particular word will come up.</a></span></li><li><span><a href=\"#These-are-the-columns-we-will-be-count-vectorizing:\" data-toc-modified-id=\"These-are-the-columns-we-will-be-count-vectorizing:-5.0.0.2\"><span class=\"toc-item-num\">5.0.0.2&nbsp;&nbsp;</span>These are the columns we will be count vectorizing:</a></span></li></ul></li></ul></li></ul></li><li><span><a href=\"#Standardising-Data\" data-toc-modified-id=\"Standardising-Data-6\"><span class=\"toc-item-num\">6&nbsp;&nbsp;</span>Standardising Data</a></span></li><li><span><a href=\"#Power-Transformation\" data-toc-modified-id=\"Power-Transformation-7\"><span class=\"toc-item-num\">7&nbsp;&nbsp;</span>Power Transformation</a></span><ul class=\"toc-item\"><li><ul class=\"toc-item\"><li><span><a href=\"#Checking-the-distribution-of-features\" data-toc-modified-id=\"Checking-the-distribution-of-features-7.0.1\"><span class=\"toc-item-num\">7.0.1&nbsp;&nbsp;</span>Checking the distribution of features</a></span></li></ul></li></ul></li><li><span><a href=\"#Applying-Different-Models\" data-toc-modified-id=\"Applying-Different-Models-8\"><span class=\"toc-item-num\">8&nbsp;&nbsp;</span>Applying Different Models</a></span><ul class=\"toc-item\"><li><span><a href=\"#Simple-Linear-Regression\" data-toc-modified-id=\"Simple-Linear-Regression-8.1\"><span class=\"toc-item-num\">8.1&nbsp;&nbsp;</span>Simple Linear Regression</a></span></li><li><span><a href=\"#ElasticNetCV\" data-toc-modified-id=\"ElasticNetCV-8.2\"><span class=\"toc-item-num\">8.2&nbsp;&nbsp;</span>ElasticNetCV</a></span><ul class=\"toc-item\"><li><span><a href=\"#Attritbutes-for-ElasticNetCV\" data-toc-modified-id=\"Attritbutes-for-ElasticNetCV-8.2.1\"><span class=\"toc-item-num\">8.2.1&nbsp;&nbsp;</span>Attritbutes for ElasticNetCV</a></span></li><li><span><a href=\"#Adding-Polynomial-Features\" data-toc-modified-id=\"Adding-Polynomial-Features-8.2.2\"><span class=\"toc-item-num\">8.2.2&nbsp;&nbsp;</span>Adding Polynomial Features</a></span></li></ul></li><li><span><a href=\"#DecisionTreeRegressor\" data-toc-modified-id=\"DecisionTreeRegressor-8.3\"><span class=\"toc-item-num\">8.3&nbsp;&nbsp;</span>DecisionTreeRegressor</a></span><ul class=\"toc-item\"><li><span><a href=\"#GridSearching-Decision-Tree\" data-toc-modified-id=\"GridSearching-Decision-Tree-8.3.1\"><span class=\"toc-item-num\">8.3.1&nbsp;&nbsp;</span>GridSearching Decision Tree</a></span></li><li><span><a href=\"#Attributes-for-Gridsearch:\" data-toc-modified-id=\"Attributes-for-Gridsearch:-8.3.2\"><span class=\"toc-item-num\">8.3.2&nbsp;&nbsp;</span>Attributes for Gridsearch:</a></span></li></ul></li><li><span><a href=\"#RandomForestRegressor\" data-toc-modified-id=\"RandomForestRegressor-8.4\"><span class=\"toc-item-num\">8.4&nbsp;&nbsp;</span>RandomForestRegressor</a></span></li></ul></li><li><span><a href=\"#Extra-bits\" data-toc-modified-id=\"Extra-bits-9\"><span class=\"toc-item-num\">9&nbsp;&nbsp;</span>Extra bits</a></span><ul class=\"toc-item\"><li><span><a href=\"#AWS\" data-toc-modified-id=\"AWS-9.1\"><span class=\"toc-item-num\">9.1&nbsp;&nbsp;</span>AWS</a></span><ul class=\"toc-item\"><li><span><a href=\"#Finding-the-Unique-Brands\" data-toc-modified-id=\"Finding-the-Unique-Brands-9.1.1\"><span class=\"toc-item-num\">9.1.1&nbsp;&nbsp;</span>Finding the Unique Brands</a></span></li><li><span><a href=\"#DESCRIPTION\" data-toc-modified-id=\"DESCRIPTION-9.1.2\"><span class=\"toc-item-num\">9.1.2&nbsp;&nbsp;</span>DESCRIPTION</a></span></li></ul></li></ul></li><li><span><a href=\"#Presentation\" data-toc-modified-id=\"Presentation-10\"><span class=\"toc-item-num\">10&nbsp;&nbsp;</span>Presentation</a></span></li></ul></div>"
   ]
  },
  {
   "cell_type": "markdown",
   "metadata": {
    "heading_collapsed": true
   },
   "source": [
    "# 3D Mark - The Optimal build"
   ]
  },
  {
   "cell_type": "markdown",
   "metadata": {
    "hidden": true
   },
   "source": [
    "In the world of technology, PCs have been a widely used device for a number of reasons, one of which is used for gaming. PC Gaming has been rapidly increasing over the coming decades due to the versatility of the different builds of a computer. Prices of gaming computers can range from around  £500 all the way up to north of £15,000 and nowadays PCs are being custom built by individuals or are being built by comissioners.\n",
    "\n",
    "Once the PC may be built they may be content with the completed build however, they may come to the realisation that they may not be able to play a particular game ( E.g. Dark Souls 3 ) due to the fact that the CPU/GPU may not be performing as well as they had hoped and therefore they must purchase a brand new component and waste the original component. Things such as GPU's and RAM cards may be re-used and re-sold, but things such as the CPU, Motherboards tend not to be something that people will sell as it is very difficult to remove the CPU from the Motherboard once inserted due to the fact that the pins that connect the two together are very fragile and as soon as one of the pins are damaged/bent , they cannot be used again.\n",
    "\n",
    "Certain PC builds will be run certain games smoothly ( over 60 frames/sec ) and some may not and we are able to have a good idea of whether it does or not by running 3DMark.\n",
    "\n",
    "3DMark is a benchmarking tool that is run on a particular PC and runs a simulation. This simulation primarily takes into account the GPU and the CPU and sees the different kind of intensities they are able to handle with ease. At the end of the simulation, it provides a 3DMark Score where the higher value indicates that it has a higher average performance throughout all different graphic settings.\n",
    "\n",
    "In This capstone project, we will be attempting to predict the 3DMark Score a particular Computer build will have and thus we will be able to have an idea of whether they will be running smoothly or not. \n",
    "\n",
    "We could decide whether we can want to cluster these groups and see if certain builds have similarities and discinction, or we could determine if they will run over 60FPS on average, for all different genres of games."
   ]
  },
  {
   "cell_type": "markdown",
   "metadata": {
    "hidden": true
   },
   "source": [
    "## Features"
   ]
  },
  {
   "cell_type": "markdown",
   "metadata": {
    "hidden": true
   },
   "source": [
    "There are many different features of a PC and we will be looking at the components that the  majority of modern custom built PCs will have. The following will not be considered:\n",
    "\n",
    "* Case / Chassis\n",
    "* Floppy Disk Drive\n",
    "* CD-rom Drive\n",
    "* Modem\n",
    "* Sound Card\n",
    "* SSD / HDD\n",
    "\n",
    "The reason for not including some may be due to the fact that they are redundant / have no effect on the actual simulation.\n",
    "\n",
    "Components that are considered :\n",
    "\n",
    "* GPU ( Graphics Processing Unit )\n",
    "* CPU ( Central Processing Unit )\n",
    "* RAM ( Random Access Memory )\n",
    "* Power Supply\n",
    "* Motherboard\n",
    "* Monitor\n",
    "\n",
    "The GPU, CPU and RAM can also vary due to the model type aswell as whether the CPU is able to be overclocked or not. So we will also be looking into the following features aswell:\n",
    "\n",
    "* GPU\n",
    "    * Manufacturer\n",
    "    * \\# Of GPUs ( 1 - 4)\n",
    "    * SLI = True/False\n",
    "    * Clockspeed (MHz)\n",
    "    * VRAM\n",
    "    * VRAM Bandwidth\n",
    "   \n",
    "* CPU\n",
    "    * Base Clockspeed (Mhz)\n",
    "    * Turbo Clockspeed (Mhz)\n",
    "    * MicroArchitechture\n",
    "    * \\# of Cores\n",
    "    * \\# of Threads"
   ]
  },
  {
   "cell_type": "markdown",
   "metadata": {
    "heading_collapsed": true,
    "hidden": true
   },
   "source": [
    "## Web Scraping"
   ]
  },
  {
   "cell_type": "markdown",
   "metadata": {
    "hidden": true
   },
   "source": [
    "The data will be kindly provided by the company 3DMark,however, while waiting for them to provide the data, I will be scraping some of the data on their website in order to be ready to use my functions well in advance."
   ]
  },
  {
   "cell_type": "markdown",
   "metadata": {
    "hidden": true
   },
   "source": [
    "#### Note: There will be some user_id's where there will not be any results found. This is due to the fact that the user has taken down their results from the website.\n",
    "\n",
    "#### If there is nothing on that user, we will replace with a NaN and then remove them later on."
   ]
  },
  {
   "cell_type": "code",
   "execution_count": null,
   "metadata": {
    "hidden": true
   },
   "outputs": [],
   "source": [
    "results = []\n",
    "users=[]\n",
    "for iterations in range(3):\n",
    "    user_id = random.randint(10000,10000000)\n",
    "    users.append(user_id)\n",
    "    url= \"https://www.3dmark.com/spy/{}\".format(user_id)\n",
    "    r= requests.get(url)\n",
    "    soup=BeautifulSoup(r.text, 'html.parser')\n",
    "    try:\n",
    "        results.append(soup.find('div',attrs={'class':'result-details mr'}))\n",
    "    except:\n",
    "        results.append(np.nan)\n",
    "        \n",
    "        \n",
    "        "
   ]
  },
  {
   "cell_type": "markdown",
   "metadata": {
    "heading_collapsed": true
   },
   "source": [
    "# GPU"
   ]
  },
  {
   "cell_type": "code",
   "execution_count": null,
   "metadata": {
    "hidden": true
   },
   "outputs": [],
   "source": [
    "# Not required\n",
    "def GPU_names(results):\n",
    "    gpu_name=[]\n",
    "    for user in results:\n",
    "        try:\n",
    "            GPU_info = user.find_all('dl',attrs={'class':'data clearfix'})[0]\n",
    "        except:\n",
    "            gpu_name.append(np.nan)\n",
    "        gpu_name.append(GPU_info.find('a',attrs={'class':'hw-link'}).text.strip())\n",
    "    return gpu_name"
   ]
  },
  {
   "cell_type": "code",
   "execution_count": null,
   "metadata": {
    "hidden": true
   },
   "outputs": [],
   "source": [
    "GPU_names(results)"
   ]
  },
  {
   "cell_type": "code",
   "execution_count": null,
   "metadata": {
    "hidden": true
   },
   "outputs": [],
   "source": [
    "all_users=[]\n",
    "for user in range(len(results)):\n",
    "    info=[]\n",
    "    for x in results[user].find_all('dl',attrs={'class':'data clearfix'}):\n",
    "        for i in x.find_all('dd'):\n",
    "            info.append(i.text.strip())\n",
    "    all_users.append(info)"
   ]
  },
  {
   "cell_type": "code",
   "execution_count": null,
   "metadata": {
    "hidden": true
   },
   "outputs": [],
   "source": [
    "all_users[0]"
   ]
  },
  {
   "cell_type": "code",
   "execution_count": null,
   "metadata": {
    "hidden": true
   },
   "outputs": [],
   "source": [
    "info_names=[]\n",
    "for x in results[0].find_all('dl',attrs={'class':'data clearfix'}):\n",
    "    for i in x.find_all('dt'):\n",
    "        info_names.append(i.text.strip())"
   ]
  },
  {
   "cell_type": "code",
   "execution_count": null,
   "metadata": {
    "hidden": true
   },
   "outputs": [],
   "source": [
    "info_names"
   ]
  },
  {
   "cell_type": "code",
   "execution_count": null,
   "metadata": {
    "hidden": true
   },
   "outputs": [],
   "source": [
    "new_all_users=[]\n",
    "for user in all_users:\n",
    "    users=[]\n",
    "    for item in user:\n",
    "        if item not in users:\n",
    "            users.append(item)\n",
    "    new_all_users.append(users)\n",
    "    \n",
    "all_users=new_all_users.copy()"
   ]
  },
  {
   "cell_type": "code",
   "execution_count": null,
   "metadata": {
    "hidden": true,
    "scrolled": true
   },
   "outputs": [],
   "source": [
    "all_users"
   ]
  },
  {
   "cell_type": "code",
   "execution_count": null,
   "metadata": {
    "hidden": true
   },
   "outputs": [],
   "source": [
    "pd.DataFrame(all_users[:2],columns=info_names)"
   ]
  },
  {
   "cell_type": "code",
   "execution_count": null,
   "metadata": {
    "hidden": true
   },
   "outputs": [],
   "source": [
    "GPU_info_vars=[]\n",
    "for x in GPU_info.find_all('dt'):\n",
    "    GPU_info_vars.append(x.text)"
   ]
  },
  {
   "cell_type": "code",
   "execution_count": null,
   "metadata": {
    "hidden": true
   },
   "outputs": [],
   "source": [
    "GPU_info_vars"
   ]
  },
  {
   "cell_type": "code",
   "execution_count": null,
   "metadata": {
    "hidden": true
   },
   "outputs": [],
   "source": [
    "GPU_info_stats=[]\n",
    "for x in GPU_info.find_all('dd'):\n",
    "    GPU_info_stats.append(x.text.strip())"
   ]
  },
  {
   "cell_type": "code",
   "execution_count": null,
   "metadata": {
    "hidden": true
   },
   "outputs": [],
   "source": [
    "CPU_info.find_all('dd'):"
   ]
  },
  {
   "cell_type": "markdown",
   "metadata": {
    "heading_collapsed": true
   },
   "source": [
    "# CPU"
   ]
  },
  {
   "cell_type": "code",
   "execution_count": null,
   "metadata": {
    "hidden": true
   },
   "outputs": [],
   "source": [
    "GPU_results={}\n",
    "CPU_results={}\n",
    "for x in range(len(results)):\n",
    "    GPU_info=results[x].find_all('dl',attrs={'class':'data clearfix'})[0]\n",
    "    CPU_info=results[x].find_all('dl',attrs={'class':'data clearfix'})[1]\n",
    "    \n",
    "    final_results[users[x]['GPU']]={x.text:y.text.strip() for x,y in zip(GPU_info.find_all('dt'),GPU_info.find_all('dd'))}\n",
    "    CPU_results[users[x]]={x.text:y.text.strip() for x,y in zip(CPU_info.find_all('dt'),CPU_info.find_all('dd'))}"
   ]
  },
  {
   "cell_type": "code",
   "execution_count": null,
   "metadata": {
    "hidden": true
   },
   "outputs": [],
   "source": [
    "new_results={x.text:y.text.strip() for x,y in zip(CPU_info.find_all('dt'),CPU_info.find_all('dd'))}"
   ]
  },
  {
   "cell_type": "code",
   "execution_count": null,
   "metadata": {
    "hidden": true
   },
   "outputs": [],
   "source": [
    "#Not required\n",
    "def CPU_names(results):\n",
    "    cpu_name=[]\n",
    "    for user in results:\n",
    "        try:\n",
    "            cpu_info = user.find_all('dl',attrs={'class':'data clearfix'})[1]\n",
    "        except:\n",
    "            cpu_name.append(np.nan)\n",
    "        cpu_name.append(cpu_info.find('a',attrs={'class':'hw-link'}).text.strip())\n",
    "    return cpu_name"
   ]
  },
  {
   "cell_type": "code",
   "execution_count": null,
   "metadata": {
    "hidden": true
   },
   "outputs": [],
   "source": [
    "CPU_names(results)"
   ]
  },
  {
   "cell_type": "code",
   "execution_count": null,
   "metadata": {
    "hidden": true
   },
   "outputs": [],
   "source": [
    "CPU_info=results[0].find_all('dl',attrs={'class':'data clearfix'})[1]"
   ]
  },
  {
   "cell_type": "code",
   "execution_count": null,
   "metadata": {
    "hidden": true
   },
   "outputs": [],
   "source": [
    "CPU_info=[]\n",
    "for user in results:\n",
    "    CPU_info.append(user.find_all('dl',attrs={\"class\",'data clearifx'})[1])"
   ]
  },
  {
   "cell_type": "code",
   "execution_count": null,
   "metadata": {
    "hidden": true
   },
   "outputs": [],
   "source": [
    "CPU_info_vars=[]\n",
    "for x in CPU_info.find_all('dt'):\n",
    "    CPU_info_vars.append(x.text)"
   ]
  },
  {
   "cell_type": "code",
   "execution_count": null,
   "metadata": {
    "hidden": true
   },
   "outputs": [],
   "source": [
    "CPU_info_vars"
   ]
  },
  {
   "cell_type": "code",
   "execution_count": null,
   "metadata": {
    "hidden": true
   },
   "outputs": [],
   "source": [
    "CPU_info_stats=[]\n",
    "for x in CPU_info.find_all('dd'):\n",
    "    CPU_info_stats.append(x.text.strip())"
   ]
  },
  {
   "cell_type": "code",
   "execution_count": null,
   "metadata": {
    "hidden": true
   },
   "outputs": [],
   "source": [
    "CPU_info_stats"
   ]
  },
  {
   "cell_type": "code",
   "execution_count": null,
   "metadata": {
    "hidden": true,
    "scrolled": false
   },
   "outputs": [],
   "source": [
    "boxes = results[1].find_all('dl',{'class':'data clearfix'})\n",
    "dds = boxes[0].find_all('dd')\n",
    "\n",
    "dds"
   ]
  },
  {
   "cell_type": "markdown",
   "metadata": {
    "hidden": true
   },
   "source": [
    "## Trial Runs with just 1 user_id"
   ]
  },
  {
   "cell_type": "code",
   "execution_count": null,
   "metadata": {
    "hidden": true
   },
   "outputs": [],
   "source": [
    "url= \"https://www.3dmark.com/spy/10000001\"\n",
    "r=requests.get(url)\n",
    "soup=BeautifulSoup(r.text,'html.parser')"
   ]
  },
  {
   "cell_type": "code",
   "execution_count": null,
   "metadata": {
    "hidden": true
   },
   "outputs": [],
   "source": [
    "GPU_info =soup.find_all('dl',attrs={'class':'data clearfix'})[0]\n",
    "CPU_info =soup.find_all('dl',attrs={'class':'data clearfix'})[1]\n",
    "misc_info = soup.find_all('dl',attrs={'class':'data clearfix'})[2]"
   ]
  },
  {
   "cell_type": "code",
   "execution_count": null,
   "metadata": {
    "hidden": true,
    "scrolled": false
   },
   "outputs": [],
   "source": [
    "GPU_info"
   ]
  },
  {
   "cell_type": "code",
   "execution_count": null,
   "metadata": {
    "hidden": true
   },
   "outputs": [],
   "source": [
    "def extract_cpu_name(results):\n",
    "    cpu_name=[]\n",
    "    for user in results:\n",
    "        CPU_info = user.find_all('dl',attrs={'class':'data clearfix'})[1]\n",
    "        try:\n",
    "            cpu_name.append(CPU_info.find('a',attrs={'class':'hw-link'}).text)\n",
    "        except:\n",
    "            cpu_name.append\n",
    "    return cpu_name"
   ]
  },
  {
   "cell_type": "code",
   "execution_count": null,
   "metadata": {
    "hidden": true
   },
   "outputs": [],
   "source": [
    "soup.find_all('dl',attrs={'class':'data clearfix'})[1].find_all('dd')[1].text"
   ]
  },
  {
   "cell_type": "code",
   "execution_count": null,
   "metadata": {
    "hidden": true
   },
   "outputs": [],
   "source": [
    "print(soup.find('dl',attrs={'class':'data clearfix'}).findNext(attrs={'class':'data clearfix'}).contents)"
   ]
  },
  {
   "cell_type": "markdown",
   "metadata": {},
   "source": [
    "# THE ACTUAL DATA"
   ]
  },
  {
   "cell_type": "code",
   "execution_count": 4,
   "metadata": {},
   "outputs": [],
   "source": [
    "import pandas as pd\n",
    "import numpy as np\n",
    "from bs4 import BeautifulSoup\n",
    "import requests\n",
    "from tqdm import tqdm_notebook\n",
    "import re\n",
    "import random\n",
    "import matplotlib.pyplot as plt\n",
    "import seaborn as sns\n",
    "from scipy.stats import norm"
   ]
  },
  {
   "cell_type": "code",
   "execution_count": 5,
   "metadata": {},
   "outputs": [],
   "source": [
    "import dtale"
   ]
  },
  {
   "cell_type": "code",
   "execution_count": null,
   "metadata": {},
   "outputs": [],
   "source": [
    "df=pd.read_csv('./3dmark_dataset.csv')"
   ]
  },
  {
   "cell_type": "code",
   "execution_count": null,
   "metadata": {},
   "outputs": [],
   "source": [
    "df"
   ]
  },
  {
   "cell_type": "code",
   "execution_count": null,
   "metadata": {},
   "outputs": [],
   "source": [
    "dtale.show(df)"
   ]
  },
  {
   "cell_type": "markdown",
   "metadata": {},
   "source": [
    "Things to look at : ( suggested by product manager of UL)\n",
    "\n",
    "Verify that with the same CPU, the CPU score scales approximately linearly with the CPU frequency (pick CPUs that support overclocking such as Intel K or X -series to get more data points with different frequencies)  \n",
    "Investigate how memory frequency, memory channels and timings affect the CPU performance - expect it to be different between AMD and Intel and also between different generations and architectures  \n",
    "Investigate how Graphics score scales with changing core & memory clock frequencies with the same GPU\n",
    "Investigate performance differences between different graphics cards and brands and BIOS versions with the same GPU  \n",
    "Check how much score improves with a multi-GPU configuration, is this different between GPUs?  \n",
    "Compare performance of ready-built PCs and DIY PCs with similar components.  \n"
   ]
  },
  {
   "cell_type": "markdown",
   "metadata": {},
   "source": [
    "## Cleaning & EDA"
   ]
  },
  {
   "cell_type": "markdown",
   "metadata": {},
   "source": [
    "Since there are quite a lot of observations where the Overall 3DMark Score are 0, we are going to remove these, since it affects the distribution of it and therefore we will only be looking at the tests in which they were actually successful"
   ]
  },
  {
   "cell_type": "markdown",
   "metadata": {},
   "source": [
    "### EDA on numerical data"
   ]
  },
  {
   "cell_type": "code",
   "execution_count": null,
   "metadata": {},
   "outputs": [],
   "source": [
    "from sklearn.preprocessing import StandardScaler"
   ]
  },
  {
   "cell_type": "markdown",
   "metadata": {},
   "source": [
    "Seemed very interesting to me that the Clock speed seems to have Almost No effect on the OVERALL_SCORE"
   ]
  },
  {
   "cell_type": "code",
   "execution_count": null,
   "metadata": {},
   "outputs": [],
   "source": [
    "#Dropping RASPRECHARGE, since it is practically the same as RASTOCASDELAY\n",
    "df.drop('RASPRECHARGE',axis=1,inplace=True)"
   ]
  },
  {
   "cell_type": "code",
   "execution_count": null,
   "metadata": {},
   "outputs": [],
   "source": [
    "numerical_types = 'int64'\n",
    "fixed_num = df.select_dtypes(include=numerical_types)\n",
    "\n",
    "scaler=StandardScaler()\n",
    "fixed_num  = pd.DataFrame(scaler.fit_transform(fixed_num),columns=fixed_num.columns)"
   ]
  },
  {
   "cell_type": "code",
   "execution_count": null,
   "metadata": {
    "scrolled": false
   },
   "outputs": [],
   "source": [
    "#Seems that CPU_MAX_CLOCK_SPEED_UNDER_LOAD has a big outlier\n",
    "fig= plt.figure(figsize=(15,10))\n",
    "ax=fig.gca()\n",
    "sns.boxplot(data=fixed_num, orient='h', ax=ax, fliersize=5)\n",
    "plt.show()"
   ]
  },
  {
   "cell_type": "code",
   "execution_count": null,
   "metadata": {},
   "outputs": [],
   "source": [
    "sns.distplot(df['OVERALL_SCORE'],kde=False);"
   ]
  },
  {
   "cell_type": "code",
   "execution_count": null,
   "metadata": {},
   "outputs": [],
   "source": [
    "sns.distplot(df['OVERALL_SCORE'],fit=norm,kde=False);"
   ]
  },
  {
   "cell_type": "code",
   "execution_count": null,
   "metadata": {},
   "outputs": [],
   "source": [
    "sns.distplot(df[df['OVERALL_SCORE']!=0]['OVERALL_SCORE'],fit=norm,kde=False);"
   ]
  },
  {
   "cell_type": "code",
   "execution_count": null,
   "metadata": {},
   "outputs": [],
   "source": [
    "data = df[df['OVERALL_SCORE']!=0].copy()"
   ]
  },
  {
   "cell_type": "code",
   "execution_count": null,
   "metadata": {
    "scrolled": false
   },
   "outputs": [],
   "source": [
    "# There are some CPU clock speeds in which there are weird errors such as a value like 2,147,483,647\n",
    "# This number is the maximum value for a 32bit signed binary integer in computing.\n",
    "# In order to filter these, we will limit it to 50,000Mhz as the 2014 world-record for high clock speed is\n",
    "# 8,723MHz per Core\n",
    "data=data[data['CPU_MAX_CLOCK_SPEED_UNDER_LOAD']<10000]\n",
    "\n",
    "#We are also going to round the clock speeds to nearest 100Mhz since these are the ideal clock speeds that they\n",
    "# are wanting\n",
    "\n",
    "#data['CPU_MAX_CLOCK_SPEED_UNDER_LOAD']=data['CPU_MAX_CLOCK_SPEED_UNDER_LOAD'].apply(lambda x: round(x,-2))\n",
    "\n",
    "plt.figure(figsize=(10,8))\n",
    "sns.distplot(data['CPU_MAX_CLOCK_SPEED_UNDER_LOAD'],fit=norm,kde=False,bins=100);"
   ]
  },
  {
   "cell_type": "code",
   "execution_count": null,
   "metadata": {},
   "outputs": [],
   "source": [
    "data['CPU_MAX_CLOCK_SPEED_UNDER_LOAD'].value_counts()[:10]"
   ]
  },
  {
   "cell_type": "code",
   "execution_count": null,
   "metadata": {},
   "outputs": [],
   "source": [
    "plt.figure(figsize=(10,8))\n",
    "sns.distplot(data['CPU_MAX_CLOCK_SPEED_UNDER_LOAD'].apply(lambda x: round(x,-2)),fit=norm,kde=False,bins=75);"
   ]
  },
  {
   "cell_type": "code",
   "execution_count": null,
   "metadata": {},
   "outputs": [],
   "source": [
    "data[(data['CPU_MAX_CLOCK_SPEED_UNDER_LOAD']==5002) | (data['CPU_MAX_CLOCK_SPEED_UNDER_LOAD']==5004)]['CPU_NAME'].value_counts()\n"
   ]
  },
  {
   "cell_type": "code",
   "execution_count": null,
   "metadata": {},
   "outputs": [],
   "source": [
    "# Since most product names have just a default 'System Product Name', we will convert all the NaN values also to\n",
    "# 'System Product name', as it was probably custom-built by individuals and the individuals will not have bothered\n",
    "# to put the name in.\n",
    "data['SYSTEM_PRODUCT_NAME'].fillna('System Product Name',inplace=True)\n",
    "data['system_version'].fillna('System Version',inplace=True)\n",
    "\n",
    "# For all other columns, we will be dropping all the null values as these will all be strings and we cannot \n",
    "# Determine any of the values for the null values\n",
    "data.dropna(inplace=True)\n",
    "\n",
    "#Dropping TIME_SPY_PRESET, since only value is the string 'X' which wont have any effect on the actual \n",
    "data.drop('TIME_SPY_PRESET',axis=1,inplace=True)\n",
    "\n"
   ]
  },
  {
   "cell_type": "code",
   "execution_count": null,
   "metadata": {},
   "outputs": [],
   "source": [
    "def replace_words_manufacturer(x):\n",
    "    \"\"\"\n",
    "    There are alot of mis-spelled company names that are the same, so we will be cleaning up these company names\n",
    "    \n",
    "    \"\"\"\n",
    "    x=x.lower()\n",
    "    \n",
    "    x=x.replace('co., ltd','')\n",
    "    x=x.replace('.','')\n",
    "    x=x.replace('$','')\n",
    "    x=x.replace(',','')\n",
    "    \n",
    "    x=x.replace('ltd','')\n",
    "    x=x.replace('incorporated','')\n",
    "    x=x.replace('inc','')\n",
    "    x=x.replace('ltt','')\n",
    "    x=x.replace('ldd','')\n",
    "    x=x.replace('x79-16d','')\n",
    "    x=x.replace('limited','')\n",
    "    \n",
    "    x=x.replace('corporation','co')\n",
    "    x=x.replace('corproation','co')\n",
    "    x=x.replace('corportion','co')\n",
    "    x=x.replace('technology and development','')\n",
    "    x=x.replace('corp','')\n",
    "    x=x.replace('innovation and technology','')\n",
    "    x=x.replace('technology','')\n",
    "    x=x.replace('international co','')\n",
    "    x=x.replace('international','')\n",
    "\n",
    "    x=x.replace('asustek computer','asus')\n",
    "    x=x.replace('asrockrack','asrock')\n",
    "    x=x.replace('(shenzen)','')\n",
    "    \n",
    "    \"\"\"\n",
    "    \n",
    "    since the string 'co' is in a commpany name called 'colorful' , we cannot change all 'co's to '' as it will\n",
    "    come up with 'lorful'. Same applies for the string 'computer\n",
    "    \n",
    "    \"\"\"\n",
    "    \n",
    "    x=x.replace('colorful  co','colorful')\n",
    "    x=x.replace('yu gong  co','')\n",
    "    \n",
    "    x=x.replace('intel co','intel')\n",
    "    x=x.replace('intel oem','intel')\n",
    "    x=x.replace('amd co','amd')\n",
    "    x=x.replace('onda  co','onda')\n",
    "    \n",
    "    x=x.replace('shinelon computer','shinelon')\n",
    "    \n",
    "    \"\"\"\n",
    "    \n",
    "    There is a manufacturer called 'huananzhizhi' which causes all sorts of problems due to the fact that the name\n",
    "    has repitition within it.\n",
    "    For example : there is a name called 'huanan' and I need to replace it with 'huananzhizhi'\n",
    "    But if i do this, then the company name called 'huananzhizhi' will be called 'huananzhizhizhizhi'\n",
    "    \n",
    "    \"\"\"\n",
    "    \n",
    "    x=x.replace('huananzhi','huanan')\n",
    "    x=x.replace('huanan','huananzhi')\n",
    "    \n",
    "    x=x.replace('to be filled by oem','unknown')\n",
    "    x=x.replace('oem','unknown')\n",
    "    return x\n",
    "\n",
    "data['MOTHERBOARD_MANUFACTURER']=data['MOTHERBOARD_MANUFACTURER'].apply(lambda x:replace_words_manufacturer(x).strip())"
   ]
  },
  {
   "cell_type": "code",
   "execution_count": null,
   "metadata": {},
   "outputs": [],
   "source": [
    "def replace_words_system_version(x):\n",
    "    x=x.lower()\n",
    "    x=x.replace('tbd.','tbd')\n",
    "    x=x.replace('tbd by tbd','tbd')\n",
    "    x=x.replace('to be filled by o.e.m.','tbd')\n",
    "    x=x.replace('not applicable','tbd')\n",
    "    x=x.replace('not specified','tbd')\n",
    "    x=x.replace('invalid','tbd')\n",
    "    x=x.replace('oem','tbd')\n",
    "    \n",
    "    return x\n",
    "\n",
    "data['system_version']=data['system_version'].apply(lambda x: replace_words_system_version(x))"
   ]
  },
  {
   "cell_type": "code",
   "execution_count": null,
   "metadata": {},
   "outputs": [],
   "source": [
    "#Removes Processor from the cpu name to prevent it from coming up from CountVectorizer\n",
    "#The actual CPU names is full clean.\n",
    "data['CPU_NAME']=data['CPU_NAME'].apply(lambda x: x.lower().replace('processor',''))"
   ]
  },
  {
   "cell_type": "code",
   "execution_count": null,
   "metadata": {},
   "outputs": [],
   "source": [
    "# There seems to be some PCs where they have -1 memory channels which is physically impossible, and we will drop\n",
    "# these\n",
    "data=data[(data['MEMORY_CHANNELS']!=-1) & (data['MEMORY_CHANNELS']!=0)]"
   ]
  },
  {
   "cell_type": "code",
   "execution_count": null,
   "metadata": {},
   "outputs": [],
   "source": [
    "#Lets get rid of GPU_CORE_CLOCK_SPEED that are 0, This tells us that the BIOS  (Basic Input Output System) is not reading the GPU's speeds\n",
    "# And we are unable to actually determine the actual clock speed.\n",
    "\n",
    "#Upon further research, the reason why most GPU's numbers are reading 0, is because it is using the Integrated Graphics Card\n",
    "#From the CPU rather than the actual GPU itself and so these GPU_SCORES are not from the GPU.\n",
    "data=data[data['GPU_CORE_CLOCK_SPEED']!=0]"
   ]
  },
  {
   "cell_type": "code",
   "execution_count": null,
   "metadata": {},
   "outputs": [],
   "source": [
    "#This seems reasonable as it is possible to have 16,000Mhz of VRAM for a GPU\n",
    "data['GPU_CORE_CLOCK_SPEED'].max()"
   ]
  },
  {
   "cell_type": "code",
   "execution_count": null,
   "metadata": {
    "scrolled": false
   },
   "outputs": [],
   "source": [
    "#Getting rid of Memory frequencies of 0 , Suggesting RAM is not being read.\n",
    "data=data[data['MEMORY_FREQUENCY']!=0]\n",
    "data.reset_index(inplace=True,drop=True)"
   ]
  },
  {
   "cell_type": "code",
   "execution_count": null,
   "metadata": {},
   "outputs": [],
   "source": [
    "#Lets re-check the data and see if there are still any outliers\n",
    "numerical_types = 'int64'\n",
    "fixed_num = data.select_dtypes(include=numerical_types)\n",
    "\n",
    "scaler=StandardScaler()\n",
    "fixed_num  = pd.DataFrame(scaler.fit_transform(fixed_num),columns=fixed_num.columns)"
   ]
  },
  {
   "cell_type": "code",
   "execution_count": null,
   "metadata": {
    "scrolled": false
   },
   "outputs": [],
   "source": [
    "#Main thing to note,  WINDOWS_MAJOR_VERSION & WINDOWS_MINOR_VERSION are int values however since they are a version\n",
    "#They should be considered a string\n",
    "fig= plt.figure(figsize=(20,20))\n",
    "ax=fig.gca()\n",
    "sns.boxplot(data=fixed_num, orient='h', ax=ax, fliersize=5)\n",
    "plt.show()"
   ]
  },
  {
   "cell_type": "code",
   "execution_count": null,
   "metadata": {},
   "outputs": [],
   "source": [
    "fixed_num  = pd.DataFrame(scaler.fit_transform(fixed_num.drop(['GPU_SUBSYSTEM_VENDOR','GPU_SUBSYSTEM_MODEL','WINDOWS_MAJOR_VERSION','WINDOWS_MINOR_VERSION','WINDOWS_BUILD'],axis=1)),columns=fixed_num.drop(['GPU_SUBSYSTEM_VENDOR','GPU_SUBSYSTEM_MODEL','WINDOWS_MAJOR_VERSION','WINDOWS_MINOR_VERSION','WINDOWS_BUILD'],axis=1).columns)\n",
    "fig= plt.figure(figsize=(15,10))\n",
    "sns.boxplot(data=fixed_num, orient='h', fliersize=5)\n",
    "plt.show()"
   ]
  },
  {
   "cell_type": "code",
   "execution_count": null,
   "metadata": {},
   "outputs": [],
   "source": [
    "#Refer to this https://www.techpowerup.com/articles/64\n",
    "#CASLATENCY : The time interval between each bit of information is sent (units in clock cycles)\n",
    "#Not possible to have -1 cycles\n",
    "print(data['CASLATENCY'].unique())\n",
    "data=data[data['CASLATENCY']!=-1 ]"
   ]
  },
  {
   "cell_type": "code",
   "execution_count": null,
   "metadata": {},
   "outputs": [],
   "source": [
    "#The windows builds doesnt affect the score as mentioned in the technical guide\n",
    "\n",
    "data.drop(['GPU_SUBSYSTEM_VENDOR','GPU_SUBSYSTEM_MODEL','WINDOWS_MAJOR_VERSION','WINDOWS_MINOR_VERSION','WINDOWS_BUILD'],axis=1,inplace=True)\n",
    "data=data.reset_index(drop=True)"
   ]
  },
  {
   "cell_type": "code",
   "execution_count": null,
   "metadata": {},
   "outputs": [],
   "source": [
    "data['CPU_NAME'].value_counts()"
   ]
  },
  {
   "cell_type": "code",
   "execution_count": null,
   "metadata": {},
   "outputs": [],
   "source": [
    "data[data['CPU_NAME']=='intel core i5-6500 ']['CPU_MAX_CLOCK_SPEED_UNDER_LOAD'].mean()"
   ]
  },
  {
   "cell_type": "code",
   "execution_count": null,
   "metadata": {
    "scrolled": false
   },
   "outputs": [],
   "source": [
    "# Looking at the top 3 most used CPUs, alot of the time it does seem to be linearly correlated\n",
    "# Reasoning why the same CPU can have different clock speeds and different scores is because it is overclockable\n",
    "# Where the individual is able to choose how hard the CPU will work.\n",
    "sns.lmplot(x='CPU_MAX_CLOCK_SPEED_UNDER_LOAD',y='CPU_SCORE',data=data[data['CPU_NAME']=='intel core i9-9900k '],ci=None)\n",
    "plt.title('Intel Core I9-9900K (Overclockable)')\n",
    "sns.lmplot(x='CPU_MAX_CLOCK_SPEED_UNDER_LOAD',y='CPU_SCORE',data=data[data['CPU_NAME']=='intel core i7-8700k '],ci=None)\n",
    "plt.title('Intel Core I7-8700K (Overclockable)')\n",
    "sns.lmplot(x='CPU_MAX_CLOCK_SPEED_UNDER_LOAD',y='CPU_SCORE',data=data[data['CPU_NAME']=='amd ryzen 7 2700x'],ci=None,fit_reg=False)\n",
    "plt.title('AMD Ryzen 7 2700X (Overclockable)')\n",
    "\n",
    "plt.show()"
   ]
  },
  {
   "cell_type": "code",
   "execution_count": null,
   "metadata": {},
   "outputs": [],
   "source": [
    "data[(data['CPU_NAME']=='intel core i9-9900k ') & (data['CPU_SCORE']==14347)].columns"
   ]
  },
  {
   "cell_type": "code",
   "execution_count": null,
   "metadata": {},
   "outputs": [],
   "source": [
    "#We are dropping these because we can directly calculate the OVERALL_SCORE by using the formula provided by\n",
    "# 3DMARK Tehcnical guide : https://s3.amazonaws.com/download-aws.futuremark.com/3dmark-technical-guide.pdf\n",
    "data.drop(['GRAPHICS_SCORE','CPU_SCORE'],axis=1,inplace=True)\n",
    "\n",
    "#Timestamp only tells us when the simulation took place, but does not affect the OVERALL_SCORE\n",
    "data.drop('TIMESTAMP',inplace=True,axis=1)"
   ]
  },
  {
   "cell_type": "code",
   "execution_count": null,
   "metadata": {},
   "outputs": [],
   "source": [
    "df[df['CPU_MAX_CLOCK_SPEED_UNDER_LOAD']<10000][['CPU_MAX_CLOCK_SPEED_UNDER_LOAD','OVERALL_SCORE']].corr('spearman')"
   ]
  },
  {
   "cell_type": "code",
   "execution_count": null,
   "metadata": {
    "scrolled": true
   },
   "outputs": [],
   "source": [
    "sns.distplot(df[df['CPU_MAX_CLOCK_SPEED_UNDER_LOAD']<10000]['CPU_MAX_CLOCK_SPEED_UNDER_LOAD'],fit=norm)"
   ]
  },
  {
   "cell_type": "code",
   "execution_count": null,
   "metadata": {},
   "outputs": [],
   "source": [
    "plt.figure(figsize=(20,14))\n",
    "sns.heatmap(data.corr(),annot=True,linewidth=0.1,cmap='YlGnBu',)\n",
    "plt.show()"
   ]
  },
  {
   "cell_type": "code",
   "execution_count": null,
   "metadata": {},
   "outputs": [],
   "source": [
    "data"
   ]
  },
  {
   "cell_type": "code",
   "execution_count": null,
   "metadata": {},
   "outputs": [],
   "source": [
    "sample=data.sample(n=10000,random_state=1)"
   ]
  },
  {
   "cell_type": "code",
   "execution_count": null,
   "metadata": {},
   "outputs": [],
   "source": [
    "plt.figure(figsize=(20,16))\n",
    "sns.pairplot(sample)\n",
    "plt.show()"
   ]
  },
  {
   "cell_type": "markdown",
   "metadata": {},
   "source": [
    "### Determining whether GPU is NVIDIA or AMD"
   ]
  },
  {
   "cell_type": "markdown",
   "metadata": {},
   "source": [
    "We will be using this for later during hypothesis testing"
   ]
  },
  {
   "cell_type": "code",
   "execution_count": null,
   "metadata": {},
   "outputs": [],
   "source": [
    "GPU = pd.DataFrame(data['GPU_NAME']).copy()"
   ]
  },
  {
   "cell_type": "code",
   "execution_count": null,
   "metadata": {},
   "outputs": [],
   "source": [
    "def graphics_card(x):\n",
    "    if 'nvidia' in x.lower():\n",
    "        return 'nvidia'\n",
    "    elif 'amd' in x.lower():\n",
    "        return 'amd'"
   ]
  },
  {
   "cell_type": "code",
   "execution_count": null,
   "metadata": {},
   "outputs": [],
   "source": [
    "GPU['NVIDIA/AMD']= GPU['GPU_NAME'].apply(lambda x: graphics_card(x))"
   ]
  },
  {
   "cell_type": "code",
   "execution_count": null,
   "metadata": {},
   "outputs": [],
   "source": [
    "GPU['NVIDIA/AMD'].value_counts(normalize=True)"
   ]
  },
  {
   "cell_type": "markdown",
   "metadata": {},
   "source": [
    "# COUNT VECTORIZING "
   ]
  },
  {
   "cell_type": "markdown",
   "metadata": {},
   "source": [
    "#### We will be doing some NLP and therefore will be using the CountVectorizer function to have a look at the number of times a particular word will come up.\n",
    "\n",
    "#### These are the columns we will be count vectorizing:\n",
    "GPU_NAME  \n",
    "GPU_DRIVER_VERSION  \n",
    "GPU_BIOS_VERSION  \n",
    "CPU_NAME  \n",
    "SYSTEM_PRODUCT_NAME  \n",
    "system_version  \n",
    "MOTHER_BOARD_MANUFACTURER  \n",
    "MOTHERBOARD_MODEL   "
   ]
  },
  {
   "cell_type": "code",
   "execution_count": null,
   "metadata": {},
   "outputs": [],
   "source": [
    "from sklearn.feature_extraction.text import CountVectorizer\n",
    "import scipy.sparse as sp"
   ]
  },
  {
   "cell_type": "code",
   "execution_count": null,
   "metadata": {},
   "outputs": [],
   "source": [
    "x = data[['GPU_NAME','GPU_DRIVER_VERSION','GPU_BIOS_VERSION',\n",
    "      'CPU_NAME','SYSTEM_PRODUCT_NAME','system_version',\n",
    "      'MOTHERBOARD_MANUFACTURER','MOTHERBOARD_MODEL']]"
   ]
  },
  {
   "cell_type": "code",
   "execution_count": null,
   "metadata": {},
   "outputs": [],
   "source": [
    "all_words=x.apply(lambda y: ' '.join(y), axis = 1)"
   ]
  },
  {
   "cell_type": "code",
   "execution_count": null,
   "metadata": {},
   "outputs": [],
   "source": [
    "cvec= CountVectorizer(stop_words='english',ngram_range=(1,2),max_features=100,token_pattern=r\"(?u)[\\w.-]+|\\w+\")\n",
    "cvec.fit(all_words)"
   ]
  },
  {
   "cell_type": "code",
   "execution_count": null,
   "metadata": {},
   "outputs": [],
   "source": [
    "words=cvec.get_feature_names()\n",
    "cvec_mat = cvec.transform(all_words)"
   ]
  },
  {
   "cell_type": "code",
   "execution_count": null,
   "metadata": {},
   "outputs": [],
   "source": [
    "word_count=pd.DataFrame(cvec_mat.sum(axis=0),columns=words).T.sort_values(by=0,ascending=False)\n",
    "word_count.rename(columns={0:'Count'},inplace=True)"
   ]
  },
  {
   "cell_type": "code",
   "execution_count": null,
   "metadata": {
    "scrolled": true
   },
   "outputs": [],
   "source": [
    "word_count.head(10)"
   ]
  },
  {
   "cell_type": "code",
   "execution_count": null,
   "metadata": {},
   "outputs": [],
   "source": [
    "vectorised= pd.DataFrame(cvec.transform(all_words).toarray(),columns=words)\n",
    "vectorised"
   ]
  },
  {
   "cell_type": "code",
   "execution_count": null,
   "metadata": {
    "scrolled": true
   },
   "outputs": [],
   "source": [
    "#Having a look at the different words. There seem to be individual nuumbers like 7 or 5, this comes from the value\n",
    "#ryzen 5 and ryzen 7 (A particular type of cpu). Since ryzen 7 and ryzen 5 is already in vectorised columns\n",
    "#We will eliminate the '5' and '7' columns and others alike that have no relevence.\n",
    "vectorised.columns"
   ]
  },
  {
   "cell_type": "code",
   "execution_count": null,
   "metadata": {},
   "outputs": [],
   "source": [
    "#Removed 13 columns\n",
    "vectorised.drop(['wi-fi','7','5','9','filled','filled o.e.m.','tbd asrock','i9-9900k product','i7-8700k product','core','o.e.m. tbd','product','version','gaming','product version'],axis=1,inplace=True)"
   ]
  },
  {
   "cell_type": "code",
   "execution_count": null,
   "metadata": {},
   "outputs": [],
   "source": [
    "len(vectorised.columns)"
   ]
  },
  {
   "cell_type": "code",
   "execution_count": null,
   "metadata": {},
   "outputs": [],
   "source": [
    "vectorised.columns"
   ]
  },
  {
   "cell_type": "code",
   "execution_count": null,
   "metadata": {},
   "outputs": [],
   "source": [
    "#Removing all the strings and replacing them as dummifications\n",
    "final_data=pd.concat([data[[col for col in data.columns if col not in x.columns]],vectorised],axis=1)"
   ]
  },
  {
   "cell_type": "code",
   "execution_count": null,
   "metadata": {
    "scrolled": true
   },
   "outputs": [],
   "source": [
    "#These are the top 10 attributes towards the OVERALL_SCORE , regardless of if it is negative.\n",
    "#From personal knowledge the larget factors seem to be of the GTX 2080 ti that impacts the score greatly.\n",
    "final_data.corr()['OVERALL_SCORE'].sort_values(ascending=False)[:10][1:]"
   ]
  },
  {
   "cell_type": "code",
   "execution_count": null,
   "metadata": {},
   "outputs": [],
   "source": [
    "final_data.to_csv('./huskicapstone.csv',index_label=False)"
   ]
  },
  {
   "cell_type": "markdown",
   "metadata": {},
   "source": [
    "# Standardising Data"
   ]
  },
  {
   "cell_type": "code",
   "execution_count": 6,
   "metadata": {},
   "outputs": [],
   "source": [
    "from sklearn.linear_model import LinearRegression, ElasticNetCV, ElasticNet, LassoCV\n",
    "from sklearn.model_selection import train_test_split, cross_val_score, KFold , GridSearchCV\n",
    "from sklearn.preprocessing import PolynomialFeatures\n",
    "from sklearn.metrics import mean_squared_error, r2_score\n",
    "from sklearn.preprocessing import StandardScaler\n",
    "from sklearn.tree import DecisionTreeRegressor\n",
    "from sklearn.ensemble import RandomForestRegressor"
   ]
  },
  {
   "cell_type": "code",
   "execution_count": 7,
   "metadata": {},
   "outputs": [],
   "source": [
    "mark=pd.read_csv('./huskicapstone.csv')\n",
    "X = mark.copy()\n",
    "y = X.pop('OVERALL_SCORE')"
   ]
  },
  {
   "cell_type": "code",
   "execution_count": 8,
   "metadata": {},
   "outputs": [
    {
     "data": {
      "text/html": [
       "<div>\n",
       "<style scoped>\n",
       "    .dataframe tbody tr th:only-of-type {\n",
       "        vertical-align: middle;\n",
       "    }\n",
       "\n",
       "    .dataframe tbody tr th {\n",
       "        vertical-align: top;\n",
       "    }\n",
       "\n",
       "    .dataframe thead th {\n",
       "        text-align: right;\n",
       "    }\n",
       "</style>\n",
       "<table border=\"1\" class=\"dataframe\">\n",
       "  <thead>\n",
       "    <tr style=\"text-align: right;\">\n",
       "      <th></th>\n",
       "      <th>OVERALL_SCORE</th>\n",
       "      <th>CPU_MAX_CLOCK_SPEED_UNDER_LOAD</th>\n",
       "      <th>CPU_CORES</th>\n",
       "      <th>CPU_THREADS</th>\n",
       "      <th>MEMORY_FREQUENCY</th>\n",
       "      <th>MEMORY_CHANNELS</th>\n",
       "      <th>CASLATENCY</th>\n",
       "      <th>RASTOCASDELAY</th>\n",
       "      <th>TRAS</th>\n",
       "      <th>TRC</th>\n",
       "      <th>...</th>\n",
       "      <th>ti</th>\n",
       "      <th>vega</th>\n",
       "      <th>version asus</th>\n",
       "      <th>x</th>\n",
       "      <th>x470</th>\n",
       "      <th>x570</th>\n",
       "      <th>xi</th>\n",
       "      <th>z370</th>\n",
       "      <th>z390</th>\n",
       "      <th>z390 aorus</th>\n",
       "    </tr>\n",
       "  </thead>\n",
       "  <tbody>\n",
       "    <tr>\n",
       "      <td>0</td>\n",
       "      <td>4554</td>\n",
       "      <td>4702</td>\n",
       "      <td>6</td>\n",
       "      <td>12</td>\n",
       "      <td>2398</td>\n",
       "      <td>2</td>\n",
       "      <td>14</td>\n",
       "      <td>16</td>\n",
       "      <td>31</td>\n",
       "      <td>-1</td>\n",
       "      <td>...</td>\n",
       "      <td>1</td>\n",
       "      <td>0</td>\n",
       "      <td>1</td>\n",
       "      <td>0</td>\n",
       "      <td>0</td>\n",
       "      <td>0</td>\n",
       "      <td>0</td>\n",
       "      <td>0</td>\n",
       "      <td>0</td>\n",
       "      <td>0</td>\n",
       "    </tr>\n",
       "    <tr>\n",
       "      <td>1</td>\n",
       "      <td>5233</td>\n",
       "      <td>4700</td>\n",
       "      <td>10</td>\n",
       "      <td>20</td>\n",
       "      <td>3666</td>\n",
       "      <td>4</td>\n",
       "      <td>18</td>\n",
       "      <td>18</td>\n",
       "      <td>36</td>\n",
       "      <td>-1</td>\n",
       "      <td>...</td>\n",
       "      <td>1</td>\n",
       "      <td>0</td>\n",
       "      <td>1</td>\n",
       "      <td>0</td>\n",
       "      <td>0</td>\n",
       "      <td>0</td>\n",
       "      <td>0</td>\n",
       "      <td>0</td>\n",
       "      <td>0</td>\n",
       "      <td>0</td>\n",
       "    </tr>\n",
       "    <tr>\n",
       "      <td>2</td>\n",
       "      <td>7230</td>\n",
       "      <td>4399</td>\n",
       "      <td>6</td>\n",
       "      <td>12</td>\n",
       "      <td>2666</td>\n",
       "      <td>4</td>\n",
       "      <td>15</td>\n",
       "      <td>17</td>\n",
       "      <td>35</td>\n",
       "      <td>-1</td>\n",
       "      <td>...</td>\n",
       "      <td>1</td>\n",
       "      <td>0</td>\n",
       "      <td>1</td>\n",
       "      <td>0</td>\n",
       "      <td>0</td>\n",
       "      <td>0</td>\n",
       "      <td>0</td>\n",
       "      <td>0</td>\n",
       "      <td>0</td>\n",
       "      <td>0</td>\n",
       "    </tr>\n",
       "    <tr>\n",
       "      <td>3</td>\n",
       "      <td>4160</td>\n",
       "      <td>3999</td>\n",
       "      <td>6</td>\n",
       "      <td>12</td>\n",
       "      <td>3198</td>\n",
       "      <td>4</td>\n",
       "      <td>16</td>\n",
       "      <td>18</td>\n",
       "      <td>36</td>\n",
       "      <td>-1</td>\n",
       "      <td>...</td>\n",
       "      <td>1</td>\n",
       "      <td>0</td>\n",
       "      <td>0</td>\n",
       "      <td>0</td>\n",
       "      <td>0</td>\n",
       "      <td>0</td>\n",
       "      <td>0</td>\n",
       "      <td>0</td>\n",
       "      <td>0</td>\n",
       "      <td>0</td>\n",
       "    </tr>\n",
       "    <tr>\n",
       "      <td>4</td>\n",
       "      <td>4727</td>\n",
       "      <td>5204</td>\n",
       "      <td>6</td>\n",
       "      <td>12</td>\n",
       "      <td>2400</td>\n",
       "      <td>2</td>\n",
       "      <td>15</td>\n",
       "      <td>15</td>\n",
       "      <td>35</td>\n",
       "      <td>-1</td>\n",
       "      <td>...</td>\n",
       "      <td>1</td>\n",
       "      <td>0</td>\n",
       "      <td>1</td>\n",
       "      <td>1</td>\n",
       "      <td>0</td>\n",
       "      <td>0</td>\n",
       "      <td>0</td>\n",
       "      <td>0</td>\n",
       "      <td>0</td>\n",
       "      <td>0</td>\n",
       "    </tr>\n",
       "    <tr>\n",
       "      <td>...</td>\n",
       "      <td>...</td>\n",
       "      <td>...</td>\n",
       "      <td>...</td>\n",
       "      <td>...</td>\n",
       "      <td>...</td>\n",
       "      <td>...</td>\n",
       "      <td>...</td>\n",
       "      <td>...</td>\n",
       "      <td>...</td>\n",
       "      <td>...</td>\n",
       "      <td>...</td>\n",
       "      <td>...</td>\n",
       "      <td>...</td>\n",
       "      <td>...</td>\n",
       "      <td>...</td>\n",
       "      <td>...</td>\n",
       "      <td>...</td>\n",
       "      <td>...</td>\n",
       "      <td>...</td>\n",
       "      <td>...</td>\n",
       "      <td>...</td>\n",
       "    </tr>\n",
       "    <tr>\n",
       "      <td>241492</td>\n",
       "      <td>5037</td>\n",
       "      <td>2676</td>\n",
       "      <td>12</td>\n",
       "      <td>48</td>\n",
       "      <td>2110</td>\n",
       "      <td>4</td>\n",
       "      <td>15</td>\n",
       "      <td>15</td>\n",
       "      <td>35</td>\n",
       "      <td>-1</td>\n",
       "      <td>...</td>\n",
       "      <td>0</td>\n",
       "      <td>0</td>\n",
       "      <td>0</td>\n",
       "      <td>0</td>\n",
       "      <td>0</td>\n",
       "      <td>0</td>\n",
       "      <td>0</td>\n",
       "      <td>0</td>\n",
       "      <td>0</td>\n",
       "      <td>0</td>\n",
       "    </tr>\n",
       "    <tr>\n",
       "      <td>241493</td>\n",
       "      <td>6992</td>\n",
       "      <td>4902</td>\n",
       "      <td>8</td>\n",
       "      <td>16</td>\n",
       "      <td>2998</td>\n",
       "      <td>2</td>\n",
       "      <td>15</td>\n",
       "      <td>17</td>\n",
       "      <td>35</td>\n",
       "      <td>-1</td>\n",
       "      <td>...</td>\n",
       "      <td>1</td>\n",
       "      <td>0</td>\n",
       "      <td>1</td>\n",
       "      <td>0</td>\n",
       "      <td>0</td>\n",
       "      <td>0</td>\n",
       "      <td>0</td>\n",
       "      <td>0</td>\n",
       "      <td>0</td>\n",
       "      <td>0</td>\n",
       "    </tr>\n",
       "    <tr>\n",
       "      <td>241494</td>\n",
       "      <td>2632</td>\n",
       "      <td>4192</td>\n",
       "      <td>6</td>\n",
       "      <td>12</td>\n",
       "      <td>2662</td>\n",
       "      <td>2</td>\n",
       "      <td>19</td>\n",
       "      <td>19</td>\n",
       "      <td>43</td>\n",
       "      <td>-1</td>\n",
       "      <td>...</td>\n",
       "      <td>1</td>\n",
       "      <td>0</td>\n",
       "      <td>0</td>\n",
       "      <td>0</td>\n",
       "      <td>0</td>\n",
       "      <td>0</td>\n",
       "      <td>0</td>\n",
       "      <td>0</td>\n",
       "      <td>0</td>\n",
       "      <td>0</td>\n",
       "    </tr>\n",
       "    <tr>\n",
       "      <td>241495</td>\n",
       "      <td>5224</td>\n",
       "      <td>4491</td>\n",
       "      <td>12</td>\n",
       "      <td>24</td>\n",
       "      <td>3592</td>\n",
       "      <td>2</td>\n",
       "      <td>18</td>\n",
       "      <td>19</td>\n",
       "      <td>39</td>\n",
       "      <td>84</td>\n",
       "      <td>...</td>\n",
       "      <td>0</td>\n",
       "      <td>0</td>\n",
       "      <td>1</td>\n",
       "      <td>0</td>\n",
       "      <td>0</td>\n",
       "      <td>0</td>\n",
       "      <td>0</td>\n",
       "      <td>0</td>\n",
       "      <td>0</td>\n",
       "      <td>0</td>\n",
       "    </tr>\n",
       "    <tr>\n",
       "      <td>241496</td>\n",
       "      <td>3064</td>\n",
       "      <td>3799</td>\n",
       "      <td>4</td>\n",
       "      <td>8</td>\n",
       "      <td>1598</td>\n",
       "      <td>2</td>\n",
       "      <td>8</td>\n",
       "      <td>8</td>\n",
       "      <td>24</td>\n",
       "      <td>-1</td>\n",
       "      <td>...</td>\n",
       "      <td>0</td>\n",
       "      <td>0</td>\n",
       "      <td>1</td>\n",
       "      <td>0</td>\n",
       "      <td>0</td>\n",
       "      <td>0</td>\n",
       "      <td>0</td>\n",
       "      <td>0</td>\n",
       "      <td>0</td>\n",
       "      <td>0</td>\n",
       "    </tr>\n",
       "  </tbody>\n",
       "</table>\n",
       "<p>241497 rows × 99 columns</p>\n",
       "</div>"
      ],
      "text/plain": [
       "        OVERALL_SCORE  CPU_MAX_CLOCK_SPEED_UNDER_LOAD  CPU_CORES  CPU_THREADS  \\\n",
       "0                4554                            4702          6           12   \n",
       "1                5233                            4700         10           20   \n",
       "2                7230                            4399          6           12   \n",
       "3                4160                            3999          6           12   \n",
       "4                4727                            5204          6           12   \n",
       "...               ...                             ...        ...          ...   \n",
       "241492           5037                            2676         12           48   \n",
       "241493           6992                            4902          8           16   \n",
       "241494           2632                            4192          6           12   \n",
       "241495           5224                            4491         12           24   \n",
       "241496           3064                            3799          4            8   \n",
       "\n",
       "        MEMORY_FREQUENCY  MEMORY_CHANNELS  CASLATENCY  RASTOCASDELAY  TRAS  \\\n",
       "0                   2398                2          14             16    31   \n",
       "1                   3666                4          18             18    36   \n",
       "2                   2666                4          15             17    35   \n",
       "3                   3198                4          16             18    36   \n",
       "4                   2400                2          15             15    35   \n",
       "...                  ...              ...         ...            ...   ...   \n",
       "241492              2110                4          15             15    35   \n",
       "241493              2998                2          15             17    35   \n",
       "241494              2662                2          19             19    43   \n",
       "241495              3592                2          18             19    39   \n",
       "241496              1598                2           8              8    24   \n",
       "\n",
       "        TRC  ...  ti  vega  version asus  x  x470  x570  xi  z370  z390  \\\n",
       "0        -1  ...   1     0             1  0     0     0   0     0     0   \n",
       "1        -1  ...   1     0             1  0     0     0   0     0     0   \n",
       "2        -1  ...   1     0             1  0     0     0   0     0     0   \n",
       "3        -1  ...   1     0             0  0     0     0   0     0     0   \n",
       "4        -1  ...   1     0             1  1     0     0   0     0     0   \n",
       "...     ...  ...  ..   ...           ... ..   ...   ...  ..   ...   ...   \n",
       "241492   -1  ...   0     0             0  0     0     0   0     0     0   \n",
       "241493   -1  ...   1     0             1  0     0     0   0     0     0   \n",
       "241494   -1  ...   1     0             0  0     0     0   0     0     0   \n",
       "241495   84  ...   0     0             1  0     0     0   0     0     0   \n",
       "241496   -1  ...   0     0             1  0     0     0   0     0     0   \n",
       "\n",
       "        z390 aorus  \n",
       "0                0  \n",
       "1                0  \n",
       "2                0  \n",
       "3                0  \n",
       "4                0  \n",
       "...            ...  \n",
       "241492           0  \n",
       "241493           0  \n",
       "241494           0  \n",
       "241495           0  \n",
       "241496           0  \n",
       "\n",
       "[241497 rows x 99 columns]"
      ]
     },
     "execution_count": 8,
     "metadata": {},
     "output_type": "execute_result"
    }
   ],
   "source": [
    "mark"
   ]
  },
  {
   "cell_type": "code",
   "execution_count": 9,
   "metadata": {},
   "outputs": [
    {
     "data": {
      "text/html": [
       "\n",
       "        <iframe\n",
       "            width=\"100%\"\n",
       "            height=\"350\"\n",
       "            src=\"http://Kis-MacBook-Pro-2.local:40000/dtale/iframe/1\"\n",
       "            frameborder=\"0\"\n",
       "            allowfullscreen\n",
       "        ></iframe>\n",
       "        "
      ],
      "text/plain": [
       "<IPython.lib.display.IFrame at 0x1a1dabe490>"
      ]
     },
     "metadata": {},
     "output_type": "display_data"
    },
    {
     "data": {
      "text/plain": []
     },
     "execution_count": 9,
     "metadata": {},
     "output_type": "execute_result"
    }
   ],
   "source": [
    "dtale.show(mark)"
   ]
  },
  {
   "cell_type": "code",
   "execution_count": 10,
   "metadata": {},
   "outputs": [],
   "source": [
    "X_train, X_test, y_train, y_test = train_test_split(X,y,test_size=0.2,random_state=1,shuffle=True)"
   ]
  },
  {
   "cell_type": "code",
   "execution_count": 11,
   "metadata": {},
   "outputs": [],
   "source": [
    "scaler = StandardScaler()\n",
    "\n",
    "X_train = pd.DataFrame(scaler.fit_transform(X_train),columns=X_train.columns)\n",
    "X_test  = pd.DataFrame(scaler.transform(X_test),columns = X_test.columns)"
   ]
  },
  {
   "cell_type": "markdown",
   "metadata": {},
   "source": [
    "# Power Transformation"
   ]
  },
  {
   "cell_type": "markdown",
   "metadata": {},
   "source": [
    "### Checking the distribution of features"
   ]
  },
  {
   "cell_type": "code",
   "execution_count": null,
   "metadata": {},
   "outputs": [],
   "source": [
    "from sklearn.preprocessing import PowerTransformer"
   ]
  },
  {
   "cell_type": "code",
   "execution_count": null,
   "metadata": {},
   "outputs": [],
   "source": [
    "X_train.hist(figsize=(24,20),bins=50)\n",
    "plt.show()"
   ]
  },
  {
   "cell_type": "code",
   "execution_count": null,
   "metadata": {},
   "outputs": [],
   "source": [
    "power=PowerTransformer()\n",
    "X_trainp=power.fit_transform(X_train)\n",
    "X_testp=power.transform(X_test)"
   ]
  },
  {
   "cell_type": "code",
   "execution_count": null,
   "metadata": {},
   "outputs": [],
   "source": [
    "pd.DataFrame(X_trainp, columns=X_train.columns).hist(figsize=(24,20),bins=50)\n",
    "plt.show()"
   ]
  },
  {
   "cell_type": "markdown",
   "metadata": {},
   "source": [
    "# Applying Different Models"
   ]
  },
  {
   "cell_type": "code",
   "execution_count": 13,
   "metadata": {},
   "outputs": [],
   "source": [
    "import pickle"
   ]
  },
  {
   "cell_type": "code",
   "execution_count": 14,
   "metadata": {},
   "outputs": [],
   "source": [
    "#Saving the Models\n",
    "def save_pickle(element,file):\n",
    "    with open(file, 'wb') as handle:\n",
    "        pickle.dump(element, handle, protocol=pickle.HIGHEST_PROTOCOL)\n",
    "\n",
    "#Loading the models\n",
    "def load_pickle(file):\n",
    "    with open(file, 'rb') as handle:\n",
    "        return pickle.load(handle)"
   ]
  },
  {
   "cell_type": "markdown",
   "metadata": {},
   "source": [
    "## Simple Linear Regression"
   ]
  },
  {
   "cell_type": "code",
   "execution_count": 15,
   "metadata": {},
   "outputs": [
    {
     "name": "stdout",
     "output_type": "stream",
     "text": [
      "Training Score: 0.9158736128799964\n",
      "Test Score: 0.917479398831758\n",
      "Mean Cross Validation Training Score: -4.10893352692561e+17\n"
     ]
    }
   ],
   "source": [
    "model = LinearRegression()\n",
    "\n",
    "#Simple Linear Regression\n",
    "model.fit(X_train,y_train)\n",
    "print('Training Score:',model.score(X_train,y_train))\n",
    "print('Test Score:', model.score(X_test,y_test))\n",
    "\n",
    "#Cross Validating the model\n",
    "scores = cross_val_score(model,X_train,y_train,cv=5)\n",
    "print('Mean Cross Validation Training Score:', scores.mean())"
   ]
  },
  {
   "cell_type": "code",
   "execution_count": 16,
   "metadata": {},
   "outputs": [],
   "source": [
    "save_pickle(model,'Linear.pkl')"
   ]
  },
  {
   "cell_type": "code",
   "execution_count": 37,
   "metadata": {},
   "outputs": [],
   "source": [
    "linear=load_pickle('Linear.pkl')"
   ]
  },
  {
   "cell_type": "code",
   "execution_count": 50,
   "metadata": {},
   "outputs": [],
   "source": [
    "linear_df=pd.DataFrame(linear.coef_,index=X.columns)"
   ]
  },
  {
   "cell_type": "code",
   "execution_count": 61,
   "metadata": {},
   "outputs": [
    {
     "data": {
      "text/html": [
       "<div>\n",
       "<style scoped>\n",
       "    .dataframe tbody tr th:only-of-type {\n",
       "        vertical-align: middle;\n",
       "    }\n",
       "\n",
       "    .dataframe tbody tr th {\n",
       "        vertical-align: top;\n",
       "    }\n",
       "\n",
       "    .dataframe thead th {\n",
       "        text-align: right;\n",
       "    }\n",
       "</style>\n",
       "<table border=\"1\" class=\"dataframe\">\n",
       "  <thead>\n",
       "    <tr style=\"text-align: right;\">\n",
       "      <th></th>\n",
       "      <th>0</th>\n",
       "    </tr>\n",
       "  </thead>\n",
       "  <tbody>\n",
       "    <tr>\n",
       "      <td>rtx 2080</td>\n",
       "      <td>6.965936e+14</td>\n",
       "    </tr>\n",
       "    <tr>\n",
       "      <td>core i9-9900k</td>\n",
       "      <td>5.013485e+14</td>\n",
       "    </tr>\n",
       "    <tr>\n",
       "      <td>i7-8700k</td>\n",
       "      <td>3.163754e+14</td>\n",
       "    </tr>\n",
       "    <tr>\n",
       "      <td>core i7-9700k</td>\n",
       "      <td>2.802951e+14</td>\n",
       "    </tr>\n",
       "    <tr>\n",
       "      <td>default</td>\n",
       "      <td>6.839849e+13</td>\n",
       "    </tr>\n",
       "    <tr>\n",
       "      <td>radeon</td>\n",
       "      <td>3.855903e+13</td>\n",
       "    </tr>\n",
       "    <tr>\n",
       "      <td>default string</td>\n",
       "      <td>3.164233e+13</td>\n",
       "    </tr>\n",
       "    <tr>\n",
       "      <td>maximus xi</td>\n",
       "      <td>3.124512e+13</td>\n",
       "    </tr>\n",
       "    <tr>\n",
       "      <td>rtx</td>\n",
       "      <td>1.147507e+03</td>\n",
       "    </tr>\n",
       "    <tr>\n",
       "      <td>nvidia</td>\n",
       "      <td>1.049095e+03</td>\n",
       "    </tr>\n",
       "  </tbody>\n",
       "</table>\n",
       "</div>"
      ],
      "text/plain": [
       "                           0\n",
       "rtx 2080        6.965936e+14\n",
       "core i9-9900k   5.013485e+14\n",
       "i7-8700k        3.163754e+14\n",
       "core i7-9700k   2.802951e+14\n",
       "default         6.839849e+13\n",
       "radeon          3.855903e+13\n",
       "default string  3.164233e+13\n",
       "maximus xi      3.124512e+13\n",
       "rtx             1.147507e+03\n",
       "nvidia          1.049095e+03"
      ]
     },
     "execution_count": 61,
     "metadata": {},
     "output_type": "execute_result"
    }
   ],
   "source": [
    "linear_df.sort_values(by=0,ascending=False)[:10]"
   ]
  },
  {
   "cell_type": "markdown",
   "metadata": {},
   "source": [
    "## ElasticNetCV"
   ]
  },
  {
   "cell_type": "code",
   "execution_count": 18,
   "metadata": {},
   "outputs": [
    {
     "name": "stderr",
     "output_type": "stream",
     "text": [
      "/Users/Huski/opt/anaconda3/lib/python3.7/site-packages/sklearn/linear_model/coordinate_descent.py:475: ConvergenceWarning:\n",
      "\n",
      "Objective did not converge. You might want to increase the number of iterations. Duality gap: 789532572.2138214, tolerance: 88998206.72165859\n",
      "\n"
     ]
    }
   ],
   "source": [
    "ratios = np.linspace(0.01,1,25)\n",
    "model = ElasticNetCV(l1_ratio=ratios,n_alphas=100,cv=5,fit_intercept=True)\n",
    "\n",
    "model.fit(X_train,y_train)\n",
    "predictions=model.predict(X_test)"
   ]
  },
  {
   "cell_type": "code",
   "execution_count": 19,
   "metadata": {},
   "outputs": [],
   "source": [
    "save_pickle(model,'ElasticNetCV.pkl')\n",
    "enet=load_pickle('ElasticNetCV.pkl')"
   ]
  },
  {
   "cell_type": "code",
   "execution_count": 51,
   "metadata": {
    "scrolled": true
   },
   "outputs": [],
   "source": [
    "enet_df=pd.DataFrame(enet.coef_,index=X.columns)"
   ]
  },
  {
   "cell_type": "code",
   "execution_count": 62,
   "metadata": {},
   "outputs": [
    {
     "data": {
      "text/html": [
       "<div>\n",
       "<style scoped>\n",
       "    .dataframe tbody tr th:only-of-type {\n",
       "        vertical-align: middle;\n",
       "    }\n",
       "\n",
       "    .dataframe tbody tr th {\n",
       "        vertical-align: top;\n",
       "    }\n",
       "\n",
       "    .dataframe thead th {\n",
       "        text-align: right;\n",
       "    }\n",
       "</style>\n",
       "<table border=\"1\" class=\"dataframe\">\n",
       "  <thead>\n",
       "    <tr style=\"text-align: right;\">\n",
       "      <th></th>\n",
       "      <th>0</th>\n",
       "    </tr>\n",
       "  </thead>\n",
       "  <tbody>\n",
       "    <tr>\n",
       "      <td>rtx</td>\n",
       "      <td>1113.093779</td>\n",
       "    </tr>\n",
       "    <tr>\n",
       "      <td>GPU_COUNT</td>\n",
       "      <td>996.826031</td>\n",
       "    </tr>\n",
       "    <tr>\n",
       "      <td>2080</td>\n",
       "      <td>461.644883</td>\n",
       "    </tr>\n",
       "    <tr>\n",
       "      <td>2080 ti</td>\n",
       "      <td>445.553816</td>\n",
       "    </tr>\n",
       "    <tr>\n",
       "      <td>GPU_CORE_CLOCK_SPEED</td>\n",
       "      <td>352.381649</td>\n",
       "    </tr>\n",
       "    <tr>\n",
       "      <td>1080</td>\n",
       "      <td>327.929184</td>\n",
       "    </tr>\n",
       "    <tr>\n",
       "      <td>CPU_THREADS</td>\n",
       "      <td>251.839200</td>\n",
       "    </tr>\n",
       "    <tr>\n",
       "      <td>ti</td>\n",
       "      <td>240.732982</td>\n",
       "    </tr>\n",
       "    <tr>\n",
       "      <td>geforce gtx</td>\n",
       "      <td>182.464006</td>\n",
       "    </tr>\n",
       "    <tr>\n",
       "      <td>nvidia</td>\n",
       "      <td>179.867405</td>\n",
       "    </tr>\n",
       "  </tbody>\n",
       "</table>\n",
       "</div>"
      ],
      "text/plain": [
       "                                0\n",
       "rtx                   1113.093779\n",
       "GPU_COUNT              996.826031\n",
       "2080                   461.644883\n",
       "2080 ti                445.553816\n",
       "GPU_CORE_CLOCK_SPEED   352.381649\n",
       "1080                   327.929184\n",
       "CPU_THREADS            251.839200\n",
       "ti                     240.732982\n",
       "geforce gtx            182.464006\n",
       "nvidia                 179.867405"
      ]
     },
     "execution_count": 62,
     "metadata": {},
     "output_type": "execute_result"
    }
   ],
   "source": [
    "enet_df.sort_values(by=0,ascending=False)[:10]"
   ]
  },
  {
   "cell_type": "code",
   "execution_count": null,
   "metadata": {},
   "outputs": [],
   "source": [
    "y.mean()"
   ]
  },
  {
   "cell_type": "code",
   "execution_count": null,
   "metadata": {},
   "outputs": [],
   "source": [
    "mean_squared_error(y_train,model.predict(X_train))**0.5/ y.mean()"
   ]
  },
  {
   "cell_type": "code",
   "execution_count": 21,
   "metadata": {},
   "outputs": [
    {
     "name": "stdout",
     "output_type": "stream",
     "text": [
      "Best Alpha: 1.3531678029954153\n",
      "Best l1_ratio: 1.0\n",
      "Training Score: 0.9148432191482292\n",
      "Test Score: 0.9164680571837716\n"
     ]
    },
    {
     "name": "stderr",
     "output_type": "stream",
     "text": [
      "/Users/Huski/opt/anaconda3/lib/python3.7/site-packages/sklearn/linear_model/coordinate_descent.py:475: ConvergenceWarning:\n",
      "\n",
      "Objective did not converge. You might want to increase the number of iterations. Duality gap: 570738148.1780624, tolerance: 71518133.73092535\n",
      "\n",
      "/Users/Huski/opt/anaconda3/lib/python3.7/site-packages/sklearn/linear_model/coordinate_descent.py:475: ConvergenceWarning:\n",
      "\n",
      "Objective did not converge. You might want to increase the number of iterations. Duality gap: 623583834.4434662, tolerance: 71019318.41068187\n",
      "\n",
      "/Users/Huski/opt/anaconda3/lib/python3.7/site-packages/sklearn/linear_model/coordinate_descent.py:475: ConvergenceWarning:\n",
      "\n",
      "Objective did not converge. You might want to increase the number of iterations. Duality gap: 1537386096.2157288, tolerance: 71338004.7285444\n",
      "\n",
      "/Users/Huski/opt/anaconda3/lib/python3.7/site-packages/sklearn/linear_model/coordinate_descent.py:475: ConvergenceWarning:\n",
      "\n",
      "Objective did not converge. You might want to increase the number of iterations. Duality gap: 607084171.5935822, tolerance: 70974508.3484148\n",
      "\n"
     ]
    },
    {
     "name": "stdout",
     "output_type": "stream",
     "text": [
      "0.914559360743133\n",
      "Training data RMSE: 626.3254463575502\n",
      "Test data RMSE: 620.0594373579759\n"
     ]
    }
   ],
   "source": [
    "print('Best Alpha:', model.alpha_)\n",
    "print('Best l1_ratio:',model.l1_ratio_)   #Suggests that we will be using Lasso , not Ridge\n",
    "print('Training Score:',model.score(X_train,y_train))\n",
    "print('Test Score:',model.score(X_test,y_test))\n",
    "print(cross_val_score(model,X_train,y_train,cv=5).mean())\n",
    "\n",
    "\n",
    "#These RMSE Scores do not really tell anyone anything unless they know what is included in the data\n",
    "#We know that the mean OVERALL_SCORE is 4944.7, and so that is a 12.3% variability.\n",
    "print('Training data RMSE:', mean_squared_error(y_train,model.predict(X_train))**0.5)\n",
    "print('Test data RMSE:', mean_squared_error(y_test,predictions)**0.5)"
   ]
  },
  {
   "cell_type": "markdown",
   "metadata": {
    "heading_collapsed": true
   },
   "source": [
    "### Attritbutes for ElasticNetCV\n",
    "\n",
    ".l1_ratio_ : tells you the proportionality between Ridge and Lasso  \n",
    ".coef_     : will tell me the correlation between each feature and the target"
   ]
  },
  {
   "cell_type": "markdown",
   "metadata": {
    "heading_collapsed": true
   },
   "source": [
    "### Adding Polynomial Features"
   ]
  },
  {
   "cell_type": "code",
   "execution_count": null,
   "metadata": {
    "hidden": true
   },
   "outputs": [],
   "source": []
  },
  {
   "cell_type": "markdown",
   "metadata": {},
   "source": [
    "## DecisionTreeRegressor"
   ]
  },
  {
   "cell_type": "code",
   "execution_count": 22,
   "metadata": {},
   "outputs": [],
   "source": [
    "from sklearn.tree import DecisionTreeRegressor\n",
    "from sklearn.metrics import mean_squared_error, r2_score"
   ]
  },
  {
   "cell_type": "code",
   "execution_count": 23,
   "metadata": {},
   "outputs": [],
   "source": [
    "kf= KFold(n_splits =5 ,shuffle = True,random_state =1)\n",
    "model = DecisionTreeRegressor(max_depth=5,random_state=1)\n",
    "\n",
    "model.fit(X_train,y_train)\n",
    "predictions = model.predict(X_test)"
   ]
  },
  {
   "cell_type": "code",
   "execution_count": 24,
   "metadata": {},
   "outputs": [
    {
     "data": {
      "text/plain": [
       "DecisionTreeRegressor(criterion='mse', max_depth=5, max_features=None,\n",
       "                      max_leaf_nodes=None, min_impurity_decrease=0.0,\n",
       "                      min_impurity_split=None, min_samples_leaf=1,\n",
       "                      min_samples_split=2, min_weight_fraction_leaf=0.0,\n",
       "                      presort=False, random_state=1, splitter='best')"
      ]
     },
     "execution_count": 24,
     "metadata": {},
     "output_type": "execute_result"
    }
   ],
   "source": [
    "#save_pickle(model,'DecisionTree.pkl')\n",
    "load_pickle('DecisionTree.pkl')"
   ]
  },
  {
   "cell_type": "code",
   "execution_count": null,
   "metadata": {},
   "outputs": [],
   "source": [
    "print('Decision Tree Scoes:\\n')\n",
    "print('Training Score:',model.score(X_train,y_train))\n",
    "print('Test Score:',model.score(X_test,y_test))\n",
    "print('Cross Validation Score:',cross_val_score(model,X_train,y_train,cv=kf,scoring='r2').mean())"
   ]
  },
  {
   "cell_type": "markdown",
   "metadata": {},
   "source": [
    "### GridSearching Decision Tree"
   ]
  },
  {
   "cell_type": "code",
   "execution_count": 25,
   "metadata": {},
   "outputs": [
    {
     "data": {
      "text/plain": [
       "GridSearchCV(cv=KFold(n_splits=5, random_state=1, shuffle=True),\n",
       "             error_score='raise-deprecating',\n",
       "             estimator=DecisionTreeRegressor(criterion='mse', max_depth=None,\n",
       "                                             max_features=None,\n",
       "                                             max_leaf_nodes=None,\n",
       "                                             min_impurity_decrease=0.0,\n",
       "                                             min_impurity_split=None,\n",
       "                                             min_samples_leaf=1,\n",
       "                                             min_samples_split=2,\n",
       "                                             min_weight_fraction_leaf=0.0,\n",
       "                                             presort=False, random_state=1,\n",
       "                                             splitter='best'),\n",
       "             iid='warn', n_jobs=None,\n",
       "             param_grid={'max_depth': [1, 2, 3, 4, 5],\n",
       "                         'max_features': [1, 5, 10, 25],\n",
       "                         'min_samples_leaf': [1, 2, 3, 4]},\n",
       "             pre_dispatch='2*n_jobs', refit=True, return_train_score=False,\n",
       "             scoring=None, verbose=0)"
      ]
     },
     "execution_count": 25,
     "metadata": {},
     "output_type": "execute_result"
    }
   ],
   "source": [
    "model = DecisionTreeRegressor(random_state=1)\n",
    "\n",
    "params = {'max_depth':[1,2,3,4,5],\n",
    "          'max_features':[1,5,10,25],\n",
    "          'min_samples_leaf':[1,2,3,4]}\n",
    "\n",
    "gs=GridSearchCV(model,param_grid=params,cv=kf)\n",
    "gs.fit(X_train,y_train)"
   ]
  },
  {
   "cell_type": "code",
   "execution_count": 42,
   "metadata": {},
   "outputs": [],
   "source": [
    "#save_pickle(gs,'GridSearchDT.pkl')\n",
    "dtgs=load_pickle('GridSearchDT.pkl')"
   ]
  },
  {
   "cell_type": "code",
   "execution_count": 53,
   "metadata": {},
   "outputs": [],
   "source": [
    "dtgs_df=pd.DataFrame(dtgs.best_estimator_.feature_importances_,index=X.columns)"
   ]
  },
  {
   "cell_type": "code",
   "execution_count": 63,
   "metadata": {},
   "outputs": [
    {
     "data": {
      "text/html": [
       "<div>\n",
       "<style scoped>\n",
       "    .dataframe tbody tr th:only-of-type {\n",
       "        vertical-align: middle;\n",
       "    }\n",
       "\n",
       "    .dataframe tbody tr th {\n",
       "        vertical-align: top;\n",
       "    }\n",
       "\n",
       "    .dataframe thead th {\n",
       "        text-align: right;\n",
       "    }\n",
       "</style>\n",
       "<table border=\"1\" class=\"dataframe\">\n",
       "  <thead>\n",
       "    <tr style=\"text-align: right;\">\n",
       "      <th></th>\n",
       "      <th>0</th>\n",
       "    </tr>\n",
       "  </thead>\n",
       "  <tbody>\n",
       "    <tr>\n",
       "      <td>2080 ti</td>\n",
       "      <td>0.523243</td>\n",
       "    </tr>\n",
       "    <tr>\n",
       "      <td>GPU_COUNT</td>\n",
       "      <td>0.160215</td>\n",
       "    </tr>\n",
       "    <tr>\n",
       "      <td>CPU_CORES</td>\n",
       "      <td>0.088323</td>\n",
       "    </tr>\n",
       "    <tr>\n",
       "      <td>CPU_THREADS</td>\n",
       "      <td>0.088057</td>\n",
       "    </tr>\n",
       "    <tr>\n",
       "      <td>MEMORY_FREQUENCY</td>\n",
       "      <td>0.035521</td>\n",
       "    </tr>\n",
       "    <tr>\n",
       "      <td>GPU_CORE_CLOCK_SPEED</td>\n",
       "      <td>0.031449</td>\n",
       "    </tr>\n",
       "    <tr>\n",
       "      <td>rtx 2080</td>\n",
       "      <td>0.023945</td>\n",
       "    </tr>\n",
       "    <tr>\n",
       "      <td>intel</td>\n",
       "      <td>0.015397</td>\n",
       "    </tr>\n",
       "    <tr>\n",
       "      <td>1080</td>\n",
       "      <td>0.009737</td>\n",
       "    </tr>\n",
       "    <tr>\n",
       "      <td>GPU_MEMORY_CLOCK_SPEED</td>\n",
       "      <td>0.008497</td>\n",
       "    </tr>\n",
       "  </tbody>\n",
       "</table>\n",
       "</div>"
      ],
      "text/plain": [
       "                               0\n",
       "2080 ti                 0.523243\n",
       "GPU_COUNT               0.160215\n",
       "CPU_CORES               0.088323\n",
       "CPU_THREADS             0.088057\n",
       "MEMORY_FREQUENCY        0.035521\n",
       "GPU_CORE_CLOCK_SPEED    0.031449\n",
       "rtx 2080                0.023945\n",
       "intel                   0.015397\n",
       "1080                    0.009737\n",
       "GPU_MEMORY_CLOCK_SPEED  0.008497"
      ]
     },
     "execution_count": 63,
     "metadata": {},
     "output_type": "execute_result"
    }
   ],
   "source": [
    "dtgs_df.sort_values(by=0,ascending=False)[:10]"
   ]
  },
  {
   "cell_type": "markdown",
   "metadata": {},
   "source": [
    "### Attributes for Gridsearch:\n",
    "\n",
    "gs.best_estimator_ : if you want to find the best parameters for gridsearch to find the best score for decision tree regression\n",
    "\n",
    "gs.best_score : as expected tells you the best score out of all the possible iterations"
   ]
  },
  {
   "cell_type": "code",
   "execution_count": null,
   "metadata": {},
   "outputs": [],
   "source": [
    "print('Gridsearch Decision Tree Training Score:', gs.score(X_train,y_train))\n",
    "print('Gridsearch Decision Tree Test Score:', gs.score(X_test,y_test))"
   ]
  },
  {
   "cell_type": "markdown",
   "metadata": {},
   "source": [
    "## RandomForestRegressor"
   ]
  },
  {
   "cell_type": "code",
   "execution_count": 28,
   "metadata": {},
   "outputs": [
    {
     "data": {
      "text/plain": [
       "GridSearchCV(cv=KFold(n_splits=5, random_state=1, shuffle=True),\n",
       "             error_score='raise-deprecating',\n",
       "             estimator=RandomForestRegressor(bootstrap=True, criterion='mse',\n",
       "                                             max_depth=None,\n",
       "                                             max_features='auto',\n",
       "                                             max_leaf_nodes=None,\n",
       "                                             min_impurity_decrease=0.0,\n",
       "                                             min_impurity_split=None,\n",
       "                                             min_samples_leaf=1,\n",
       "                                             min_samples_split=2,\n",
       "                                             min_weight_fraction_leaf=0.0,\n",
       "                                             n_estimators='warn', n_jobs=None,\n",
       "                                             oob_score=False, random_state=1,\n",
       "                                             verbose=0, warm_start=False),\n",
       "             iid='warn', n_jobs=None,\n",
       "             param_grid={'max_depth': [2, 3, 4], 'max_features': [1, 2, 5, 10],\n",
       "                         'n_estimators': [1, 1, 1, 1, 1, 2, 2, 3, 3, 4, 4, 5, 6,\n",
       "                                          7, 9, 10, 12, 14, 17, 20, 23, 28, 32,\n",
       "                                          38, 45, 52, 62, 72, 85, 100]},\n",
       "             pre_dispatch='2*n_jobs', refit=True, return_train_score=False,\n",
       "             scoring=None, verbose=0)"
      ]
     },
     "execution_count": 28,
     "metadata": {},
     "output_type": "execute_result"
    }
   ],
   "source": [
    "model = RandomForestRegressor(random_state=1)\n",
    "\n",
    "params = {'max_depth':[2,3,4],\n",
    "          'max_features':[1,2,5,10],\n",
    "          'n_estimators': list(np.logspace(0,2,30).astype(int))}\n",
    "\n",
    "gs=GridSearchCV(model,param_grid=params,cv=kf)\n",
    "                        \n",
    "gs.fit(X_train,y_train)"
   ]
  },
  {
   "cell_type": "code",
   "execution_count": 36,
   "metadata": {},
   "outputs": [],
   "source": [
    "#save_pickle(gs,'RandomForestGrid.pkl')\n",
    "rfgs=load_pickle('RandomForestGrid.pkl')"
   ]
  },
  {
   "cell_type": "code",
   "execution_count": 55,
   "metadata": {},
   "outputs": [],
   "source": [
    "rfgs_df=pd.DataFrame(rfgs.best_estimator_.feature_importances_,index=X.columns)"
   ]
  },
  {
   "cell_type": "code",
   "execution_count": 66,
   "metadata": {
    "scrolled": false
   },
   "outputs": [
    {
     "data": {
      "text/html": [
       "<div>\n",
       "<style scoped>\n",
       "    .dataframe tbody tr th:only-of-type {\n",
       "        vertical-align: middle;\n",
       "    }\n",
       "\n",
       "    .dataframe tbody tr th {\n",
       "        vertical-align: top;\n",
       "    }\n",
       "\n",
       "    .dataframe thead th {\n",
       "        text-align: right;\n",
       "    }\n",
       "</style>\n",
       "<table border=\"1\" class=\"dataframe\">\n",
       "  <thead>\n",
       "    <tr style=\"text-align: right;\">\n",
       "      <th></th>\n",
       "      <th>0</th>\n",
       "    </tr>\n",
       "  </thead>\n",
       "  <tbody>\n",
       "    <tr>\n",
       "      <td>2080</td>\n",
       "      <td>0.255873</td>\n",
       "    </tr>\n",
       "    <tr>\n",
       "      <td>GPU_COUNT</td>\n",
       "      <td>0.207267</td>\n",
       "    </tr>\n",
       "    <tr>\n",
       "      <td>2080 ti</td>\n",
       "      <td>0.164287</td>\n",
       "    </tr>\n",
       "    <tr>\n",
       "      <td>CPU_CORES</td>\n",
       "      <td>0.095884</td>\n",
       "    </tr>\n",
       "    <tr>\n",
       "      <td>rog</td>\n",
       "      <td>0.048289</td>\n",
       "    </tr>\n",
       "    <tr>\n",
       "      <td>rtx</td>\n",
       "      <td>0.032136</td>\n",
       "    </tr>\n",
       "    <tr>\n",
       "      <td>ti</td>\n",
       "      <td>0.031859</td>\n",
       "    </tr>\n",
       "    <tr>\n",
       "      <td>extreme</td>\n",
       "      <td>0.030379</td>\n",
       "    </tr>\n",
       "    <tr>\n",
       "      <td>radeon rx</td>\n",
       "      <td>0.021715</td>\n",
       "    </tr>\n",
       "    <tr>\n",
       "      <td>CPU_THREADS</td>\n",
       "      <td>0.019515</td>\n",
       "    </tr>\n",
       "  </tbody>\n",
       "</table>\n",
       "</div>"
      ],
      "text/plain": [
       "                    0\n",
       "2080         0.255873\n",
       "GPU_COUNT    0.207267\n",
       "2080 ti      0.164287\n",
       "CPU_CORES    0.095884\n",
       "rog          0.048289\n",
       "rtx          0.032136\n",
       "ti           0.031859\n",
       "extreme      0.030379\n",
       "radeon rx    0.021715\n",
       "CPU_THREADS  0.019515"
      ]
     },
     "execution_count": 66,
     "metadata": {},
     "output_type": "execute_result"
    }
   ],
   "source": [
    "rfgs_df.sort_values(by=0,ascending=False)[:10]"
   ]
  },
  {
   "cell_type": "code",
   "execution_count": null,
   "metadata": {},
   "outputs": [],
   "source": [
    "print('Best Training Score:',model.best_score_)\n",
    "print('Test Score:',model.score(X_test,y_test))"
   ]
  },
  {
   "cell_type": "code",
   "execution_count": null,
   "metadata": {},
   "outputs": [],
   "source": [
    "model.score(X_test,y_test)"
   ]
  },
  {
   "cell_type": "code",
   "execution_count": null,
   "metadata": {},
   "outputs": [],
   "source": [
    "print('Training Score:',gs.score(X_train,y_train))\n",
    "print('Test score:',gs.score(X_test,y_test))"
   ]
  },
  {
   "cell_type": "markdown",
   "metadata": {},
   "source": [
    "# Extra bits"
   ]
  },
  {
   "cell_type": "code",
   "execution_count": null,
   "metadata": {},
   "outputs": [],
   "source": [
    "pf=PolynomialFeatures(degree=2,include_bias=False)\n",
    "X_train_std_pf = pf.fit_transform(X_train_std)\n",
    "X_test_std = pf.transform(X_test_std)"
   ]
  },
  {
   "cell_type": "code",
   "execution_count": null,
   "metadata": {},
   "outputs": [],
   "source": [
    "l1_ratios=np.linspace(0.01,1,25)\n",
    "optimal_enet=ElasticNetCV(l1_ratio=l1_ratios,n_alphas=100,cv=5,verbose=0,tol=0.001)\n",
    "optimal_enet.fit(X_train_std_pf,y_train)\n",
    "#lr.fit(X_train_std_pf,y_train)"
   ]
  },
  {
   "cell_type": "code",
   "execution_count": null,
   "metadata": {
    "scrolled": true
   },
   "outputs": [],
   "source": [
    "cross_val_score(lr,X_train_std_pf,y_train,cv=5).mean()"
   ]
  },
  {
   "cell_type": "code",
   "execution_count": null,
   "metadata": {},
   "outputs": [],
   "source": [
    "\n",
    "\n",
    "\n",
    "\n",
    "\n",
    "\n",
    "\n",
    "\n",
    "\n",
    "\n",
    "\n"
   ]
  },
  {
   "cell_type": "markdown",
   "metadata": {},
   "source": [
    "## AWS"
   ]
  },
  {
   "cell_type": "code",
   "execution_count": null,
   "metadata": {},
   "outputs": [],
   "source": [
    "rdd = sc.textFile('s3://capstonehuski/huskicapstone.csv')"
   ]
  },
  {
   "cell_type": "markdown",
   "metadata": {},
   "source": [
    "### Finding the Unique Brands"
   ]
  },
  {
   "cell_type": "code",
   "execution_count": null,
   "metadata": {},
   "outputs": [],
   "source": [
    "# Note : If the GPU_NAME, GPU_SUBSYSTEM_VENDOR,GPU_SUBSYSTEM_MODEL & GPU_BIOS_VERSION - This tells us that they are from the same brand\n"
   ]
  },
  {
   "cell_type": "code",
   "execution_count": null,
   "metadata": {},
   "outputs": [],
   "source": [
    "range(len(data))"
   ]
  },
  {
   "cell_type": "code",
   "execution_count": null,
   "metadata": {},
   "outputs": [],
   "source": [
    "len(data)-data[['GPU_NAME','GPU_SUBSYSTEM_VENDOR','GPU_SUBSYSTEM_MODEL','GPU_BIOS_VERSION']].duplicated().sum()"
   ]
  },
  {
   "cell_type": "markdown",
   "metadata": {},
   "source": [
    "### DESCRIPTION"
   ]
  },
  {
   "cell_type": "code",
   "execution_count": null,
   "metadata": {},
   "outputs": [],
   "source": [
    "DESCR = {'TIMESTAMP'                     :'The time at which the simulation was taken',\n",
    "         'TIME_SPY_PRESET'               :'Letter denoting which Time Spy test it is, X:TimeSpyExtreme',\n",
    "         'OVERALL_SCORE'                 :'3D Mark Score',\n",
    "         'GRAPHICS_SCORE'                :'Score for Graphics Card calculated using the Graphics Test 1 and Graphics Test 2',\n",
    "         'CPU_SCORE'                     :'Score for the CPU. 0 Denotes that the CPU test had failed / crashed ',\n",
    "         'CPU_Name'                      :'CPU name, a K or an X represents whether this CPU is Overclockable or not',\n",
    "         'CPU_MAX_CLOCK_SPEED_UNDER_LOAD':'The maximum clock speed, this may or may not be overclocked, we cannot know unless we know the base clock speed',\n",
    "         'CPU_CORES'                     :'The number of cores',\n",
    "         'CPU_Threads'                   :'Some CPU may be multithreading, and some may be hyperthreading',\n",
    "         'MEMORY_Frequency'              :'The amount of bits being sent per second on one data line (MHz)',\n",
    "         'MEMORY_CHANNELS'               :'The number of memory sticks that were used, generally this will be 1,2 or 4',\n",
    "         'CASLATENCY'                    :'',\n",
    "         'RASTOCASDELAY'                 :'',\n",
    "         'RASPRECHARGE'                  :'',\n",
    "         'TRAS'                          :'',\n",
    "         'COMMANDRATE'                   :'',\n",
    "         'GPU_NAME'                      :'This name will tell us the manufacturer and the Model, however not the branding',\n",
    "         'GPU_COUNT'                     :'The number of GPUs used, most PC\\'s will have 1 or 2 but HEDT (High End Desktop) can have 3 or 4. if 2+ This is called a SLI/Crossfire Configuration depending on the GPU manufacturer'\n",
    "         'GPU_DRIVER_VERSION'            :'The Driver Version',\n",
    "         'GPU_SUBSYSTEM_VENDOR'          :'The Branding of the GPU, Different brands will keep the same infrastructure of the actual ',\n",
    "         'GPU_SUBSYSTEM_MODEL'           :'',\n",
    "         'GPU_BIOS_VERSION'              :'',\n",
    "         'SYSTEM_PRODUCT_NAME'           :'Signifies if the PC was custom built by an individual or was prebuilt by a particular company, E.g. \\'All Stars\\' suggests that it was made by ASUS' \n",
    "         'system_version'                :'',\n",
    "         'MOTHERBOARD_MANUFACTURER'      :'',\n",
    "         'MOTHERBOARD_MODEL'             :'',\n",
    "         'WINDOWS_MAJOR_VERSION'         :'',\n",
    "         'WINDOWS_MINOR_VERSION'         :' '}\n",
    "            \n",
    "         "
   ]
  },
  {
   "cell_type": "markdown",
   "metadata": {},
   "source": [
    "# Presentation"
   ]
  },
  {
   "cell_type": "markdown",
   "metadata": {},
   "source": [
    "What is your aim?  \n",
    "Background explanation of computer components / games / benchmarking (layman’s terms)  \n",
    "Available data and background research  \n",
    "Data and limitations  \n",
    "Project scope (how limited your project will be based on your data)  \n",
    "EDA  \n",
    "Modelling  \n",
    "Future ideas  "
   ]
  },
  {
   "cell_type": "code",
   "execution_count": null,
   "metadata": {},
   "outputs": [],
   "source": []
  }
 ],
 "metadata": {
  "kernelspec": {
   "display_name": "Python 3",
   "language": "python",
   "name": "python3"
  },
  "language_info": {
   "codemirror_mode": {
    "name": "ipython",
    "version": 3
   },
   "file_extension": ".py",
   "mimetype": "text/x-python",
   "name": "python",
   "nbconvert_exporter": "python",
   "pygments_lexer": "ipython3",
   "version": "3.7.4"
  },
  "toc": {
   "base_numbering": 1,
   "nav_menu": {},
   "number_sections": true,
   "sideBar": true,
   "skip_h1_title": false,
   "title_cell": "Table of Contents",
   "title_sidebar": "Contents",
   "toc_cell": true,
   "toc_position": {
    "height": "calc(100% - 180px)",
    "left": "10px",
    "top": "150px",
    "width": "336px"
   },
   "toc_section_display": true,
   "toc_window_display": true
  }
 },
 "nbformat": 4,
 "nbformat_minor": 2
}
