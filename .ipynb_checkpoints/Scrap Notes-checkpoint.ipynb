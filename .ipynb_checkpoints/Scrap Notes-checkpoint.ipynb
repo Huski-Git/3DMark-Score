{
 "cells": [
  {
   "cell_type": "markdown",
   "metadata": {},
   "source": [
    "# Scrap Notes"
   ]
  },
  {
   "cell_type": "code",
   "execution_count": null,
   "metadata": {},
   "outputs": [],
   "source": [
    "results = []\n",
    "users=[]\n",
    "for iterations in range(3):\n",
    "    user_id = random.randint(10000,10000000)\n",
    "    users.append(user_id)\n",
    "    url= \"https://www.3dmark.com/spy/{}\".format(user_id)\n",
    "    r= requests.get(url)\n",
    "    soup=BeautifulSoup(r.text, 'html.parser')\n",
    "    try:\n",
    "        results.append(soup.find('div',attrs={'class':'result-details mr'}))\n",
    "    except:\n",
    "        results.append(np.nan)\n",
    "        "
   ]
  },
  {
   "cell_type": "code",
   "execution_count": null,
   "metadata": {},
   "outputs": [],
   "source": [
    "# Not required\n",
    "def GPU_names(results):\n",
    "    gpu_name=[]\n",
    "    for user in results:\n",
    "        try:\n",
    "            GPU_info = user.find_all('dl',attrs={'class':'data clearfix'})[0]\n",
    "        except:\n",
    "            gpu_name.append(np.nan)\n",
    "        gpu_name.append(GPU_info.find('a',attrs={'class':'hw-link'}).text.strip())\n",
    "    return gpu_name"
   ]
  },
  {
   "cell_type": "code",
   "execution_count": null,
   "metadata": {},
   "outputs": [],
   "source": [
    "all_users=[]\n",
    "for user in range(len(results)):\n",
    "    info=[]\n",
    "    for x in results[user].find_all('dl',attrs={'class':'data clearfix'}):\n",
    "        for i in x.find_all('dd'):\n",
    "            info.append(i.text.strip())\n",
    "    all_users.append(info)"
   ]
  },
  {
   "cell_type": "code",
   "execution_count": null,
   "metadata": {},
   "outputs": [],
   "source": [
    "info_names=[]\n",
    "for x in results[0].find_all('dl',attrs={'class':'data clearfix'}):\n",
    "    for i in x.find_all('dt'):\n",
    "        info_names.append(i.text.strip())"
   ]
  },
  {
   "cell_type": "code",
   "execution_count": null,
   "metadata": {},
   "outputs": [],
   "source": [
    "GPU_info_vars=[]\n",
    "for x in GPU_info.find_all('dt'):\n",
    "    GPU_info_vars.append(x.text)"
   ]
  },
  {
   "cell_type": "code",
   "execution_count": null,
   "metadata": {},
   "outputs": [],
   "source": [
    "GPU_info_stats=[]\n",
    "for x in GPU_info.find_all('dd'):\n",
    "    GPU_info_stats.append(x.text.strip())"
   ]
  }
 ],
 "metadata": {
  "kernelspec": {
   "display_name": "Python 3",
   "language": "python",
   "name": "python3"
  },
  "language_info": {
   "codemirror_mode": {
    "name": "ipython",
    "version": 3
   },
   "file_extension": ".py",
   "mimetype": "text/x-python",
   "name": "python",
   "nbconvert_exporter": "python",
   "pygments_lexer": "ipython3",
   "version": "3.7.4"
  },
  "toc": {
   "base_numbering": 1,
   "nav_menu": {},
   "number_sections": true,
   "sideBar": true,
   "skip_h1_title": false,
   "title_cell": "Table of Contents",
   "title_sidebar": "Contents",
   "toc_cell": false,
   "toc_position": {},
   "toc_section_display": true,
   "toc_window_display": false
  },
  "varInspector": {
   "cols": {
    "lenName": 16,
    "lenType": 16,
    "lenVar": 40
   },
   "kernels_config": {
    "python": {
     "delete_cmd_postfix": "",
     "delete_cmd_prefix": "del ",
     "library": "var_list.py",
     "varRefreshCmd": "print(var_dic_list())"
    },
    "r": {
     "delete_cmd_postfix": ") ",
     "delete_cmd_prefix": "rm(",
     "library": "var_list.r",
     "varRefreshCmd": "cat(var_dic_list()) "
    }
   },
   "types_to_exclude": [
    "module",
    "function",
    "builtin_function_or_method",
    "instance",
    "_Feature"
   ],
   "window_display": false
  }
 },
 "nbformat": 4,
 "nbformat_minor": 2
}
